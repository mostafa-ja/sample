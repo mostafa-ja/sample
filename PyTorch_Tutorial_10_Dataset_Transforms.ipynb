{
  "nbformat": 4,
  "nbformat_minor": 0,
  "metadata": {
    "colab": {
      "name": "PyTorch Tutorial 10 - Dataset Transforms.ipynb",
      "provenance": [],
      "collapsed_sections": [],
      "authorship_tag": "ABX9TyPJCLGOT1vpcx9ERcMt5xW1",
      "include_colab_link": true
    },
    "kernelspec": {
      "name": "python3",
      "display_name": "Python 3"
    },
    "language_info": {
      "name": "python"
    }
  },
  "cells": [
    {
      "cell_type": "markdown",
      "metadata": {
        "id": "view-in-github",
        "colab_type": "text"
      },
      "source": [
        "<a href=\"https://colab.research.google.com/github/mostafa-ja/sample/blob/master/PyTorch_Tutorial_10_Dataset_Transforms.ipynb\" target=\"_parent\"><img src=\"https://colab.research.google.com/assets/colab-badge.svg\" alt=\"Open In Colab\"/></a>"
      ]
    },
    {
      "cell_type": "markdown",
      "source": [
        "[link text](https://www.youtube.com/watch?v=X_QOZEko5uE&list=PLqnslRFeH2UrcDBWF5mfPGpqQDSta6VK4)\n",
        "\n",
        "\n"
      ],
      "metadata": {
        "id": "jruq7WrNpLsB"
      }
    },
    {
      "cell_type": "markdown",
      "source": [
        "# __ call__ in Python\n",
        "\n",
        "The __ call__ method enables Python programmers to write classes where the instances behave like functions and can be called like a function. \n",
        "\n",
        "**IMPORTANT :** When the instance is called as a function; if this method is defined, x(arg1, arg2, ...) is a shorthand for x.__call__(arg1, arg2, ...).\n",
        "\n",
        "EX : model(x) ( which means model.call(x) )\n",
        "\n"
      ],
      "metadata": {
        "id": "qJ0-A5JVpzK3"
      }
    },
    {
      "cell_type": "code",
      "source": [
        "class Product:\n",
        "    def __init__(self):\n",
        "        print(\"Instance Created\")\n",
        "  \n",
        "    # Defining __call__ method\n",
        "    def __call__(self, a, b):\n",
        "        print(a * b)\n",
        "  \n",
        "# Instance created\n",
        "ans = Product()\n",
        "  \n",
        "# __call__ method will be called\n",
        "ans(10, 20)   # means ans.call(10,20)"
      ],
      "metadata": {
        "colab": {
          "base_uri": "https://localhost:8080/"
        },
        "id": "_w_mD3-Sqhlh",
        "outputId": "0c242fd4-2c0a-43f6-88c7-c181c05c42b0"
      },
      "execution_count": 1,
      "outputs": [
        {
          "output_type": "stream",
          "name": "stdout",
          "text": [
            "Instance Created\n",
            "200\n"
          ]
        }
      ]
    },
    {
      "cell_type": "markdown",
      "source": [
        "**Difference between `__forward__` and `__call__` methods**\n",
        "\n",
        "When you call something as class_object(params) it invokes the __ call__ method of that class.\n",
        "\n",
        "If you dig the code of torch, specifically nn.Module you will see that __ call__ internally invokes forward but taking care of hooks and states that pytorch allows. \n",
        "\n",
        "\n",
        "\n"
      ],
      "metadata": {
        "id": "-_kifefQpZTQ"
      }
    },
    {
      "cell_type": "code",
      "execution_count": 2,
      "metadata": {
        "id": "l5SNCPu4m0Zt"
      },
      "outputs": [],
      "source": [
        "import torch\n",
        "import torchvision\n",
        "from torch.utils.data import Dataset\n",
        "import numpy as np"
      ]
    },
    {
      "cell_type": "code",
      "source": [
        "#data is (178, 14) and first column is y (1 or 2 or 3)\n",
        "!wget https://raw.githubusercontent.com/python-engineer/pytorchTutorial/master/data/wine/wine.csv"
      ],
      "metadata": {
        "colab": {
          "base_uri": "https://localhost:8080/"
        },
        "id": "7jhh-5KFsFhK",
        "outputId": "183825a0-d700-4b20-a147-86b899ba726b"
      },
      "execution_count": 3,
      "outputs": [
        {
          "output_type": "stream",
          "name": "stdout",
          "text": [
            "--2022-08-10 16:57:40--  https://raw.githubusercontent.com/python-engineer/pytorchTutorial/master/data/wine/wine.csv\n",
            "Resolving raw.githubusercontent.com (raw.githubusercontent.com)... 185.199.108.133, 185.199.109.133, 185.199.110.133, ...\n",
            "Connecting to raw.githubusercontent.com (raw.githubusercontent.com)|185.199.108.133|:443... connected.\n",
            "HTTP request sent, awaiting response... 200 OK\n",
            "Length: 10889 (11K) [text/plain]\n",
            "Saving to: ‘wine.csv’\n",
            "\n",
            "wine.csv            100%[===================>]  10.63K  --.-KB/s    in 0s      \n",
            "\n",
            "2022-08-10 16:57:40 (43.5 MB/s) - ‘wine.csv’ saved [10889/10889]\n",
            "\n"
          ]
        }
      ]
    },
    {
      "cell_type": "code",
      "source": [
        "class WineDataset(Dataset):\n",
        "\n",
        "  def __init__(self, transform=None):   # putting data for transform is optional when we write (None)\n",
        "\n",
        "    xy = np.loadtxt('/content/wine.csv',delimiter=',',dtype=np.float32, skiprows=1)\n",
        "    # note that we do not convert to tensor here\n",
        "    self.x = xy[:,1:]\n",
        "    self.y = xy[:,[0]]\n",
        "\n",
        "    self.n_samples = xy.shape[0]\n",
        "\n",
        "    self.transform = transform\n",
        "    \n",
        "\n",
        "  def __getitem__(self, index):\n",
        "    sample = self.x[index], self.y[index]\n",
        "\n",
        "    if self.transform :                 # if transform is not None , will be True\n",
        "      sample = self.transform(sample)\n",
        "    \n",
        "    return sample\n",
        "\n",
        "\n",
        "\n",
        "  def __len__(self):\n",
        "    return self.n_samples\n",
        "  "
      ],
      "metadata": {
        "id": "yEGB8AjLr-6S"
      },
      "execution_count": null,
      "outputs": []
    },
    {
      "cell_type": "code",
      "source": [
        "# we can make a custom transform or use [torchvision.transforms.ToTensor()]\n",
        "\n",
        "class ToTensor:\n",
        "  def __call__(self,sample):\n",
        "    inputs, targets = sample\n",
        "    return torch.from_numpy(inputs), torch.from_numpy(targets)"
      ],
      "metadata": {
        "id": "P8Ue7APuvF_9"
      },
      "execution_count": null,
      "outputs": []
    }
  ]
}