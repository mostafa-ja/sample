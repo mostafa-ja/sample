{
  "nbformat": 4,
  "nbformat_minor": 0,
  "metadata": {
    "colab": {
      "name": "Pytorch TensorBoard Tutorial.ipynb",
      "provenance": [],
      "collapsed_sections": [],
      "authorship_tag": "ABX9TyO+vnEAr0nNJ56NvJDM0neu",
      "include_colab_link": true
    },
    "kernelspec": {
      "name": "python3",
      "display_name": "Python 3"
    },
    "language_info": {
      "name": "python"
    },
    "accelerator": "GPU",
    "gpuClass": "standard"
  },
  "cells": [
    {
      "cell_type": "markdown",
      "metadata": {
        "id": "view-in-github",
        "colab_type": "text"
      },
      "source": [
        "<a href=\"https://colab.research.google.com/github/mostafa-ja/sample/blob/master/Pytorch_TensorBoard_Tutorial.ipynb\" target=\"_parent\"><img src=\"https://colab.research.google.com/assets/colab-badge.svg\" alt=\"Open In Colab\"/></a>"
      ]
    },
    {
      "cell_type": "markdown",
      "source": [
        "[Youtube](https://www.youtube.com/watch?v=RLqsxWaQdHE&list=PLhhyoLH6IjfxeoooqP9rhU3HJIAVAJ3Vz&index=15)"
      ],
      "metadata": {
        "id": "RA_Xt3Jg3qUb"
      }
    },
    {
      "cell_type": "code",
      "execution_count": 1,
      "metadata": {
        "id": "2qcpGrOS3iB9"
      },
      "outputs": [],
      "source": [
        "import torch\n",
        "import torchvision\n",
        "import torch.nn as nn\n",
        "import torch.nn.functional as F\n",
        "from torch.utils.tensorboard import SummaryWriter"
      ]
    },
    {
      "cell_type": "code",
      "source": [
        "# for writer.add_embedding\n",
        "import tensorflow as tf\n",
        "import tensorboard as tb\n",
        "tf.io.gfile = tb.compat.tensorflow_stub.io.gfile"
      ],
      "metadata": {
        "id": "t67dD1NI8VNs"
      },
      "execution_count": 2,
      "outputs": []
    },
    {
      "cell_type": "code",
      "source": [
        "%load_ext tensorboard"
      ],
      "metadata": {
        "id": "cV0MTpmGYV7K"
      },
      "execution_count": 3,
      "outputs": []
    },
    {
      "cell_type": "code",
      "source": [
        "device = torch.device('cuda' if torch.cuda.is_available() else 'cpu')"
      ],
      "metadata": {
        "id": "vHEbCbBY5UIA"
      },
      "execution_count": 4,
      "outputs": []
    },
    {
      "cell_type": "code",
      "source": [
        "train_data = torchvision.datasets.MNIST('/content',train=True,\n",
        "                                        transform=torchvision.transforms.ToTensor(),\n",
        "                                        download=True)\n",
        "test_data = torchvision.datasets.MNIST('/content',train=False,\n",
        "                                        transform=torchvision.transforms.ToTensor(),\n",
        "                                        download=True)\n"
      ],
      "metadata": {
        "id": "g00FgLFh4D2f"
      },
      "execution_count": null,
      "outputs": []
    },
    {
      "cell_type": "code",
      "source": [
        "class CNN(nn.Module):\n",
        "  def __init__(self,in_channels=1,num_classes=10):\n",
        "    super().__init__()\n",
        "    self.conv1 = nn.Conv2d(in_channels=in_channels,out_channels=6,\n",
        "                           kernel_size=5,stride=1,padding=2)\n",
        "    self.pool = nn.MaxPool2d(kernel_size=2,stride=2)\n",
        "    self.conv2 = nn.Conv2d(in_channels=6, out_channels=16,kernel_size=5,stride=1)\n",
        "    self.fc1 = nn.Linear(in_features=400,out_features=80)\n",
        "    self.fc2 = nn.Linear(in_features=80,out_features=num_classes)\n",
        "\n",
        "  def forward(self,x):\n",
        "    x = F.relu(self.conv1(x))\n",
        "    x = self.pool(x)\n",
        "    x = F.relu(self.conv2(x))\n",
        "    x = self.pool(x)\n",
        "    x = x.reshape(x.shape[0],-1)  #x.shape[0] = batch_size\n",
        "    x = self.fc1(x)\n",
        "    x = self.fc2(x)\n",
        "\n",
        "    return x\n",
        "\n"
      ],
      "metadata": {
        "id": "FQUh0ZaS6WL3"
      },
      "execution_count": 6,
      "outputs": []
    },
    {
      "cell_type": "code",
      "source": [
        "# Hyperparameters\n",
        "in_channels = 1\n",
        "num_classes = 10\n",
        "num_epochs = 1\n",
        "batch_sizes = [16,64,128]\n",
        "learning_rates = [0.001]"
      ],
      "metadata": {
        "id": "UVbKYPiZCinN"
      },
      "execution_count": 7,
      "outputs": []
    },
    {
      "cell_type": "code",
      "source": [
        "classes = [\"0\", \"1\", \"2\", \"3\", \"4\", \"5\", \"6\", \"7\", \"8\", \"9\"] # for writer.add_embedding\n",
        "for batch_size in batch_sizes:\n",
        "  print(f'batch_size = {batch_size} ')\n",
        "  print('- -'*20)\n",
        "  for learning_rate in learning_rates:\n",
        "    print(f'learning_rate = {learning_rate} ')\n",
        "    print('- -'*20)\n",
        "    step = 0\n",
        "    train_loader = torch.utils.data.DataLoader(train_data,batch_size=batch_size,shuffle=True)\n",
        "    test_loader = torch.utils.data.DataLoader(test_data,batch_size=batch_size)\n",
        "    model = CNN(in_channels,num_classes).to(device)\n",
        "    model.train()\n",
        "    criterion = nn.CrossEntropyLoss()\n",
        "    optimizer = torch.optim.Adam(model.parameters(),learning_rate)\n",
        "    writer = SummaryWriter(f'runs/MNIST/batchSize{batch_size}_LR{learning_rate} ')\n",
        "    example,_ = next(iter(train_loader))\n",
        "    writer.add_graph(model,example.to(device))\n",
        "    writer.close()\n",
        "\n",
        "    for epoch in range(num_epochs):\n",
        "      running_loss = []\n",
        "      running_acc = []\n",
        "\n",
        "      for batch_idx,(images,labels) in enumerate(train_loader):\n",
        "        images = images.to(device)\n",
        "        labels = labels.to(device)\n",
        "\n",
        "        # forward\n",
        "        pred = model(images)\n",
        "        loss = criterion(pred,labels)\n",
        "        running_loss.append(loss.item())\n",
        "\n",
        "        # backward\n",
        "        optimizer.zero_grad()\n",
        "        loss.backward()\n",
        "        optimizer.step()\n",
        "\n",
        "        _,prediction = torch.max(pred,1)  # ATTENTION : torch.max() has two outputs , index and value\n",
        "        num_correct = (prediction == labels).sum()\n",
        "        accuracy = float(num_correct) / float(images.shape[0])\n",
        "        running_acc.append(accuracy)\n",
        "\n",
        "        image_grid = torchvision.utils.make_grid(images)\n",
        "\n",
        "        writer.add_image('mnist_images',image_grid)\n",
        "        writer.add_histogram('fc2',model.fc2.weight)\n",
        "        writer.add_scalar('trainig_loss',loss.item(),global_step=step)\n",
        "        writer.add_scalar('trainig_accuracy',accuracy,global_step=step)\n",
        "\n",
        "       \n",
        "        features = images.reshape(images.shape[0], -1)\n",
        "        class_labels = [classes[label] for label in prediction]\n",
        "\n",
        "        if batch_idx == 400:\n",
        "          writer.add_embedding(features,metadata=class_labels,label_img=images,global_step=batch_idx)\n",
        "\n",
        "        step += 1\n",
        "\n",
        "        if (batch_idx+1) % 200 == 0 :\n",
        "          print(f'epoch = {epoch+1}/{num_epochs} , step {step}/{len(train_loader)} ,loss = {loss.item():.4f} ')\n",
        "\n",
        "    with torch.no_grad():\n",
        "      n_correct = 0\n",
        "      losses = 0\n",
        "      for images,labels in test_loader:\n",
        "        images = images.to(device)\n",
        "        labels = labels.to(device)\n",
        "        pred = model(images)\n",
        "        losses += criterion(pred,labels).item()\n",
        "        _,predicted = torch.max(pred.data,1)\n",
        "        n_correct += (predicted == labels).sum().item()\n",
        "\n",
        "    #save the model   \n",
        "    torch.save(model.state_dict(),f'batchSize{batch_size}_LR{learning_rate}') \n",
        "\n",
        "    # (for trainig) writer.add_hparams({'LR':learning_rate, 'batch_size':batch_size},{'accuracy':sum(running_acc)/len(running_acc), 'loss':sum(running_loss)/len(running_loss) })\n",
        "    writer.add_hparams({'LR':learning_rate, 'batch_size':batch_size},\n",
        "                       {'test_sccuracy': float(n_correct)/float(len(test_loader)*batch_size), 'loss' : float(losses)/float(len(test_loader))  })"
      ],
      "metadata": {
        "id": "rbjrYOXoDFn6"
      },
      "execution_count": null,
      "outputs": []
    },
    {
      "cell_type": "markdown",
      "source": [
        "# **add_hparams**(hparam_dict, metric_dict, hparam_domain_discrete=None, run_name=None)\n",
        "\n",
        "Add a set of hyperparameters to be compared in TensorBoard.\n",
        "\n",
        "Parameters\n",
        "hparam_dict (dict) – Each key-value pair in the dictionary is the name of the hyper parameter and it’s corresponding value. The type of the value can be one of bool, string, float, int, or None.\n",
        "\n",
        "metric_dict (dict) – Each key-value pair in the dictionary is the name of the metric and it’s corresponding value. Note that the key used here should be unique in the tensorboard record. Otherwise the value you added by add_scalar will be displayed in hparam plugin. In most cases, this is unwanted.\n",
        "\n",
        "\n",
        "\n",
        "```\n",
        "from torch.utils.tensorboard import SummaryWriter\n",
        "with SummaryWriter() as w:\n",
        "    for i in range(5):\n",
        "        w.add_hparams({'lr': 0.1*i, 'bsize': i},\n",
        "                      {'hparam/accuracy': 10*i, 'hparam/loss': 10*i})\n",
        "```\n",
        "![add_hparam.png](data:image/png;base64,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)\n"
      ],
      "metadata": {
        "id": "itoXCn3DQnqu"
      }
    },
    {
      "cell_type": "code",
      "source": [
        "writer.close()\n",
        "%tensorboard --logdir=runs"
      ],
      "metadata": {
        "id": "_7RymfRmYGmz"
      },
      "execution_count": null,
      "outputs": []
    },
    {
      "cell_type": "code",
      "source": [
        "# load a model\n",
        "loaded_model = CNN()\n",
        "loaded_model.load_state_dict(torch.load('/content/batchSize16_LR0.001'))"
      ],
      "metadata": {
        "id": "AOU_Rlw92n0L"
      },
      "execution_count": null,
      "outputs": []
    }
  ]
}