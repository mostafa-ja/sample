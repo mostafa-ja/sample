{
  "nbformat": 4,
  "nbformat_minor": 0,
  "metadata": {
    "colab": {
      "name": "PyTorch Tutorial_3.ipynb",
      "provenance": [],
      "collapsed_sections": [],
      "authorship_tag": "ABX9TyOG24GAEVi36sleqp9WaCpU",
      "include_colab_link": true
    },
    "kernelspec": {
      "name": "python3",
      "display_name": "Python 3"
    },
    "language_info": {
      "name": "python"
    }
  },
  "cells": [
    {
      "cell_type": "markdown",
      "metadata": {
        "id": "view-in-github",
        "colab_type": "text"
      },
      "source": [
        "<a href=\"https://colab.research.google.com/github/mostafa-ja/sample/blob/master/PyTorch_Tutorial_3.ipynb\" target=\"_parent\"><img src=\"https://colab.research.google.com/assets/colab-badge.svg\" alt=\"Open In Colab\"/></a>"
      ]
    },
    {
      "cell_type": "markdown",
      "source": [
        "# Logistic Regression"
      ],
      "metadata": {
        "id": "IhEWcAL7_Z5w"
      }
    },
    {
      "cell_type": "code",
      "source": [
        "import numpy as np\n",
        "import torch\n",
        "import torch.nn as nn\n",
        "import matplotlib.pyplot as plt\n",
        "from sklearn import datasets\n",
        "from sklearn.preprocessing import StandardScaler\n",
        "from sklearn.model_selection import train_test_split"
      ],
      "metadata": {
        "id": "oSqrxnw2_e_a"
      },
      "execution_count": 24,
      "outputs": []
    },
    {
      "cell_type": "code",
      "source": [
        "# 0) prepare data\n",
        "\n",
        "bc = datasets.load_breast_cancer()\n",
        "\n",
        "X = bc.data    #(569, 30)\n",
        "y = bc.target  #(569,)\n",
        "\n",
        "n_samples,n_features = X.shape\n",
        "print(f'n_samples = {X.shape[0]} , n_features = {X.shape[1]} ')\n",
        "\n",
        "X_train,X_test,y_train,y_test = train_test_split(X,y,test_size=0.2,shuffle=True,random_state=1234)\n",
        "\n",
        "sc = StandardScaler()\n",
        "X_train = sc.fit_transform(X_train)\n",
        "X_test = sc.transform(X_test)\n",
        "\n",
        "X_train = torch.from_numpy(X_train.astype(np.float32))\n",
        "X_test = torch.from_numpy(X_test.astype(np.float32))\n",
        "y_train = torch.from_numpy(y_train.astype(np.float32))\n",
        "y_test = torch.from_numpy(y_test.astype(np.float32))\n",
        "\n",
        "y_train = y_train.view(y_train.shape[0],1)\n",
        "y_test = y_test.view(y_test.shape[0],1)\n",
        "\n",
        "print(f'X_train.shape = {X_train.shape} , y_train.shape = {y_train.shape} ')\n",
        "print(f'X_test.shape = {X_test.shape} , y_test.shape = {y_test.shape} ')\n"
      ],
      "metadata": {
        "colab": {
          "base_uri": "https://localhost:8080/"
        },
        "id": "FvwstrHU_k59",
        "outputId": "a9df228d-3b39-4dd1-ce2c-65fcd9c36991"
      },
      "execution_count": 25,
      "outputs": [
        {
          "output_type": "stream",
          "name": "stdout",
          "text": [
            "n_samples = 569 , n_features = 30 \n",
            "X_train.shape = torch.Size([455, 30]) , y_train.shape = torch.Size([455, 1]) \n",
            "X_test.shape = torch.Size([114, 30]) , y_test.shape = torch.Size([114, 1]) \n"
          ]
        }
      ]
    },
    {
      "cell_type": "code",
      "source": [
        "# 1) model >> f(x)=sigmoid(wx+b)\n",
        "\n",
        "class LogesticRegression(nn.Module):\n",
        "\n",
        "  def __init__(self,input_dim, output_dim):\n",
        "    super().__init__()\n",
        "    self.linear = nn.Linear(input_dim, output_dim)     # input just number of dimensions\n",
        "\n",
        "  def forward(self,x):\n",
        "    y_predicted = torch.sigmoid(self.linear(x))         # here we input data\n",
        "    return y_predicted\n",
        "\n",
        "\n",
        "model = LogesticRegression(n_features,1)"
      ],
      "metadata": {
        "id": "l3OUTB2VE8gw"
      },
      "execution_count": 26,
      "outputs": []
    },
    {
      "cell_type": "code",
      "source": [
        "# 2) loss & optimizer\n",
        "\n",
        "learning_rate = 0.01\n",
        "criterion = nn.BCELoss()\n",
        "optimizer = torch.optim.SGD(model.parameters(),lr=learning_rate)"
      ],
      "metadata": {
        "id": "QgZKVz9yUMKW"
      },
      "execution_count": 27,
      "outputs": []
    },
    {
      "cell_type": "code",
      "source": [
        "# 3) training\n",
        "\n",
        "n_epochs = 200\n",
        "\n",
        "for epoch in range(n_epochs):\n",
        "\n",
        "  #forward pass\n",
        "  y_pred = model(X_train)\n",
        "\n",
        "  #loss\n",
        "  loss = criterion(y_pred,y_train)\n",
        "\n",
        "  #backward pass\n",
        "  loss.backward()\n",
        "\n",
        "  #gradient update\n",
        "  optimizer.step()\n",
        "  optimizer.zero_grad()\n",
        "\n",
        "  if (epoch+1) % 10 == 0 :\n",
        "    print(f'epoch = {epoch+1} , loss = {loss.item():.4f} ')\n"
      ],
      "metadata": {
        "colab": {
          "base_uri": "https://localhost:8080/"
        },
        "id": "iaCWv7pMV0Vq",
        "outputId": "d589db08-b791-4950-dfe9-e7f613da3dd1"
      },
      "execution_count": 28,
      "outputs": [
        {
          "output_type": "stream",
          "name": "stdout",
          "text": [
            "epoch = 10 , loss = 0.7306 \n",
            "epoch = 20 , loss = 0.5630 \n",
            "epoch = 30 , loss = 0.4666 \n",
            "epoch = 40 , loss = 0.4050 \n",
            "epoch = 50 , loss = 0.3621 \n",
            "epoch = 60 , loss = 0.3303 \n",
            "epoch = 70 , loss = 0.3056 \n",
            "epoch = 80 , loss = 0.2858 \n",
            "epoch = 90 , loss = 0.2694 \n",
            "epoch = 100 , loss = 0.2556 \n",
            "epoch = 110 , loss = 0.2438 \n",
            "epoch = 120 , loss = 0.2335 \n",
            "epoch = 130 , loss = 0.2244 \n",
            "epoch = 140 , loss = 0.2164 \n",
            "epoch = 150 , loss = 0.2092 \n",
            "epoch = 160 , loss = 0.2027 \n",
            "epoch = 170 , loss = 0.1968 \n",
            "epoch = 180 , loss = 0.1914 \n",
            "epoch = 190 , loss = 0.1865 \n",
            "epoch = 200 , loss = 0.1819 \n"
          ]
        }
      ]
    },
    {
      "cell_type": "code",
      "source": [
        "from torch.autograd.grad_mode import no_grad\n",
        "# accuracy\n",
        "\n",
        "with torch.no_grad():\n",
        "  y_predicted = model(X_test)\n",
        "  y_predicted_class = y_predicted.round()  # convert values in [0,1) to binary\n",
        "  acc = y_predicted_class.eq(y_test).sum()/float(y_test.shape[0])\n",
        "  print(f'accuracy = {acc:.4f} ')\n",
        "\n"
      ],
      "metadata": {
        "colab": {
          "base_uri": "https://localhost:8080/"
        },
        "id": "uTS3OHKxX73z",
        "outputId": "df71e7f2-9728-42a6-cec5-149fc258d915"
      },
      "execution_count": 29,
      "outputs": [
        {
          "output_type": "stream",
          "name": "stdout",
          "text": [
            "accuracy = 0.9035 \n"
          ]
        }
      ]
    }
  ]
}