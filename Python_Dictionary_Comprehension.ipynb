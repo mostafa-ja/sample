{
  "nbformat": 4,
  "nbformat_minor": 0,
  "metadata": {
    "colab": {
      "name": "Python Dictionary Comprehension.ipynb",
      "provenance": [],
      "collapsed_sections": [],
      "authorship_tag": "ABX9TyOuo0l2BR0y/1Syq64KAsgn",
      "include_colab_link": true
    },
    "kernelspec": {
      "name": "python3",
      "display_name": "Python 3"
    },
    "language_info": {
      "name": "python"
    }
  },
  "cells": [
    {
      "cell_type": "markdown",
      "metadata": {
        "id": "view-in-github",
        "colab_type": "text"
      },
      "source": [
        "<a href=\"https://colab.research.google.com/github/mostafa-ja/sample/blob/master/Python_Dictionary_Comprehension.ipynb\" target=\"_parent\"><img src=\"https://colab.research.google.com/assets/colab-badge.svg\" alt=\"Open In Colab\"/></a>"
      ]
    },
    {
      "cell_type": "code",
      "execution_count": 1,
      "metadata": {
        "colab": {
          "base_uri": "https://localhost:8080/"
        },
        "id": "ctPiNVdKMwdx",
        "outputId": "e0b243f0-6ae6-4300-a6f5-42f7de80b440"
      },
      "outputs": [
        {
          "output_type": "stream",
          "name": "stdout",
          "text": [
            "dict1.keys() = dict_keys(['a', 'b', 'c', 'd']) \n",
            "dict1.values() = dict_values([1, 2, 3, 4]) \n",
            "dict1.items() = dict_items([('a', 1), ('b', 2), ('c', 3), ('d', 4)]) \n"
          ]
        }
      ],
      "source": [
        "dict1 = {'a': 1, 'b': 2, 'c': 3, 'd': 4}\n",
        "\n",
        "print(f'dict1.keys() = {dict1.keys()} ')\n",
        "print(f'dict1.values() = {dict1.values()} ')\n",
        "print(f'dict1.items() = {dict1.items()} ')"
      ]
    },
    {
      "cell_type": "markdown",
      "source": [
        "General template for dictionary comprehension in Python\n",
        "\n",
        "dict_variable = {key:value for (key,value) in dictonary.items()}"
      ],
      "metadata": {
        "id": "Z6wzzHJSNm2u"
      }
    },
    {
      "cell_type": "code",
      "source": [
        "dict1 = {'a': 1, 'b': 2, 'c': 3, 'd': 4, 'e': 5}\n",
        "# Double each value in the dictionary\n",
        "double_dict1 = {k:v*2 for (k,v) in dict1.items()}\n",
        "print(double_dict1)"
      ],
      "metadata": {
        "colab": {
          "base_uri": "https://localhost:8080/"
        },
        "id": "mDCriZ7oNuS0",
        "outputId": "07da4f89-e352-492c-9a2d-1340afe2eef5"
      },
      "execution_count": 2,
      "outputs": [
        {
          "output_type": "stream",
          "name": "stdout",
          "text": [
            "{'a': 2, 'b': 4, 'c': 6, 'd': 8, 'e': 10}\n"
          ]
        }
      ]
    },
    {
      "cell_type": "code",
      "source": [
        "dict1_keys = {k*2:v for (k,v) in dict1.items()}\n",
        "print(dict1_keys)"
      ],
      "metadata": {
        "colab": {
          "base_uri": "https://localhost:8080/"
        },
        "id": "tU8onSdTN9uv",
        "outputId": "de469b31-9ef7-4081-9a5b-1b1e83ab2780"
      },
      "execution_count": 3,
      "outputs": [
        {
          "output_type": "stream",
          "name": "stdout",
          "text": [
            "{'aa': 1, 'bb': 2, 'cc': 3, 'dd': 4, 'ee': 5}\n"
          ]
        }
      ]
    },
    {
      "cell_type": "code",
      "source": [
        "dict1 = {'a': 1, 'b': 2, 'c': 3, 'd': 4, 'e': 5}\n",
        "\n",
        "# Check for items greater than 2\n",
        "dict1_cond = {k:v for (k,v) in dict1.items() if v>2}\n",
        "\n",
        "print(dict1_cond)"
      ],
      "metadata": {
        "colab": {
          "base_uri": "https://localhost:8080/"
        },
        "id": "tXq8Jnr4OpFY",
        "outputId": "36823e12-aa42-4445-94b7-8029f682fad3"
      },
      "execution_count": 5,
      "outputs": [
        {
          "output_type": "stream",
          "name": "stdout",
          "text": [
            "{'c': 3, 'd': 4, 'e': 5}\n"
          ]
        }
      ]
    },
    {
      "cell_type": "code",
      "source": [
        "square_dict = {num: num*num for num in range(1, 11)}\n",
        "print(square_dict)"
      ],
      "metadata": {
        "colab": {
          "base_uri": "https://localhost:8080/"
        },
        "id": "jxOwpXAiPlbu",
        "outputId": "b077cca9-5211-4919-f11c-444c872d8ad9"
      },
      "execution_count": 6,
      "outputs": [
        {
          "output_type": "stream",
          "name": "stdout",
          "text": [
            "{1: 1, 2: 4, 3: 9, 4: 16, 5: 25, 6: 36, 7: 49, 8: 64, 9: 81, 10: 100}\n"
          ]
        }
      ]
    },
    {
      "cell_type": "code",
      "source": [
        "numbers = range(10)\n",
        "\n",
        "new_dict_comp = {n:n**2 for n in numbers if n%2 == 0}\n",
        "\n",
        "print(new_dict_comp)"
      ],
      "metadata": {
        "colab": {
          "base_uri": "https://localhost:8080/"
        },
        "id": "IfjiLKajOEdI",
        "outputId": "e82c7cf3-8bb8-4561-d2a9-6fe615bb87e4"
      },
      "execution_count": 4,
      "outputs": [
        {
          "output_type": "stream",
          "name": "stdout",
          "text": [
            "{0: 0, 2: 4, 4: 16, 6: 36, 8: 64}\n"
          ]
        }
      ]
    },
    {
      "cell_type": "code",
      "source": [
        "\n",
        "dataloaders = {\n",
        "    x: torch.utils.data.DataLoader(\n",
        "        image_datasets[x],\n",
        "        batch_size=4,\n",
        "        shuffle=True,\n",
        "        num_workers=0\n",
        "    )\n",
        "    for x in ['train', 'val']\n",
        "}\n",
        "\n",
        "# is equivalent to:\n",
        "\n",
        "\n",
        "dataloaders = {\n",
        "    'train': torch.utils.data.DataLoader(\n",
        "        image_datasets['train'],\n",
        "        batch_size=4,\n",
        "        shuffle=True,\n",
        "        num_workers=0\n",
        "    ),\n",
        "    'val': torch.utils.data.DataLoader(\n",
        "        image_datasets['val'],\n",
        "        batch_size=4,\n",
        "        shuffle=True,\n",
        "        num_workers=0\n",
        "    )\n",
        "}"
      ],
      "metadata": {
        "id": "jhnz-hRgQX3U"
      },
      "execution_count": null,
      "outputs": []
    },
    {
      "cell_type": "markdown",
      "source": [
        "# How to join path in Python\n",
        "This function is utilized to concatenate two or more paths together into a single integrated path\n",
        "\n"
      ],
      "metadata": {
        "id": "AQaj9tfh5Ro8"
      }
    },
    {
      "cell_type": "code",
      "source": [
        "import os\n",
        "\n",
        "path = \"/Users/krunal/Desktop/code/\"\n",
        "\n",
        "print(os.path.join(path, \"pyt\", \"database\", \"app.py\"))"
      ],
      "metadata": {
        "colab": {
          "base_uri": "https://localhost:8080/"
        },
        "id": "_p6T6nqM5fv0",
        "outputId": "d4c36259-9829-487f-9237-ad8d7290e1b7"
      },
      "execution_count": 1,
      "outputs": [
        {
          "output_type": "stream",
          "name": "stdout",
          "text": [
            "/Users/krunal/Desktop/code/pyt/database/app.py\n"
          ]
        }
      ]
    },
    {
      "cell_type": "markdown",
      "source": [
        "\n",
        "As you can see from the output that the os.path.join() function combines path names into one complete path. That means you can join multiple path segments into one instead of manually hard-coding every pathname."
      ],
      "metadata": {
        "id": "yn4PLYci5sjy"
      }
    },
    {
      "cell_type": "markdown",
      "source": [
        "# IMAGEFOLDER\n",
        "\n",
        "**CLASS torchvision.datasets.ImageFolder(root: str, transform: Optional[Callable] = None , ...)**\n",
        "\n",
        "A generic data loader where the images are arranged in this way by default:\n",
        "\n",
        "root/dog/xxx.png\n",
        "\n",
        "root/dog/xxy.png\n",
        "\n",
        "root/dog/[...]/xxz.png\n",
        "\n",
        "\n",
        "\n",
        "root/cat/123.png\n",
        "\n",
        "root/cat/nsdf3.png\n",
        "\n",
        "root/cat/[...]/asd932_.png\n",
        "\n"
      ],
      "metadata": {
        "id": "G47b0lrK_Rrr"
      }
    },
    {
      "cell_type": "markdown",
      "source": [
        "![A.jpg](data:image/jpeg;base64,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)"
      ],
      "metadata": {
        "id": "n6S5P11MA3-e"
      }
    },
    {
      "cell_type": "code",
      "source": [
        "train_dataset = torchvision.datasets.ImageFolder(root='train')\n",
        "valid_dataset = torchvision.datasets.ImageFolder(root='valid')"
      ],
      "metadata": {
        "id": "h4WB3Tp5_xEw"
      },
      "execution_count": null,
      "outputs": []
    },
    {
      "cell_type": "markdown",
      "source": [
        "# Explaining the code of  transfer_learning.py  "
      ],
      "metadata": {
        "id": "iysMtmji-S4o"
      }
    },
    {
      "cell_type": "code",
      "source": [
        "# data_transform is a dictionary with two keys : 'train' and 'val'\n",
        "# image_dataset also is a dictionary with the same keys\n",
        "\n",
        "data_dir = 'data/hymenoptera_data'\n",
        "\n",
        "image_datasets = {x: datasets.ImageFolder(os.path.join(data_dir, x),data_transforms[x]) for x in ['train', 'val']}\n",
        "\n",
        "# is equivalant to :\n",
        "\n",
        "image_datasets = {'train' : datasets.ImageFolder(os.path.join(data_dir, 'train'),data_transforms['train']) ,\n",
        "                   'val' : datasets.ImageFolder(os.path.join(data_dir, 'val'),data_transforms['val']) }\n",
        "\n",
        "# datasets.ImageFolder(os.path.join(data_dir, 'train'),.. == datasets.ImageFolder('data/hymenoptera_data/train'),.."
      ],
      "metadata": {
        "id": "T8rWFmjS-Sc8"
      },
      "execution_count": null,
      "outputs": []
    }
  ]
}