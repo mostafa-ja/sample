{
  "nbformat": 4,
  "nbformat_minor": 0,
  "metadata": {
    "colab": {
      "name": "PyTorch Tutorial 14 - Convolutional Neural Network (CNN).ipynb",
      "provenance": [],
      "collapsed_sections": [],
      "authorship_tag": "ABX9TyNcEH6h1b/MRw19OelFBPeI",
      "include_colab_link": true
    },
    "kernelspec": {
      "name": "python3",
      "display_name": "Python 3"
    },
    "language_info": {
      "name": "python"
    }
  },
  "cells": [
    {
      "cell_type": "markdown",
      "metadata": {
        "id": "view-in-github",
        "colab_type": "text"
      },
      "source": [
        "<a href=\"https://colab.research.google.com/github/mostafa-ja/sample/blob/master/PyTorch_Tutorial_14_Convolutional_Neural_Network_(CNN).ipynb\" target=\"_parent\"><img src=\"https://colab.research.google.com/assets/colab-badge.svg\" alt=\"Open In Colab\"/></a>"
      ]
    },
    {
      "cell_type": "markdown",
      "source": [
        "[link text](https://www.youtube.com/watch?v=pDdP0TFzsoQ&list=PLqnslRFeH2UrcDBWF5mfPGpqQDSta6VK4&index=15)"
      ],
      "metadata": {
        "id": "WdA37ZcofBeM"
      }
    },
    {
      "cell_type": "code",
      "execution_count": 1,
      "metadata": {
        "id": "FZCNIjhre_fF"
      },
      "outputs": [],
      "source": [
        "import torch\n",
        "import torch.nn as nn\n",
        "import torch.nn.functional as F\n",
        "import torchvision\n",
        "import torchvision.transforms as transforms\n",
        "import matplotlib.pyplot as plt\n",
        "import numpy as np"
      ]
    },
    {
      "cell_type": "code",
      "source": [
        "# hyper parameters\n",
        "num_epoch = 64\n",
        "batch_size = 64\n",
        "learning_rate = 0.001\n"
      ],
      "metadata": {
        "id": "EcZI2VSPgVJv"
      },
      "execution_count": 2,
      "outputs": []
    },
    {
      "cell_type": "markdown",
      "source": [
        "# Getting norm and std"
      ],
      "metadata": {
        "id": "qBr7-L03oIy_"
      }
    },
    {
      "cell_type": "code",
      "source": [
        "train_data = torchvision.datasets.CIFAR10('/content',True,transforms.ToTensor(),download=True)\n",
        "train_loader = torch.utils.data.DataLoader(train_data,batch_size=1)"
      ],
      "metadata": {
        "colab": {
          "base_uri": "https://localhost:8080/"
        },
        "id": "eQC2tP3whsCs",
        "outputId": "c54c3dde-55d4-4873-e2e8-b7992fd415b9"
      },
      "execution_count": 28,
      "outputs": [
        {
          "output_type": "stream",
          "name": "stdout",
          "text": [
            "Files already downloaded and verified\n"
          ]
        }
      ]
    },
    {
      "cell_type": "code",
      "source": [
        "one_sample,_ = train_data[4]"
      ],
      "metadata": {
        "id": "1WKvObLmoRXX"
      },
      "execution_count": 77,
      "outputs": []
    },
    {
      "cell_type": "code",
      "source": [
        "img = one_sample / 2 + 0.5\n",
        "img = torchvision.utils.make_grid(img).numpy()\n",
        "img = np.transpose(img,(1,2,0)) # we changed shape from(3,32,32) into (32,32,3) means 0 dimension to the end and ..\n",
        "plt.imshow(img)"
      ],
      "metadata": {
        "colab": {
          "base_uri": "https://localhost:8080/",
          "height": 321
        },
        "id": "k5P5j1lUxr5w",
        "outputId": "b67068e9-d5c1-48ae-e078-0d61424f5548"
      },
      "execution_count": 78,
      "outputs": [
        {
          "output_type": "stream",
          "name": "stderr",
          "text": [
            "WARNING:matplotlib.image:Clipping input data to the valid range for imshow with RGB data ([0..1] for floats or [0..255] for integers).\n"
          ]
        },
        {
          "output_type": "execute_result",
          "data": {
            "text/plain": [
              "<matplotlib.image.AxesImage at 0x7f28bdad8250>"
            ]
          },
          "metadata": {},
          "execution_count": 78
        },
        {
          "output_type": "display_data",
          "data": {
            "text/plain": [
              "<Figure size 432x288 with 1 Axes>"
            ],
            "image/png": "[encoded data removed]"
          },
          "metadata": {
            "needs_background": "light"
          }
        }
      ]
    },
    {
      "cell_type": "code",
      "source": [
        "one_sample.shape"
      ],
      "metadata": {
        "colab": {
          "base_uri": "https://localhost:8080/"
        },
        "id": "TSt0muA-jBDe",
        "outputId": "19af6a79-ca12-42f3-b7d2-2e4d7afb3a33"
      },
      "execution_count": 35,
      "outputs": [
        {
          "output_type": "execute_result",
          "data": {
            "text/plain": [
              "torch.Size([3, 32, 32])"
            ]
          },
          "metadata": {},
          "execution_count": 35
        }
      ]
    },
    {
      "cell_type": "code",
      "source": [
        "one_sample.mean([1,2])    # dimension means we calculate based on dimension of zero"
      ],
      "metadata": {
        "colab": {
          "base_uri": "https://localhost:8080/"
        },
        "id": "4ICKJLkFj_sz",
        "outputId": "b4d4f75f-c936-41ea-a67e-0c92cb9a736d"
      },
      "execution_count": 36,
      "outputs": [
        {
          "output_type": "execute_result",
          "data": {
            "text/plain": [
              "tensor([0.5537, 0.4122, 0.2511])"
            ]
          },
          "metadata": {},
          "execution_count": 36
        }
      ]
    },
    {
      "cell_type": "code",
      "source": [
        "one_sample.std([1,2])"
      ],
      "metadata": {
        "colab": {
          "base_uri": "https://localhost:8080/"
        },
        "id": "xbDYwVaglOjJ",
        "outputId": "4962f7d4-dc09-4124-c0fa-894ade2d1a7d"
      },
      "execution_count": 37,
      "outputs": [
        {
          "output_type": "execute_result",
          "data": {
            "text/plain": [
              "tensor([0.1595, 0.1665, 0.1603])"
            ]
          },
          "metadata": {},
          "execution_count": 37
        }
      ]
    },
    {
      "cell_type": "code",
      "source": [
        "mean = torch.zeros(1,3)\n",
        "std = torch.zeros(1,3)\n",
        "for i,(samples,lables) in enumerate(train_loader):\n",
        "  mean += samples.mean([2,3])\n",
        "  std += samples.std([2,3])\n",
        "\n",
        "mean = mean/(i+1)\n",
        "std = std/(i+1)\n",
        "print(mean)\n",
        "print(std)\n"
      ],
      "metadata": {
        "colab": {
          "base_uri": "https://localhost:8080/"
        },
        "id": "cgUoocjRjfrF",
        "outputId": "f5d1a85e-5bc5-4cd6-a483-e8740a75901d"
      },
      "execution_count": 38,
      "outputs": [
        {
          "output_type": "stream",
          "name": "stdout",
          "text": [
            "tensor([[0.4914, 0.4822, 0.4465]])\n",
            "tensor([[0.2023, 0.1994, 0.2010]])\n"
          ]
        }
      ]
    },
    {
      "cell_type": "markdown",
      "source": [
        "we can use mean and std of the ImageNet dataset.\n",
        "\n",
        "mean=(0.485, 0.456, 0.406), std=(0.229, 0.224, 0.225))\n",
        "\n",
        "but our dataset's mean and std is a bit diffrent\n"
      ],
      "metadata": {
        "id": "7ywB-LdfqEGz"
      }
    },
    {
      "cell_type": "code",
      "source": [
        "transform = transforms.Compose([transforms.ToTensor(),\n",
        "                                transforms.Normalize((0.4914, 0.4822, 0.4465),(0.2023, 0.1994, 0.2010))])"
      ],
      "metadata": {
        "id": "pk-xIfzjgoJ5"
      },
      "execution_count": 39,
      "outputs": []
    },
    {
      "cell_type": "code",
      "source": [
        "train_data = torchvision.datasets.CIFAR10('/content',train=True,transform=transform,download=True)\n",
        "test_data = torchvision.datasets.CIFAR10('/content',train=False,transform=transform,download=True)\n",
        "\n",
        "train_loader = torch.utils.data.DataLoader(train_data,batch_size=batch_size,shuffle=True)\n",
        "test_loader = torch.utils.data.DataLoader(test_data,batch_size=batch_size)"
      ],
      "metadata": {
        "colab": {
          "base_uri": "https://localhost:8080/"
        },
        "id": "k8S_OaAdqYUK",
        "outputId": "d15f5b2e-a4e1-4188-c8c9-20aa91a9f122"
      },
      "execution_count": 40,
      "outputs": [
        {
          "output_type": "stream",
          "name": "stdout",
          "text": [
            "Files already downloaded and verified\n",
            "Files already downloaded and verified\n"
          ]
        }
      ]
    },
    {
      "cell_type": "code",
      "source": [
        "class ConvNet(nn.Module):\n",
        "  def __init__(self):\n",
        "    super().__init__()\n",
        "    # torch.nn.Conv2d(in_channels, out_channels, kernel_size, stride=1, padding=0,...)\n",
        "    self.conv1 = nn.Conv2d(3,6,5) # input:3*32*32\n",
        "    # torch.nn.MaxPool2d(kernel_size, stride=None, padding=0,...)\n",
        "    self.pool1 = nn.MaxPool2d(2,2) # input:6*28*28\n",
        "    self.conv2 = nn.Conv2d(6,16,5) # input:6*14*14   \n",
        "    self.pool2 = nn.MaxPool2d(2,2) # input:16*10*10   # we didnt need to define to maxpool layer because they have same properties\n",
        "    # torch.nn.Linear(in_features, out_features, bias=True,...)\n",
        "    self.fc1 = nn.Linear(16*5*5,120) #input: 16*5*5\n",
        "    self.fc2 = nn.Linear(120,84)\n",
        "    self.fc3 = nn.Linear(84,10)\n",
        "\n",
        "\n",
        "  def forward(self,x):\n",
        "    out= F.relu(self.conv1(x))\n",
        "    out = self.pool1(out)\n",
        "    out= F.relu(self.conv2(out))\n",
        "    out = self.pool2(out)\n",
        "    out = out.view(-1,16*5*5) # ATTENTION: transition from conv to fc layer\n",
        "    out = F.relu(self.fc1(out))\n",
        "    out = F.relu(self.fc2(out))\n",
        "    out = self.fc3(out)\n",
        "\n",
        "    return out\n",
        "\n"
      ],
      "metadata": {
        "id": "MlAqxkhprkvu"
      },
      "execution_count": 88,
      "outputs": []
    },
    {
      "cell_type": "code",
      "source": [
        "model = ConvNet()\n",
        "criterion = nn.CrossEntropyLoss()\n",
        "optimizer = torch.optim.Adam(model.parameters(),lr=learning_rate)"
      ],
      "metadata": {
        "id": "7WEgCnRr5-Oq"
      },
      "execution_count": 89,
      "outputs": []
    },
    {
      "cell_type": "code",
      "source": [
        "n_total_steps = len(train_loader)\n",
        "for epoch in range(num_epoch):\n",
        "  for i,(images,labels) in enumerate(train_loader):\n",
        "\n",
        "    output = model(images)\n",
        "    loss = criterion(output,labels)\n",
        "\n",
        "    optimizer.zero_grad()\n",
        "    loss.backward()\n",
        "    optimizer.step()\n",
        "    \n",
        "    if(i+1) % 1000 == 0 :\n",
        "      print(f'epoch = {epoch}/{num_epoch}, steps {i+1}/{n_total_steps} , loss = {loss.item() :.4f}  ')\n"
      ],
      "metadata": {
        "colab": {
          "base_uri": "https://localhost:8080/"
        },
        "id": "sRH95KxP7AbJ",
        "outputId": "48abb84e-5bd4-42eb-a171-1efb5abc169a"
      },
      "execution_count": 90,
      "outputs": [
        {
          "output_type": "stream",
          "name": "stdout",
          "text": [
            "epoch = 0/4, steps 1000/12500 , loss = 1.6746  \n",
            "epoch = 0/4, steps 2000/12500 , loss = 1.5005  \n",
            "epoch = 0/4, steps 3000/12500 , loss = 1.7504  \n",
            "epoch = 0/4, steps 4000/12500 , loss = 1.5491  \n",
            "epoch = 0/4, steps 5000/12500 , loss = 1.2851  \n",
            "epoch = 0/4, steps 6000/12500 , loss = 2.8026  \n",
            "epoch = 0/4, steps 7000/12500 , loss = 1.4126  \n",
            "epoch = 0/4, steps 8000/12500 , loss = 0.6606  \n",
            "epoch = 0/4, steps 9000/12500 , loss = 0.9203  \n",
            "epoch = 0/4, steps 10000/12500 , loss = 1.7541  \n",
            "epoch = 0/4, steps 11000/12500 , loss = 0.7473  \n",
            "epoch = 0/4, steps 12000/12500 , loss = 1.1094  \n",
            "epoch = 1/4, steps 1000/12500 , loss = 1.8322  \n",
            "epoch = 1/4, steps 2000/12500 , loss = 0.5767  \n",
            "epoch = 1/4, steps 3000/12500 , loss = 1.1036  \n",
            "epoch = 1/4, steps 4000/12500 , loss = 0.5726  \n",
            "epoch = 1/4, steps 5000/12500 , loss = 0.6688  \n",
            "epoch = 1/4, steps 6000/12500 , loss = 1.6008  \n",
            "epoch = 1/4, steps 7000/12500 , loss = 0.9979  \n",
            "epoch = 1/4, steps 8000/12500 , loss = 1.5634  \n",
            "epoch = 1/4, steps 9000/12500 , loss = 0.7195  \n",
            "epoch = 1/4, steps 10000/12500 , loss = 1.6545  \n",
            "epoch = 1/4, steps 11000/12500 , loss = 1.0095  \n",
            "epoch = 1/4, steps 12000/12500 , loss = 0.3493  \n",
            "epoch = 2/4, steps 1000/12500 , loss = 2.2043  \n",
            "epoch = 2/4, steps 2000/12500 , loss = 1.6887  \n",
            "epoch = 2/4, steps 3000/12500 , loss = 1.4240  \n",
            "epoch = 2/4, steps 4000/12500 , loss = 1.0825  \n",
            "epoch = 2/4, steps 5000/12500 , loss = 1.1582  \n",
            "epoch = 2/4, steps 6000/12500 , loss = 1.2776  \n",
            "epoch = 2/4, steps 7000/12500 , loss = 1.8594  \n",
            "epoch = 2/4, steps 8000/12500 , loss = 1.5370  \n",
            "epoch = 2/4, steps 9000/12500 , loss = 0.3758  \n",
            "epoch = 2/4, steps 10000/12500 , loss = 0.9858  \n",
            "epoch = 2/4, steps 11000/12500 , loss = 0.9895  \n",
            "epoch = 2/4, steps 12000/12500 , loss = 1.5293  \n",
            "epoch = 3/4, steps 1000/12500 , loss = 0.5505  \n",
            "epoch = 3/4, steps 2000/12500 , loss = 0.7931  \n",
            "epoch = 3/4, steps 3000/12500 , loss = 0.7824  \n",
            "epoch = 3/4, steps 4000/12500 , loss = 2.0298  \n",
            "epoch = 3/4, steps 5000/12500 , loss = 1.4504  \n",
            "epoch = 3/4, steps 6000/12500 , loss = 0.8265  \n",
            "epoch = 3/4, steps 7000/12500 , loss = 1.4657  \n",
            "epoch = 3/4, steps 8000/12500 , loss = 1.7129  \n",
            "epoch = 3/4, steps 9000/12500 , loss = 0.3785  \n",
            "epoch = 3/4, steps 10000/12500 , loss = 0.3277  \n",
            "epoch = 3/4, steps 11000/12500 , loss = 1.1328  \n",
            "epoch = 3/4, steps 12000/12500 , loss = 1.5479  \n"
          ]
        }
      ]
    },
    {
      "cell_type": "code",
      "source": [
        "PATH = '/content/cnn.pth'\n",
        "torch.save(model.state_dict(), PATH)"
      ],
      "metadata": {
        "id": "Xltb1K1c-l2Q"
      },
      "execution_count": 94,
      "outputs": []
    }
  ]
}