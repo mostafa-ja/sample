{
  "nbformat": 4,
  "nbformat_minor": 0,
  "metadata": {
    "colab": {
      "name": "PyTorch Tutorial 13 - Feed-Forward Neural Network.ipynb",
      "provenance": [],
      "collapsed_sections": [],
      "authorship_tag": "ABX9TyPWuRQXwWgBOtLubD8uTe3s",
      "include_colab_link": true
    },
    "kernelspec": {
      "name": "python3",
      "display_name": "Python 3"
    },
    "language_info": {
      "name": "python"
    }
  },
  "cells": [
    {
      "cell_type": "markdown",
      "metadata": {
        "id": "view-in-github",
        "colab_type": "text"
      },
      "source": [
        "<a href=\"https://colab.research.google.com/github/mostafa-ja/sample/blob/master/PyTorch_Tutorial_13_Feed_Forward_Neural_Network.ipynb\" target=\"_parent\"><img src=\"https://colab.research.google.com/assets/colab-badge.svg\" alt=\"Open In Colab\"/></a>"
      ]
    },
    {
      "cell_type": "markdown",
      "source": [
        "[link text](https://www.youtube.com/watch?v=oPhxf2fXHkQ&list=PLqnslRFeH2UrcDBWF5mfPGpqQDSta6VK4&index=13)"
      ],
      "metadata": {
        "id": "o3Jpi8rIO3HN"
      }
    },
    {
      "cell_type": "code",
      "execution_count": 11,
      "metadata": {
        "id": "W8uMTXm7OzBk"
      },
      "outputs": [],
      "source": [
        "import torch\n",
        "import torchvision\n",
        "import torchvision.transforms as transforms\n",
        "import matplotlib.pyplot as plt\n",
        "import torch.nn as nn"
      ]
    },
    {
      "cell_type": "code",
      "source": [
        "# hyper parameters\n",
        "input_size = 784  #28*28\n",
        "hidden_size = 100\n",
        "num_class = 10\n",
        "num_epoch = 2\n",
        "batch_size = 100\n",
        "learning_rate = 0.001"
      ],
      "metadata": {
        "id": "y6ui6176Pn0o"
      },
      "execution_count": 12,
      "outputs": []
    },
    {
      "cell_type": "code",
      "source": [
        "train_dataset = torchvision.datasets.MNIST(root='/content',train=True,transform=transforms.ToTensor(),download=True)\n",
        "test_dataset = torchvision.datasets.MNIST(root='/content',train=False,transform=transforms.ToTensor())\n",
        "\n",
        "train_loader = torch.utils.data.DataLoader(dataset=train_dataset,batch_size=batch_size,shuffle=True)\n",
        "test_loader = torch.utils.data.DataLoader(dataset=test_dataset,batch_size=batch_size,shuffle=False)\n"
      ],
      "metadata": {
        "id": "C7jqUy_SQHru"
      },
      "execution_count": 13,
      "outputs": []
    },
    {
      "cell_type": "code",
      "source": [
        "# every row of train_dataset is a tuple which is (sample,label) \n",
        "a,b =train_dataset[0]\n",
        "a.shape"
      ],
      "metadata": {
        "colab": {
          "base_uri": "https://localhost:8080/"
        },
        "id": "KQsTv86MTlYc",
        "outputId": "d80c1bb7-6d83-4d85-d41d-40f3386de27c"
      },
      "execution_count": 14,
      "outputs": [
        {
          "output_type": "execute_result",
          "data": {
            "text/plain": [
              "torch.Size([1, 28, 28])"
            ]
          },
          "metadata": {},
          "execution_count": 14
        }
      ]
    },
    {
      "cell_type": "code",
      "source": [
        "# get a sample of data\n",
        "example = iter(train_loader)\n",
        "samples,labels = example.next()\n",
        "print(samples.shape,labels.shape)"
      ],
      "metadata": {
        "colab": {
          "base_uri": "https://localhost:8080/"
        },
        "id": "4kWW4ZQ_Us1O",
        "outputId": "38f75777-33cf-4ab9-af47-39edf275f2e1"
      },
      "execution_count": 15,
      "outputs": [
        {
          "output_type": "stream",
          "name": "stdout",
          "text": [
            "torch.Size([100, 1, 28, 28]) torch.Size([100])\n"
          ]
        }
      ]
    },
    {
      "cell_type": "code",
      "source": [
        "for i in range(6):\n",
        "  plt.subplot(2,3,i+1)\n",
        "  plt.imshow(samples[i][0],cmap='gray')   #samples[i]=[1,28,28] and samples[i][0]=[28,28]\n",
        "\n",
        "plt.show()"
      ],
      "metadata": {
        "colab": {
          "base_uri": "https://localhost:8080/",
          "height": 267
        },
        "id": "2R1Msoz2UdeM",
        "outputId": "0f31d408-3d7f-42f8-fe9c-430abbcb36a5"
      },
      "execution_count": 16,
      "outputs": [
        {
          "output_type": "display_data",
          "data": {
            "text/plain": [
              "<Figure size 432x288 with 6 Axes>"
            ],
            "image/png": "[encoded data removed]"
          },
          "metadata": {
            "needs_background": "light"
          }
        }
      ]
    },
    {
      "cell_type": "code",
      "source": [
        "class NeuralNet(nn.Module):\n",
        "  def __init__(self,input_size,hidden_size,num_class):\n",
        "    super().__init__()\n",
        "    self.linear1 = nn.Linear(input_size,hidden_size)\n",
        "    self.relu = nn.ReLU()\n",
        "    self.linear2 = nn.Linear(hidden_size,num_class)\n",
        "\n",
        "  def forward(self,x):\n",
        "    out = self.linear1(x)\n",
        "    out = self.relu(out)\n",
        "    y_pred = self.linear2(out)\n",
        "    return y_pred"
      ],
      "metadata": {
        "id": "OnUmWCOkVvop"
      },
      "execution_count": 17,
      "outputs": []
    },
    {
      "cell_type": "code",
      "source": [
        "model = NeuralNet(input_size=input_size,hidden_size=hidden_size,num_class=num_class)"
      ],
      "metadata": {
        "id": "g7zcr-zZXSD7"
      },
      "execution_count": 18,
      "outputs": []
    },
    {
      "cell_type": "code",
      "source": [
        "criterion = nn.CrossEntropyLoss()\n",
        "optimizer = torch.optim.Adam(model.parameters(),lr=learning_rate)"
      ],
      "metadata": {
        "id": "ULwD_04wXmax"
      },
      "execution_count": 19,
      "outputs": []
    },
    {
      "cell_type": "code",
      "source": [
        "n_total_steps = len(train_loader)\n",
        "\n",
        "for epoch in range(num_epoch):\n",
        "  for i,(images,labels) in enumerate(train_loader):  \n",
        "    # images.shape:[100,1,28,28] we must reshape to [100,28*28]\n",
        "    images = images.reshape(-1,784)\n",
        "    y_pred = model(images)\n",
        "    loss = criterion(y_pred,labels)\n",
        "    loss.backward()\n",
        "    optimizer.step()\n",
        "    optimizer.zero_grad()\n",
        "    \n",
        "    if (i+1) % 100 == 0 :\n",
        "      print(f'epoch = {epoch+1}/{num_epoch} , step {i+1}/{n_total_steps} ,loss = {loss.item():.4f} ')\n",
        "\n",
        "\n",
        "\n"
      ],
      "metadata": {
        "colab": {
          "base_uri": "https://localhost:8080/"
        },
        "id": "KIGcmhf3YKOM",
        "outputId": "24e03572-2e9c-4401-a21f-c6799a740373"
      },
      "execution_count": 21,
      "outputs": [
        {
          "output_type": "stream",
          "name": "stdout",
          "text": [
            "epoch = 1/2 , step 100/600 ,loss = 0.3148 \n",
            "epoch = 1/2 , step 200/600 ,loss = 0.0700 \n",
            "epoch = 1/2 , step 300/600 ,loss = 0.1568 \n",
            "epoch = 1/2 , step 400/600 ,loss = 0.1942 \n",
            "epoch = 1/2 , step 500/600 ,loss = 0.1724 \n",
            "epoch = 1/2 , step 600/600 ,loss = 0.0517 \n",
            "epoch = 2/2 , step 100/600 ,loss = 0.2110 \n",
            "epoch = 2/2 , step 200/600 ,loss = 0.2171 \n",
            "epoch = 2/2 , step 300/600 ,loss = 0.0812 \n",
            "epoch = 2/2 , step 400/600 ,loss = 0.1492 \n",
            "epoch = 2/2 , step 500/600 ,loss = 0.1038 \n",
            "epoch = 2/2 , step 600/600 ,loss = 0.0765 \n"
          ]
        }
      ]
    },
    {
      "cell_type": "markdown",
      "source": [
        "**torch.max(input, dim, keepdim=False, *, out=None)**\n",
        "\n",
        "Returns a namedtuple (values, indices) where values is the maximum value of each row of the input tensor in the given dimension dim. And indices is the index location of each maximum value found (argmax)."
      ],
      "metadata": {
        "id": "5OUFgTe5j9D6"
      }
    },
    {
      "cell_type": "code",
      "source": [
        "a = torch.randint(0,9,(4,4))\n",
        "print(a)\n",
        "print(torch.max(a, 1))"
      ],
      "metadata": {
        "colab": {
          "base_uri": "https://localhost:8080/"
        },
        "id": "zQqTfb3dkQpn",
        "outputId": "2d256357-fbbb-4ed5-8e94-6d13895376e4"
      },
      "execution_count": 40,
      "outputs": [
        {
          "output_type": "stream",
          "name": "stdout",
          "text": [
            "tensor([[0, 2, 4, 4],\n",
            "        [3, 4, 5, 8],\n",
            "        [0, 0, 2, 1],\n",
            "        [0, 8, 1, 0]])\n",
            "torch.return_types.max(\n",
            "values=tensor([4, 8, 2, 8]),\n",
            "indices=tensor([2, 3, 2, 1]))\n"
          ]
        }
      ]
    },
    {
      "cell_type": "code",
      "source": [
        "with torch.no_grad():\n",
        "  n_correct = 0.\n",
        "  n_samples = 0.\n",
        "  for (images,labels) in test_loader:\n",
        "    images = images.reshape(-1,28*28)\n",
        "    y_pred = model(images)\n",
        "    _ , index = torch.max(y_pred,1)\n",
        "    n_correct += torch.sum(labels==index)\n",
        "    n_samples +=labels.shape[0]\n",
        "  \n",
        "  print(f'accuracy = {n_correct/n_samples :.4} ')\n",
        "  \n",
        " "
      ],
      "metadata": {
        "colab": {
          "base_uri": "https://localhost:8080/"
        },
        "id": "XiOMyrRYf64j",
        "outputId": "da9fc82f-fbaf-4e4d-a6a9-68a2b5b8ef17"
      },
      "execution_count": 36,
      "outputs": [
        {
          "output_type": "stream",
          "name": "stdout",
          "text": [
            "accuracy = 0.9645 \n"
          ]
        }
      ]
    }
  ]
}