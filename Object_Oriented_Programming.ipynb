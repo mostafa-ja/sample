{
  "nbformat": 4,
  "nbformat_minor": 0,
  "metadata": {
    "colab": {
      "name": "Object Oriented Programming.ipynb",
      "provenance": [],
      "collapsed_sections": [],
      "authorship_tag": "ABX9TyNQIinOL/K/ZETg7fFn1dp/",
      "include_colab_link": true
    },
    "kernelspec": {
      "name": "python3",
      "display_name": "Python 3"
    },
    "language_info": {
      "name": "python"
    }
  },
  "cells": [
    {
      "cell_type": "markdown",
      "metadata": {
        "id": "view-in-github",
        "colab_type": "text"
      },
      "source": [
        "<a href=\"https://colab.research.google.com/github/mostafa-ja/sample/blob/master/Object_Oriented_Programming.ipynb\" target=\"_parent\"><img src=\"https://colab.research.google.com/assets/colab-badge.svg\" alt=\"Open In Colab\"/></a>"
      ]
    },
    {
      "cell_type": "markdown",
      "source": [
        "Class atribute vs instance atribute \n",
        "\n",
        "\n",
        " toturial's link : [link text](https://www.youtube.com/watch?v=-pEs-Bss8Wc) "
      ],
      "metadata": {
        "id": "ALaSAf27A-xL"
      }
    },
    {
      "cell_type": "code",
      "execution_count": 4,
      "metadata": {
        "id": "8wWvlpQl-2Ms"
      },
      "outputs": [],
      "source": [
        "class SoftwareEngineer:   \n",
        "  #class atribute\n",
        "  alias = 'keyboard magician'\n",
        "\n",
        "  def __init__(self,name,age,level,salary):\n",
        "    #instance atribute \n",
        "    self.name = name\n",
        "    self.age = age\n",
        "    self.level = level\n",
        "    self.salary = salary\n"
      ]
    },
    {
      "cell_type": "code",
      "source": [
        "# instance==object\n",
        "\n",
        "A = SoftwareEngineer('ali',26,2,50000)  # we created A as an instance now\n",
        "print(A.age)  #instance atribute\n",
        "print(SoftwareEngineer.alias) #class atribute"
      ],
      "metadata": {
        "colab": {
          "base_uri": "https://localhost:8080/"
        },
        "id": "SEdqmJfr_U2E",
        "outputId": "f871c4fa-1c1c-4d94-e8b8-5151998e4e4c"
      },
      "execution_count": 5,
      "outputs": [
        {
          "output_type": "stream",
          "name": "stdout",
          "text": [
            "26\n",
            "keyboard magician\n"
          ]
        }
      ]
    },
    {
      "cell_type": "markdown",
      "source": [
        "Defining fuctions in the class (instance methodes)"
      ],
      "metadata": {
        "id": "1dj78MmiBUuT"
      }
    },
    {
      "cell_type": "code",
      "source": [
        "# ATTENTION the first argument in all functions inside the class must have <self>, because self refers to the instance itself\n",
        "\n",
        "class SoftwareEngineer:   \n",
        "  #class atribute\n",
        "  alias = 'keyboard magician'\n",
        "\n",
        "  def __init__(self,name,age,level,salary):\n",
        "    #instance atribute \n",
        "    self.name = name\n",
        "    self.age = age\n",
        "    self.level = level\n",
        "    self.salary = salary\n",
        "  \n",
        "  #instance methode\n",
        "  def code(self):\n",
        "    print(f'{self.name} is writing code ... ') \n",
        "\n",
        "A = SoftwareEngineer('ali',26,2,50000) \n",
        "A.code()  # ATTENTION , atributes without prantheses and methodes with parantheses\n",
        "          # our methode dosnt have any input , because in definition had just one argument(self)"
      ],
      "metadata": {
        "colab": {
          "base_uri": "https://localhost:8080/"
        },
        "id": "yCVAuUusBe5D",
        "outputId": "ad484dcd-0128-4608-d097-f436c49e4b62"
      },
      "execution_count": 6,
      "outputs": [
        {
          "output_type": "stream",
          "name": "stdout",
          "text": [
            "ali is writing code ... \n"
          ]
        }
      ]
    },
    {
      "cell_type": "code",
      "source": [
        "class SoftwareEngineer:   \n",
        "  #class atribute\n",
        "  alias = 'keyboard magician'\n",
        "\n",
        "  def __init__(self,name,age,level,salary):\n",
        "    #instance atribute \n",
        "    self.name = name\n",
        "    self.age = age\n",
        "    self.level = level\n",
        "    self.salary = salary\n",
        "  \n",
        "  #instance methode\n",
        "  def code(self):\n",
        "    print(f'{self.name} is writing code ... ') \n",
        "  \n",
        "  def code_in_language(self,language):   # 2 arguments methode\n",
        "    print(f'{self.name} is writing code in {language} ...')\n",
        "\n",
        "A = SoftwareEngineer('ali',26,2,50000) \n",
        "A.code_in_language('python') "
      ],
      "metadata": {
        "colab": {
          "base_uri": "https://localhost:8080/"
        },
        "id": "iExeMWeqD38Z",
        "outputId": "deed723f-a9cc-4a4a-ea7c-6a7b306a1bc5"
      },
      "execution_count": 12,
      "outputs": [
        {
          "output_type": "stream",
          "name": "stdout",
          "text": [
            "ali is writing code in python ...\n"
          ]
        }
      ]
    },
    {
      "cell_type": "markdown",
      "source": [
        "# Dunder (doyble underscore) methods"
      ],
      "metadata": {
        "id": "VXzGrQbFJYew"
      }
    },
    {
      "cell_type": "code",
      "source": [
        "# calling our instance A\n",
        "print(A)"
      ],
      "metadata": {
        "colab": {
          "base_uri": "https://localhost:8080/"
        },
        "id": "jWvzGHmkFhAt",
        "outputId": "c9d4ff6c-5bf5-4248-bb2e-6c8dc89e7c89"
      },
      "execution_count": 13,
      "outputs": [
        {
          "output_type": "stream",
          "name": "stdout",
          "text": [
            "<__main__.SoftwareEngineer object at 0x7fa32fb7ff50>\n"
          ]
        }
      ]
    },
    {
      "cell_type": "code",
      "source": [
        "# we want when we call our object(instance) instead of giving (<__main__.SoftwareEngineer at 0x7fa32fbb7e90>) gives its information\n",
        "\n",
        "class SoftwareEngineer:   \n",
        "  alias = 'keyboard magician'\n",
        "\n",
        "  def __init__(self,name,age,level,salary):\n",
        "    self.name = name\n",
        "    self.age = age\n",
        "    self.level = level\n",
        "    self.salary = salary\n",
        "  \n",
        "  def __str__(self):\n",
        "    information = f'name = {self.name} , age = {self.age} , salary = {self.salary} '  \n",
        "    return information\n",
        "\n",
        "##ATTENTION, if we returned print(...), then we would just need to write A instead of print(A)\n",
        "\n",
        "A = SoftwareEngineer('ali',26,2,50000) \n",
        "B = SoftwareEngineer('max',30,1,60000) \n",
        "\n",
        "print(A)"
      ],
      "metadata": {
        "colab": {
          "base_uri": "https://localhost:8080/"
        },
        "id": "a4U5c4UgFoLZ",
        "outputId": "4c6995d6-891e-4e41-b6f5-8c283407a96a"
      },
      "execution_count": 15,
      "outputs": [
        {
          "output_type": "stream",
          "name": "stdout",
          "text": [
            "name = ali , age = 26 , salary = 50000 \n"
          ]
        }
      ]
    },
    {
      "cell_type": "code",
      "source": [
        "# comparing two instances A and B , by default compares just their memory address\n",
        "print(A==B)"
      ],
      "metadata": {
        "colab": {
          "base_uri": "https://localhost:8080/"
        },
        "id": "9wNYsCJkHqvl",
        "outputId": "65de8216-12e6-425a-d83c-389e446df476"
      },
      "execution_count": 16,
      "outputs": [
        {
          "output_type": "stream",
          "name": "stdout",
          "text": [
            "False\n"
          ]
        }
      ]
    },
    {
      "cell_type": "code",
      "source": [
        "# changing the concept of comparing two instances based on for example name and age\n",
        "\n",
        "class SoftwareEngineer:   \n",
        "  alias = 'keyboard magician'\n",
        "\n",
        "  def __init__(self,name,age,level,salary):\n",
        "    self.name = name\n",
        "    self.age = age\n",
        "    self.level = level\n",
        "    self.salary = salary\n",
        "  \n",
        "  def __str__(self):\n",
        "    information = f'name = {self.name} , age = {self.age} , salary = {self.salary} '  \n",
        "    return information\n",
        "\n",
        "  def __eq__(self,other):\n",
        "    return self.name==other.name and self.age==other.age\n",
        "\n",
        "A = SoftwareEngineer('ali',26,2,50000) \n",
        "B = SoftwareEngineer('max',30,1,60000) \n",
        "C = SoftwareEngineer('ali',26,1,60000) \n",
        "\n",
        "print(A==B)\n",
        "print(A==C)"
      ],
      "metadata": {
        "colab": {
          "base_uri": "https://localhost:8080/"
        },
        "id": "2p5bZFEZINzT",
        "outputId": "69d6aec4-ba5f-44b9-fac0-804613668516"
      },
      "execution_count": 17,
      "outputs": [
        {
          "output_type": "stream",
          "name": "stdout",
          "text": [
            "False\n",
            "True\n"
          ]
        }
      ]
    },
    {
      "cell_type": "markdown",
      "source": [
        "# Function inside the class without self argument\n",
        "We can only use in class not with instances\n",
        "\n",
        "usaully use this with static decoration(not important)"
      ],
      "metadata": {
        "id": "j9r-Ms9TKH4B"
      }
    },
    {
      "cell_type": "code",
      "source": [
        "class SoftwareEngineer:   \n",
        "  alias = 'keyboard magician'\n",
        "\n",
        "  def __init__(self,name,age,level,salary):\n",
        "    self.name = name\n",
        "    self.age = age\n",
        "    self.level = level\n",
        "    self.salary = salary\n",
        "  \n",
        "  def entry_salary(age):\n",
        "    if age < 28:\n",
        "      return 5000\n",
        "    if age < 35:\n",
        "      return 7000\n",
        "    return 9000\n",
        "\n",
        "A = SoftwareEngineer('ali',26,2,50000) \n",
        "\n",
        "print(A.entry_salary(26))  #we cant use for instances , because there is no self argument, we can use for class(blow)\n"
      ],
      "metadata": {
        "colab": {
          "base_uri": "https://localhost:8080/",
          "height": 217
        },
        "id": "n7UTnJooKAFv",
        "outputId": "97e7cddb-6482-42de-e448-8342050a1a7b"
      },
      "execution_count": 18,
      "outputs": [
        {
          "output_type": "error",
          "ename": "TypeError",
          "evalue": "ignored",
          "traceback": [
            "\u001b[0;31m---------------------------------------------------------------------------\u001b[0m",
            "\u001b[0;31mTypeError\u001b[0m                                 Traceback (most recent call last)",
            "\u001b[0;32m<ipython-input-18-c2e6725c7b77>\u001b[0m in \u001b[0;36m<module>\u001b[0;34m()\u001b[0m\n\u001b[1;32m     17\u001b[0m \u001b[0mA\u001b[0m \u001b[0;34m=\u001b[0m \u001b[0mSoftwareEngineer\u001b[0m\u001b[0;34m(\u001b[0m\u001b[0;34m'ali'\u001b[0m\u001b[0;34m,\u001b[0m\u001b[0;36m26\u001b[0m\u001b[0;34m,\u001b[0m\u001b[0;36m2\u001b[0m\u001b[0;34m,\u001b[0m\u001b[0;36m50000\u001b[0m\u001b[0;34m)\u001b[0m\u001b[0;34m\u001b[0m\u001b[0;34m\u001b[0m\u001b[0m\n\u001b[1;32m     18\u001b[0m \u001b[0;34m\u001b[0m\u001b[0m\n\u001b[0;32m---> 19\u001b[0;31m \u001b[0mprint\u001b[0m\u001b[0;34m(\u001b[0m\u001b[0mA\u001b[0m\u001b[0;34m.\u001b[0m\u001b[0mentry_salary\u001b[0m\u001b[0;34m(\u001b[0m\u001b[0;36m26\u001b[0m\u001b[0;34m)\u001b[0m\u001b[0;34m)\u001b[0m\u001b[0;34m\u001b[0m\u001b[0;34m\u001b[0m\u001b[0m\n\u001b[0m\u001b[1;32m     20\u001b[0m \u001b[0mprint\u001b[0m\u001b[0;34m(\u001b[0m\u001b[0mSoftwareEngineer\u001b[0m\u001b[0;34m.\u001b[0m\u001b[0mentry_salary\u001b[0m\u001b[0;34m(\u001b[0m\u001b[0;36m26\u001b[0m\u001b[0;34m)\u001b[0m\u001b[0;34m)\u001b[0m\u001b[0;34m\u001b[0m\u001b[0;34m\u001b[0m\u001b[0m\n",
            "\u001b[0;31mTypeError\u001b[0m: entry_salary() takes 1 positional argument but 2 were given"
          ]
        }
      ]
    },
    {
      "cell_type": "code",
      "source": [
        "class SoftwareEngineer:   \n",
        "  alias = 'keyboard magician'\n",
        "\n",
        "  def __init__(self,name,age,level,salary):\n",
        "    self.name = name\n",
        "    self.age = age\n",
        "    self.level = level\n",
        "    self.salary = salary\n",
        "  \n",
        "  def entry_salary(age):\n",
        "    if age < 28:\n",
        "      return 5000\n",
        "    if age < 35:\n",
        "      return 7000\n",
        "    return 9000\n",
        "\n",
        "A = SoftwareEngineer('ali',26,2,50000)  \n",
        "\n",
        "print(SoftwareEngineer.entry_salary(26))"
      ],
      "metadata": {
        "colab": {
          "base_uri": "https://localhost:8080/"
        },
        "id": "TBdkqhyyLSDs",
        "outputId": "c0e725a7-063e-4264-ba16-1593c6df1e65"
      },
      "execution_count": 19,
      "outputs": [
        {
          "output_type": "stream",
          "name": "stdout",
          "text": [
            "5000\n"
          ]
        }
      ]
    },
    {
      "cell_type": "markdown",
      "source": [
        "# Inheritance"
      ],
      "metadata": {
        "id": "bmDUENv0lvaq"
      }
    },
    {
      "cell_type": "code",
      "source": [
        "class Employee:\n",
        "\n",
        "  def __init__(self,name,age):\n",
        "    self.name = name\n",
        "    self.age = age\n",
        "  \n",
        "  def work(self):\n",
        "    print(f'{self.name} is working ... ')\n",
        "\n",
        "\n",
        "class SoftwareEngineer(Employee):       # ATTENTION : inherits , all attributes and methods of Employeee class\n",
        "  pass\n",
        "\n",
        "class Designer(Employee):\n",
        "  pass\n",
        "\n",
        "\n",
        "A = SoftwareEngineer('ali',26)\n",
        "print(A.name,A.age)\n",
        "A.work()\n",
        "\n",
        "B = SoftwareEngineer('max',30)\n",
        "print(B.name,B.age)\n",
        "B.work()"
      ],
      "metadata": {
        "colab": {
          "base_uri": "https://localhost:8080/"
        },
        "id": "TB1TTBjPlyVf",
        "outputId": "12b61e63-4d7b-43ab-89f6-8d5723da73e8"
      },
      "execution_count": 4,
      "outputs": [
        {
          "output_type": "stream",
          "name": "stdout",
          "text": [
            "ali 26\n",
            "ali is working ... \n",
            "max 30\n",
            "max is working ... \n"
          ]
        }
      ]
    },
    {
      "cell_type": "markdown",
      "source": [
        "# Extend in inheritance \n",
        "adding more attributes and methods to child class"
      ],
      "metadata": {
        "id": "vefpKwcjoiTA"
      }
    },
    {
      "cell_type": "code",
      "source": [
        "# if we wanted all attributes of parent class without any new one, we wouldnt need to define __init__ for child class\n",
        "# but when we want to add more atrributes for child class we have to use super() to inherit and extend that\n",
        "\n",
        "class Employee:\n",
        "\n",
        "  def __init__(self,name,age,salary):\n",
        "    self.name = name\n",
        "    self.age = age\n",
        "    self.salary = salary\n",
        "\n",
        "  def work(self):\n",
        "    print(f'{self.name} is working ... ')\n",
        "\n",
        "\n",
        "class SoftwareEngineer(Employee):       \n",
        "  \n",
        "  def __init__(self, name, age,salary,level):\n",
        "      super().__init__(name, age,salary)              # inherits (name,age,salary) from __init__ from parent class [super() refers to parent class]\n",
        "      self.level = level\n",
        "  \n",
        "  def debug(self):                                    # this method works just for software engineer's class\n",
        "    print(f\"{self.name} is debugging ... \")           # ATTENTION :  we used print in return so we dont need to call <print(instance.debug)> no print()\n",
        "\n",
        "\n",
        "class Designer(Employee):\n",
        "  \n",
        "  def draw(self):\n",
        "    print(f'{self.name} is drawing ... ')           # this method works just for designer's class\n",
        "\n",
        "\n",
        "A = SoftwareEngineer('ali',26,5000,'junior')  #SoftwareEngineer has one more attribute(level)\n",
        "B = Designer('max',30,6000)\n",
        "\n",
        "A.debug()\n",
        "B.draw()\n",
        "A.draw()  # ERROR : 'SoftwareEngineer' object has no attribute 'draw'"
      ],
      "metadata": {
        "colab": {
          "base_uri": "https://localhost:8080/",
          "height": 235
        },
        "id": "whH2H6ksnBAH",
        "outputId": "d9d5f7e9-2320-40ba-f1f1-a9f87df72209"
      },
      "execution_count": 16,
      "outputs": [
        {
          "output_type": "stream",
          "name": "stdout",
          "text": [
            "ali is debugging ... \n",
            "max is drawing ... \n"
          ]
        },
        {
          "output_type": "error",
          "ename": "AttributeError",
          "evalue": "ignored",
          "traceback": [
            "\u001b[0;31m---------------------------------------------------------------------------\u001b[0m",
            "\u001b[0;31mAttributeError\u001b[0m                            Traceback (most recent call last)",
            "\u001b[0;32m<ipython-input-16-d289e616875f>\u001b[0m in \u001b[0;36m<module>\u001b[0;34m()\u001b[0m\n\u001b[1;32m     34\u001b[0m \u001b[0mA\u001b[0m\u001b[0;34m.\u001b[0m\u001b[0mdebug\u001b[0m\u001b[0;34m(\u001b[0m\u001b[0;34m)\u001b[0m\u001b[0;34m\u001b[0m\u001b[0;34m\u001b[0m\u001b[0m\n\u001b[1;32m     35\u001b[0m \u001b[0mB\u001b[0m\u001b[0;34m.\u001b[0m\u001b[0mdraw\u001b[0m\u001b[0;34m(\u001b[0m\u001b[0;34m)\u001b[0m\u001b[0;34m\u001b[0m\u001b[0;34m\u001b[0m\u001b[0m\n\u001b[0;32m---> 36\u001b[0;31m \u001b[0mA\u001b[0m\u001b[0;34m.\u001b[0m\u001b[0mdraw\u001b[0m\u001b[0;34m(\u001b[0m\u001b[0;34m)\u001b[0m\u001b[0;34m\u001b[0m\u001b[0;34m\u001b[0m\u001b[0m\n\u001b[0m",
            "\u001b[0;31mAttributeError\u001b[0m: 'SoftwareEngineer' object has no attribute 'draw'"
          ]
        }
      ]
    },
    {
      "cell_type": "markdown",
      "source": [
        "# Override in inheritance\n",
        "usind one method in parent class and also child class , in this situation , child class will be called\n",
        "\n",
        "(taking overriden method from child class not parent class)"
      ],
      "metadata": {
        "id": "jA4yRWvUusVg"
      }
    },
    {
      "cell_type": "code",
      "source": [
        "class Employee:\n",
        "\n",
        "  def __init__(self,name,age,salary):\n",
        "    self.name = name\n",
        "    self.age = age\n",
        "    self.salary = salary\n",
        "\n",
        "  def work(self):\n",
        "    print(f'{self.name} is working ... ')\n",
        "\n",
        "\n",
        "class SoftwareEngineer(Employee):       \n",
        "  \n",
        "  def __init__(self, name, age,salary,level):\n",
        "      super().__init__(name, age,salary)              \n",
        "      self.level = level\n",
        "  \n",
        "  def work(self):                             # we defined work() method diffrently from parent class \n",
        "    print(f'{self.name} is coding ... ')        \n",
        "\n",
        "  def debug(self):                                    \n",
        "    print(f\"{self.name} is debugging ... \")           \n",
        "\n",
        "\n",
        "class Designer(Employee):\n",
        "\n",
        "  def work(self):                             # we defined work() method diffrently from parent class\n",
        "    print(f'{self.name} is desinging ... ')\n",
        "  \n",
        "  def draw(self):\n",
        "    print(f'{self.name} is drawing ... ')          \n",
        "\n",
        "\n",
        "A = SoftwareEngineer('ali',26,5000,'junior') \n",
        "B = Designer('max',30,6000)\n",
        "\n",
        "A.work()\n",
        "B.work()\n"
      ],
      "metadata": {
        "colab": {
          "base_uri": "https://localhost:8080/"
        },
        "id": "DN7q6xQ2u6-k",
        "outputId": "c39d353c-9709-4d63-bd9e-4127ac42e45f"
      },
      "execution_count": 17,
      "outputs": [
        {
          "output_type": "stream",
          "name": "stdout",
          "text": [
            "ali is coding ... \n",
            "max is desinging ... \n"
          ]
        }
      ]
    }
  ]
}