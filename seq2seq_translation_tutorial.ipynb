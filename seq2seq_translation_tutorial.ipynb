{
  "cells": [
    {
      "cell_type": "markdown",
      "metadata": {
        "id": "view-in-github",
        "colab_type": "text"
      },
      "source": [
        "<a href=\"https://colab.research.google.com/github/mostafa-ja/sample/blob/master/seq2seq_translation_tutorial.ipynb\" target=\"_parent\"><img src=\"https://colab.research.google.com/assets/colab-badge.svg\" alt=\"Open In Colab\"/></a>"
      ]
    },
    {
      "cell_type": "markdown",
      "metadata": {
        "id": "cs0fwOp3Er5P"
      },
      "source": [
        "\n",
        "# NLP From Scratch: Translation with a Sequence to Sequence Network and Attention\n",
        "**Author**: [Sean Robertson](https://github.com/spro/practical-pytorch)\n",
        "\n",
        "This is the third and final tutorial on doing \"NLP From Scratch\", where we\n",
        "write our own classes and functions to preprocess the data to do our NLP\n",
        "modeling tasks. We hope after you complete this tutorial that you'll proceed to\n",
        "learn how `torchtext` can handle much of this preprocessing for you in the\n",
        "three tutorials immediately following this one.\n",
        "\n",
        "In this project we will be teaching a neural network to translate from\n",
        "French to English.\n",
        "\n",
        "::\n",
        "\n",
        "    [KEY: > input, = target, < output]\n",
        "\n",
        "    > il est en train de peindre un tableau .\n",
        "    = he is painting a picture .\n",
        "    < he is painting a picture .\n",
        "\n",
        "    > pourquoi ne pas essayer ce vin delicieux ?\n",
        "    = why not try that delicious wine ?\n",
        "    < why not try that delicious wine ?\n",
        "\n",
        "    > elle n est pas poete mais romanciere .\n",
        "    = she is not a poet but a novelist .\n",
        "    < she not not a poet but a novelist .\n",
        "\n",
        "    > vous etes trop maigre .\n",
        "    = you re too skinny .\n",
        "    < you re all alone .\n",
        "\n",
        "... to varying degrees of success.\n",
        "\n",
        "This is made possible by the simple but powerful idea of the [sequence\n",
        "to sequence network](https://arxiv.org/abs/1409.3215)_, in which two\n",
        "recurrent neural networks work together to transform one sequence to\n",
        "another. An encoder network condenses an input sequence into a vector,\n",
        "and a decoder network unfolds that vector into a new sequence.\n",
        "\n",
        "[]! '![image.png](data:image/png;base64,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)'\n",
        "\n",
        "To improve upon this model we'll use an [attention\n",
        "mechanism](https://arxiv.org/abs/1409.0473)_, which lets the decoder\n",
        "learn to focus over a specific range of the input sequence.\n",
        "\n",
        "**Recommended Reading:**\n",
        "\n",
        "It would also be useful to know about Sequence to Sequence networks and\n",
        "how they work:\n",
        "\n",
        "-  [Learning Phrase Representations using RNN Encoder-Decoder for\n",
        "   Statistical Machine Translation](https://arxiv.org/abs/1406.1078)_\n",
        "-  [Sequence to Sequence Learning with Neural\n",
        "   Networks](https://arxiv.org/abs/1409.3215)_\n",
        "-  [Neural Machine Translation by Jointly Learning to Align and\n",
        "   Translate](https://arxiv.org/abs/1409.0473)_\n",
        "-  [A Neural Conversational Model](https://arxiv.org/abs/1506.05869)_\n",
        "\n",
        "You will also find the previous tutorials on\n",
        ":doc:`/intermediate/char_rnn_classification_tutorial`\n",
        "and :doc:`/intermediate/char_rnn_generation_tutorial`\n",
        "helpful as those concepts are very similar to the Encoder and Decoder\n",
        "models, respectively.\n",
        "\n",
        "**Requirements**\n"
      ]
    },
    {
      "cell_type": "code",
      "execution_count": 1,
      "metadata": {
        "id": "U_5Oay9XEr5U"
      },
      "outputs": [],
      "source": [
        "from __future__ import unicode_literals, print_function, division\n",
        "from io import open\n",
        "import unicodedata\n",
        "import string\n",
        "import re\n",
        "import random\n",
        "\n",
        "import torch\n",
        "import torch.nn as nn\n",
        "from torch import optim\n",
        "import torch.nn.functional as F\n",
        "\n",
        "device = torch.device(\"cuda\" if torch.cuda.is_available() else \"cpu\")"
      ]
    },
    {
      "cell_type": "markdown",
      "metadata": {
        "id": "qkxYPVJtEr5W"
      },
      "source": [
        "## Loading data files\n",
        "\n",
        "The data for this project is a set of many thousands of English to\n",
        "French translation pairs.\n",
        "\n",
        "[This question on Open Data Stack\n",
        "Exchange](https://opendata.stackexchange.com/questions/3888/dataset-of-sentences-translated-into-many-languages)_\n",
        "pointed me to the open translation site https://tatoeba.org/ which has\n",
        "downloads available at https://tatoeba.org/eng/downloads - and better\n",
        "yet, someone did the extra work of splitting language pairs into\n",
        "individual text files here: https://www.manythings.org/anki/\n",
        "\n",
        "The English to French pairs are too big to include in the repo, so\n",
        "download to ``data/eng-fra.txt`` before continuing. The file is a tab\n",
        "separated list of translation pairs:\n",
        "\n",
        "::\n",
        "\n",
        "    I am cold.    J'ai froid.\n",
        "\n",
        ".. Note::\n",
        "   Download the data from\n",
        "   [here](https://download.pytorch.org/tutorial/data.zip)\n",
        "   and extract it to the current directory.\n",
        "\n"
      ]
    },
    {
      "cell_type": "code",
      "source": [
        "!wget 'https://download.pytorch.org/tutorial/data.zip'\n",
        "\n",
        "import zipfile\n",
        "\n",
        "with zipfile.ZipFile('/content/data.zip','r') as zip_ref:\n",
        "  zip_ref.extractall('/content/')"
      ],
      "metadata": {
        "id": "X3blHeokGCoo"
      },
      "execution_count": null,
      "outputs": []
    },
    {
      "cell_type": "markdown",
      "metadata": {
        "id": "fvXw_k94Er5Y"
      },
      "source": [
        "Similar to the character encoding used in the character-level RNN\n",
        "tutorials, we will be representing each word in a language as a one-hot\n",
        "vector, or giant vector of zeros except for a single one (at the index\n",
        "of the word). Compared to the dozens of characters that might exist in a\n",
        "language, there are many many more words, so the encoding vector is much\n",
        "larger. We will however cheat a bit and trim the data to only use a few\n",
        "thousand words per language.\n",
        "\n",
        "![](https://pytorch.org/tutorials/_images/word-encoding.png)"
      ]
    },
    {
      "cell_type": "markdown",
      "metadata": {
        "id": "LkQlaj8lEr5Z"
      },
      "source": [
        "We'll need a unique index per word to use as the inputs and targets of\n",
        "the networks later. To keep track of all this we will use a helper class\n",
        "called ``Lang`` which has word → index (``word2index``) and index → word\n",
        "(``index2word``) dictionaries, as well as a count of each word\n",
        "``word2count`` which will be used to replace rare words later.\n",
        "\n",
        "\n"
      ]
    },
    {
      "cell_type": "code",
      "execution_count": 3,
      "metadata": {
        "id": "Q4ehcX4IEr5a"
      },
      "outputs": [],
      "source": [
        "SOS_token = 0\n",
        "EOS_token = 1\n",
        "\n",
        "\n",
        "class Lang:\n",
        "    def __init__(self, name):\n",
        "        self.name = name\n",
        "        self.word2index = {}\n",
        "        self.word2count = {}\n",
        "        self.index2word = {0: \"SOS\", 1: \"EOS\"}\n",
        "        self.n_words = 2  # Count SOS and EOS\n",
        "\n",
        "    def addSentence(self, sentence):\n",
        "        for word in sentence.split(' '):\n",
        "            self.addWord(word)\n",
        "\n",
        "    def addWord(self, word):\n",
        "        if word not in self.word2index:\n",
        "            self.word2index[word] = self.n_words\n",
        "            self.word2count[word] = 1\n",
        "            self.index2word[self.n_words] = word\n",
        "            self.n_words += 1\n",
        "        else:\n",
        "            self.word2count[word] += 1"
      ]
    },
    {
      "cell_type": "markdown",
      "metadata": {
        "id": "_y48o-klEr5b"
      },
      "source": [
        "The files are all in Unicode, to simplify we will turn Unicode\n",
        "characters to ASCII, make everything lowercase, and trim most\n",
        "punctuation.\n",
        "\n",
        "\n"
      ]
    },
    {
      "cell_type": "code",
      "execution_count": 4,
      "metadata": {
        "id": "IwW7hSMtEr5c"
      },
      "outputs": [],
      "source": [
        "# Turn a Unicode string to plain ASCII, thanks to\n",
        "# https://stackoverflow.com/a/518232/2809427\n",
        "def unicodeToAscii(s):\n",
        "    return ''.join(\n",
        "        c for c in unicodedata.normalize('NFD', s)\n",
        "        if unicodedata.category(c) != 'Mn'\n",
        "    )\n",
        "\n",
        "# Lowercase, trim, and remove non-letter characters\n",
        "\n",
        "\n",
        "def normalizeString(s):\n",
        "    s = unicodeToAscii(s.lower().strip())\n",
        "    s = re.sub(r\"([.!?])\", r\" \\1\", s)\n",
        "    s = re.sub(r\"[^a-zA-Z.!?]+\", r\" \", s)\n",
        "    return s"
      ]
    },
    {
      "cell_type": "markdown",
      "metadata": {
        "id": "fGza7DX9Er5d"
      },
      "source": [
        "To read the data file we will split the file into lines, and then split\n",
        "lines into pairs. The files are all English → Other Language, so if we\n",
        "want to translate from Other Language → English I added the ``reverse``\n",
        "flag to reverse the pairs.\n",
        "\n",
        "\n"
      ]
    },
    {
      "cell_type": "code",
      "source": [
        "a = ['ali','sad','kazim','university']\n",
        "reversed(a)"
      ],
      "metadata": {
        "colab": {
          "base_uri": "https://localhost:8080/"
        },
        "id": "KsH6GI7kNtiV",
        "outputId": "aeac00fb-9f46-4cc1-fbde-de8d74ab20bf"
      },
      "execution_count": null,
      "outputs": [
        {
          "output_type": "execute_result",
          "data": {
            "text/plain": [
              "<list_reverseiterator at 0x7f99131c34d0>"
            ]
          },
          "metadata": {},
          "execution_count": 4
        }
      ]
    },
    {
      "cell_type": "code",
      "source": [
        "list(reversed(a))"
      ],
      "metadata": {
        "colab": {
          "base_uri": "https://localhost:8080/"
        },
        "id": "4eK3c3W4N60w",
        "outputId": "4e2e1568-211f-4cd2-d892-c72581fb5b3d"
      },
      "execution_count": null,
      "outputs": [
        {
          "output_type": "execute_result",
          "data": {
            "text/plain": [
              "['university', 'kazim', 'sad', 'ali']"
            ]
          },
          "metadata": {},
          "execution_count": 5
        }
      ]
    },
    {
      "cell_type": "code",
      "execution_count": 5,
      "metadata": {
        "id": "qez2E4YBEr5e"
      },
      "outputs": [],
      "source": [
        "def readLangs(lang1, lang2, reverse=False):\n",
        "    print(\"Reading lines...\")\n",
        "\n",
        "    # Read the file and split into lines\n",
        "    ## 'data/%s-%s.txt' % (lang1, lang2) =='data{}-{}'.format(lang1, lang2)\n",
        "    # strip() : all chars have been stripped from the beginning and the end of the string\n",
        "    lines = open('data/%s-%s.txt' % (lang1, lang2), encoding='utf-8').read().strip().split('\\n')\n",
        "\n",
        "    # Split every line into pairs and normalize\n",
        "    pairs = [[normalizeString(s) for s in l.split('\\t')] for l in lines]    # '\\t' == tab\n",
        "\n",
        "    # Reverse pairs, make Lang instances\n",
        "    if reverse:\n",
        "        pairs = [list(reversed(p)) for p in pairs]\n",
        "        input_lang = Lang(lang2)\n",
        "        output_lang = Lang(lang1)\n",
        "    else:\n",
        "        input_lang = Lang(lang1)\n",
        "        output_lang = Lang(lang2)\n",
        "\n",
        "    return input_lang, output_lang, pairs"
      ]
    },
    {
      "cell_type": "code",
      "source": [
        "a,b,c = readLangs('eng', 'fra', reverse=False)"
      ],
      "metadata": {
        "colab": {
          "base_uri": "https://localhost:8080/"
        },
        "id": "pEL2T4lSPB9P",
        "outputId": "7d2284c3-aac8-4447-c6e0-6213ccfb026b"
      },
      "execution_count": null,
      "outputs": [
        {
          "output_type": "stream",
          "name": "stdout",
          "text": [
            "Reading lines...\n"
          ]
        }
      ]
    },
    {
      "cell_type": "code",
      "source": [
        "print(c[300])\n",
        "print(list(reversed(c[300])))"
      ],
      "metadata": {
        "colab": {
          "base_uri": "https://localhost:8080/"
        },
        "id": "jyv-_UFVPQ74",
        "outputId": "15427334-a685-4f9f-fa11-65df1123c153"
      },
      "execution_count": null,
      "outputs": [
        {
          "output_type": "stream",
          "name": "stdout",
          "text": [
            "['i m ugly .', 'je suis laid .']\n",
            "['je suis laid .', 'i m ugly .']\n"
          ]
        }
      ]
    },
    {
      "cell_type": "code",
      "source": [
        "print(a.name)\n",
        "print(a.index2word[0])"
      ],
      "metadata": {
        "colab": {
          "base_uri": "https://localhost:8080/"
        },
        "id": "sRSvLd0vP7uD",
        "outputId": "cea89fe4-20b8-4459-85f1-0f088e1f6e20"
      },
      "execution_count": null,
      "outputs": [
        {
          "output_type": "stream",
          "name": "stdout",
          "text": [
            "eng\n",
            "SOS\n"
          ]
        }
      ]
    },
    {
      "cell_type": "markdown",
      "metadata": {
        "id": "VK5ffRYzEr5f"
      },
      "source": [
        "Since there are a *lot* of example sentences and we want to train\n",
        "something quickly, we'll trim the data set to only relatively short and\n",
        "simple sentences. Here the maximum length is 10 words (that includes\n",
        "ending punctuation) and we're filtering to sentences that translate to\n",
        "the form \"I am\" or \"He is\" etc. (accounting for apostrophes replaced\n",
        "earlier).\n",
        "\n",
        "\n"
      ]
    },
    {
      "cell_type": "code",
      "execution_count": 6,
      "metadata": {
        "id": "xyhfTEqAEr5f"
      },
      "outputs": [],
      "source": [
        "MAX_LENGTH = 10\n",
        "\n",
        "eng_prefixes = (\n",
        "    \"i am \", \"i m \",\n",
        "    \"he is\", \"he s \",\n",
        "    \"she is\", \"she s \",\n",
        "    \"you are\", \"you re \",\n",
        "    \"we are\", \"we re \",\n",
        "    \"they are\", \"they re \"\n",
        ")\n",
        "\n",
        "# english part , less than 10 words, french part also , and starts with ...\n",
        "# p[1].startsw... not p[0] because we will reverse pairs fra2eng\n",
        "def filterPair(p):\n",
        "    return len(p[0].split(' ')) < MAX_LENGTH and \\\n",
        "        len(p[1].split(' ')) < MAX_LENGTH and \\\n",
        "        p[1].startswith(eng_prefixes)\n",
        "\n",
        "\n",
        "def filterPairs(pairs):\n",
        "    return [pair for pair in pairs if filterPair(pair)]"
      ]
    },
    {
      "cell_type": "markdown",
      "metadata": {
        "id": "KM4uM4oAEr5g"
      },
      "source": [
        "The full process for preparing the data is:\n",
        "\n",
        "-  Read text file and split into lines, split lines into pairs\n",
        "-  Normalize text, filter by length and content\n",
        "-  Make word lists from sentences in pairs\n",
        "\n",
        "\n"
      ]
    },
    {
      "cell_type": "code",
      "execution_count": 7,
      "metadata": {
        "id": "SN8EDo6WEr5g",
        "colab": {
          "base_uri": "https://localhost:8080/"
        },
        "outputId": "f473fabd-4be7-416c-c176-2d3db588b133"
      },
      "outputs": [
        {
          "output_type": "stream",
          "name": "stdout",
          "text": [
            "Reading lines...\n",
            "Read 135842 sentence pairs\n",
            "Trimmed to 10599 sentence pairs\n",
            "Counting words...\n",
            "Counted words:\n",
            "fra 4345\n",
            "eng 2803\n",
            "['il est ce qu on appelle un lettre .', 'he is what we call a scholar .']\n"
          ]
        }
      ],
      "source": [
        "def prepareData(lang1, lang2, reverse=False):\n",
        "    input_lang, output_lang, pairs = readLangs(lang1, lang2, reverse)\n",
        "    print(\"Read %s sentence pairs\" % len(pairs))\n",
        "    pairs = filterPairs(pairs)\n",
        "    print(\"Trimmed to %s sentence pairs\" % len(pairs))\n",
        "    print(\"Counting words...\")\n",
        "    for pair in pairs:\n",
        "        input_lang.addSentence(pair[0])\n",
        "        output_lang.addSentence(pair[1])\n",
        "    print(\"Counted words:\")\n",
        "    print(input_lang.name, input_lang.n_words)\n",
        "    print(output_lang.name, output_lang.n_words)\n",
        "    return input_lang, output_lang, pairs\n",
        "\n",
        "\n",
        "input_lang, output_lang, pairs = prepareData('eng', 'fra', True)\n",
        "print(random.choice(pairs))"
      ]
    },
    {
      "cell_type": "markdown",
      "metadata": {
        "id": "T8O9XpzKEr5h"
      },
      "source": [
        "## The Seq2Seq Model\n",
        "\n",
        "A Recurrent Neural Network, or RNN, is a network that operates on a\n",
        "sequence and uses its own output as input for subsequent steps.\n",
        "\n",
        "A [Sequence to Sequence network](https://arxiv.org/abs/1409.3215)_, or\n",
        "seq2seq network, or [Encoder Decoder\n",
        "network](https://arxiv.org/pdf/1406.1078v3.pdf)_, is a model\n",
        "consisting of two RNNs called the encoder and decoder. The encoder reads\n",
        "an input sequence and outputs a single vector, and the decoder reads\n",
        "that vector to produce an output sequence.\n",
        "\n",
        "![](https://pytorch.org/tutorials/_images/seq2seq.png)\n",
        "\n",
        "--------\n",
        "\n",
        "\n",
        "![](https://raw.githubusercontent.com/mostafa-ja/pytorch-seq2seq/49df8404d938a6edbf729876405558cc2c2b3013/assets/seq2seq1.png)\n",
        "\n",
        "Unlike sequence prediction with a single RNN, where every input\n",
        "corresponds to an output, the seq2seq model frees us from sequence\n",
        "length and order, which makes it ideal for translation between two\n",
        "languages.\n",
        "\n",
        "Consider the sentence \"Je ne suis pas le chat noir\" → \"I am not the\n",
        "black cat\". Most of the words in the input sentence have a direct\n",
        "translation in the output sentence, but are in slightly different\n",
        "orders, e.g. \"chat noir\" and \"black cat\". Because of the \"ne/pas\"\n",
        "construction there is also one more word in the input sentence. It would\n",
        "be difficult to produce a correct translation directly from the sequence\n",
        "of input words.\n",
        "\n",
        "With a seq2seq model the encoder creates a single vector which, in the\n",
        "ideal case, encodes the \"meaning\" of the input sequence into a single\n",
        "vector — a single point in some N dimensional space of sentences.\n",
        "\n",
        "\n"
      ]
    },
    {
      "cell_type": "markdown",
      "metadata": {
        "id": "JbMA9uEVEr5i"
      },
      "source": [
        "### The Encoder\n",
        "\n",
        "The encoder of a seq2seq network is a RNN that outputs some value for\n",
        "every word from the input sentence. For every input word the encoder\n",
        "outputs a vector and a hidden state, and uses the hidden state for the\n",
        "next input word.\n",
        "\n",
        "![](https://pytorch.org/tutorials/_images/encoder-network.png)\n",
        "\n",
        "\n"
      ]
    },
    {
      "cell_type": "code",
      "source": [
        "embedding = nn.Embedding(5, 3)   #nn.Embedding(num_embeddings, embedding_dim)\n",
        "embedding.weight"
      ],
      "metadata": {
        "colab": {
          "base_uri": "https://localhost:8080/"
        },
        "id": "A0CdlF48pV-u",
        "outputId": "d17d370e-d560-43bf-926d-00349972d07d"
      },
      "execution_count": null,
      "outputs": [
        {
          "output_type": "execute_result",
          "data": {
            "text/plain": [
              "Parameter containing:\n",
              "tensor([[ 0.1719,  0.9769, -0.8448],\n",
              "        [ 0.1813,  1.1131, -0.6270],\n",
              "        [ 0.5685,  2.5532, -0.3333],\n",
              "        [-0.9847,  0.0172, -0.8640],\n",
              "        [ 0.3327,  0.3771,  0.3750]], requires_grad=True)"
            ]
          },
          "metadata": {},
          "execution_count": 8
        }
      ]
    },
    {
      "cell_type": "code",
      "source": [
        "print(embedding(torch.LongTensor([0]))) # embedding.weight[0]\n",
        "print(embedding(torch.LongTensor([1,2,4]))) #answer: [embedding.weight[1],embedding.weight[2],embedding.weight[4]]"
      ],
      "metadata": {
        "colab": {
          "base_uri": "https://localhost:8080/"
        },
        "id": "OplpSUxEphKH",
        "outputId": "a57d96f5-ad62-4dfc-bef2-b18aaae9d8fb"
      },
      "execution_count": null,
      "outputs": [
        {
          "output_type": "stream",
          "name": "stdout",
          "text": [
            "tensor([[ 0.1719,  0.9769, -0.8448]], grad_fn=<EmbeddingBackward0>)\n",
            "tensor([[ 0.1813,  1.1131, -0.6270],\n",
            "        [ 0.5685,  2.5532, -0.3333],\n",
            "        [ 0.3327,  0.3771,  0.3750]], grad_fn=<EmbeddingBackward0>)\n"
          ]
        }
      ]
    },
    {
      "cell_type": "code",
      "execution_count": null,
      "metadata": {
        "id": "9ojYQ-2zEr5j"
      },
      "outputs": [],
      "source": [
        "class EncoderRNN(nn.Module):\n",
        "    def __init__(self, input_size, hidden_size):  # input_size = num_embedding = the number of distinguish words\n",
        "        super(EncoderRNN, self).__init__()\n",
        "        self.hidden_size = hidden_size\n",
        "\n",
        "        self.embedding = nn.Embedding(input_size, hidden_size)  # here, embedding_dim = hidden_size but in general can be diffrent\n",
        "        self.gru = nn.GRU(hidden_size, hidden_size)\n",
        "\n",
        "    def forward(self, input, hidden):\n",
        "        embedded = self.embedding(input).view(1, 1, -1) #input_size for gru is (N,L,H_in), here N(batch_size)=1, L(sequence_length)=1=one word\n",
        "        output = embedded\n",
        "        output, hidden = self.gru(output, hidden)\n",
        "        return output, hidden\n",
        "\n",
        "    def initHidden(self):\n",
        "        return torch.zeros(1, 1, self.hidden_size, device=device)"
      ]
    },
    {
      "cell_type": "markdown",
      "metadata": {
        "id": "Q75VdyxOEr5j"
      },
      "source": [
        "### The Decoder\n",
        "\n",
        "The decoder is another RNN that takes the encoder output vector(s) and\n",
        "outputs a sequence of words to create the translation.\n",
        "\n",
        "\n"
      ]
    },
    {
      "cell_type": "markdown",
      "metadata": {
        "id": "nGEDOQV4Er5k"
      },
      "source": [
        "#### Simple Decoder\n",
        "\n",
        "In the simplest seq2seq decoder we use only last output of the encoder.\n",
        "This last output is sometimes called the *context vector* as it encodes\n",
        "context from the entire sequence. This context vector is used as the\n",
        "initial hidden state of the decoder.\n",
        "\n",
        "At every step of decoding, the decoder is given an input token and\n",
        "hidden state. **The initial input token is the start-of-string ``<SOS>``\n",
        "token, and the first hidden state is the context vector (the encoder's\n",
        "last hidden state)**.\n",
        "\n",
        "![](https://pytorch.org/tutorials/_images/decoder-network.png)\n",
        "\n",
        "\n",
        "\n"
      ]
    },
    {
      "cell_type": "code",
      "execution_count": null,
      "metadata": {
        "id": "sb3oitGgEr5k"
      },
      "outputs": [],
      "source": [
        "class DecoderRNN(nn.Module):\n",
        "    def __init__(self, hidden_size, output_size):\n",
        "        super(DecoderRNN, self).__init__()\n",
        "        self.hidden_size = hidden_size\n",
        "\n",
        "        self.embedding = nn.Embedding(output_size, hidden_size)\n",
        "        self.gru = nn.GRU(hidden_size, hidden_size)\n",
        "        self.out = nn.Linear(hidden_size, output_size)\n",
        "        self.softmax = nn.LogSoftmax(dim=1)\n",
        "\n",
        "    def forward(self, input, hidden):\n",
        "        output = self.embedding(input).view(1, 1, -1)\n",
        "        output = F.relu(output)\n",
        "        output, hidden = self.gru(output, hidden)\n",
        "        output = self.softmax(self.out(output[0]))\n",
        "        return output, hidden\n",
        "\n",
        "    def initHidden(self):\n",
        "        return torch.zeros(1, 1, self.hidden_size, device=device)"
      ]
    },
    {
      "cell_type": "markdown",
      "metadata": {
        "id": "3Dxy757zEr5l"
      },
      "source": [
        "I encourage you to train and observe the results of this model, but to\n",
        "save space we'll be going straight for the gold and introducing the\n",
        "Attention Mechanism.\n",
        "\n",
        "\n"
      ]
    },
    {
      "cell_type": "markdown",
      "metadata": {
        "id": "4l9IJPlYEr5l"
      },
      "source": [
        "#### Attention Decoder\n",
        "\n",
        "If only the context vector is passed between the encoder and decoder,\n",
        "that single vector carries the burden of encoding the entire sentence.\n",
        "\n",
        "Attention allows the decoder network to \"focus\" on a different part of\n",
        "the encoder's outputs for every step of the decoder's own outputs. First\n",
        "we calculate a set of *attention weights*. These will be multiplied by\n",
        "the encoder output vectors to create a weighted combination. The result\n",
        "(called ``attn_applied`` in the code) should contain information about\n",
        "that specific part of the input sequence, and thus help the decoder\n",
        "choose the right output words.\n",
        "\n",
        "![](https://i.imgur.com/1152PYf.png)\n",
        "\n",
        "Calculating the attention weights is done with another feed-forward\n",
        "layer ``attn``, using the decoder's input and hidden state as inputs.\n",
        "Because there are sentences of all sizes in the training data, to\n",
        "actually create and train this layer we have to choose a maximum\n",
        "sentence length (input length, for encoder outputs) that it can apply\n",
        "to. Sentences of the maximum length will use all the attention weights,\n",
        "while shorter sentences will only use the first few.\n",
        "\n",
        "![](https://pytorch.org/tutorials/_images/attention-decoder-network.png)\n",
        "\n",
        "\n",
        "\n"
      ]
    },
    {
      "cell_type": "code",
      "execution_count": null,
      "metadata": {
        "id": "jsxK0cKDEr5m"
      },
      "outputs": [],
      "source": [
        "class AttnDecoderRNN(nn.Module):\n",
        "    def __init__(self, hidden_size, output_size, dropout_p=0.1, max_length=MAX_LENGTH):\n",
        "        super(AttnDecoderRNN, self).__init__()\n",
        "        self.hidden_size = hidden_size\n",
        "        self.output_size = output_size\n",
        "        self.dropout_p = dropout_p\n",
        "        self.max_length = max_length\n",
        "\n",
        "        self.embedding = nn.Embedding(self.output_size, self.hidden_size)\n",
        "        self.attn = nn.Linear(self.hidden_size * 2, self.max_length)\n",
        "        self.attn_combine = nn.Linear(self.hidden_size * 2, self.hidden_size)\n",
        "        self.dropout = nn.Dropout(self.dropout_p)\n",
        "        self.gru = nn.GRU(self.hidden_size, self.hidden_size)\n",
        "        self.out = nn.Linear(self.hidden_size, self.output_size)\n",
        "\n",
        "    def forward(self, input, hidden, encoder_outputs):\n",
        "        embedded = self.embedding(input).view(1, 1, -1)\n",
        "        embedded = self.dropout(embedded)\n",
        "\n",
        "        attn_weights = F.softmax(\n",
        "            self.attn(torch.cat((embedded[0], hidden[0]), 1)), dim=1)\n",
        "        attn_applied = torch.bmm(attn_weights.unsqueeze(0),\n",
        "                                 encoder_outputs.unsqueeze(0))\n",
        "\n",
        "        output = torch.cat((embedded[0], attn_applied[0]), 1)\n",
        "        output = self.attn_combine(output).unsqueeze(0)\n",
        "\n",
        "        output = F.relu(output)\n",
        "        output, hidden = self.gru(output, hidden)\n",
        "\n",
        "        output = F.log_softmax(self.out(output[0]), dim=1)\n",
        "        return output, hidden, attn_weights\n",
        "\n",
        "    def initHidden(self):\n",
        "        return torch.zeros(1, 1, self.hidden_size, device=device)"
      ]
    },
    {
      "cell_type": "markdown",
      "metadata": {
        "id": "5b4d9LfLEr5n"
      },
      "source": [
        "<div class=\"alert alert-info\"><h4>Note</h4><p>There are other forms of attention that work around the length\n",
        "  limitation by using a relative position approach. Read about \"local\n",
        "  attention\" in \n",
        "\n",
        "[ Effective Approaches to Attention-based Neural Machine Translation](https://arxiv.org/abs/1508.04025)\n",
        "\n",
        "## Training\n",
        "\n",
        "### Preparing Training Data\n",
        "\n",
        "To train, for each pair we will need an input tensor (indexes of the\n",
        "words in the input sentence) and target tensor (indexes of the words in\n",
        "the target sentence). While creating these vectors we will append the\n",
        "EOS token to both sequences.\n",
        "\n",
        "\n"
      ]
    },
    {
      "cell_type": "code",
      "execution_count": null,
      "metadata": {
        "id": "iO0i2AAHEr5o"
      },
      "outputs": [],
      "source": [
        "def indexesFromSentence(lang, sentence):\n",
        "    return [lang.word2index[word] for word in sentence.split(' ')]\n",
        "\n",
        "\n",
        "def tensorFromSentence(lang, sentence):\n",
        "    indexes = indexesFromSentence(lang, sentence)\n",
        "    indexes.append(EOS_token)\n",
        "    return torch.tensor(indexes, dtype=torch.long, device=device).view(-1, 1)\n",
        "\n",
        "\n",
        "def tensorsFromPair(pair):\n",
        "    input_tensor = tensorFromSentence(input_lang, pair[0])\n",
        "    target_tensor = tensorFromSentence(output_lang, pair[1])\n",
        "    return (input_tensor, target_tensor)"
      ]
    },
    {
      "cell_type": "markdown",
      "metadata": {
        "id": "PEbMVQSQEr5o"
      },
      "source": [
        "### Training the Model\n",
        "\n",
        "To train we run the input sentence through the encoder, and keep track\n",
        "of every output and the latest hidden state. Then the decoder is given\n",
        "the ``<SOS>`` token as its first input, and the last hidden state of the\n",
        "encoder as its first hidden state.\n",
        "\n",
        "\"Teacher forcing\" is the concept of using the real target outputs as\n",
        "each next input, instead of using the decoder's guess as the next input.\n",
        "Using teacher forcing causes it to converge faster but [when the trained\n",
        "network is exploited, it may exhibit\n",
        "instability](http://citeseerx.ist.psu.edu/viewdoc/download?doi=10.1.1.378.4095&rep=rep1&type=pdf)_.\n",
        "\n",
        "You can observe outputs of teacher-forced networks that read with\n",
        "coherent grammar but wander far from the correct translation -\n",
        "intuitively it has learned to represent the output grammar and can \"pick\n",
        "up\" the meaning once the teacher tells it the first few words, but it\n",
        "has not properly learned how to create the sentence from the translation\n",
        "in the first place.\n",
        "\n",
        "Because of the freedom PyTorch's autograd gives us, we can randomly\n",
        "choose to use teacher forcing or not with a simple if statement. Turn\n",
        "``teacher_forcing_ratio`` up to use more of it.\n",
        "\n",
        "\n"
      ]
    },
    {
      "cell_type": "code",
      "execution_count": null,
      "metadata": {
        "id": "I2YGPHcxEr5p"
      },
      "outputs": [],
      "source": [
        "teacher_forcing_ratio = 0.5\n",
        "\n",
        "\n",
        "def train(input_tensor, target_tensor, encoder, decoder, encoder_optimizer, decoder_optimizer, criterion, max_length=MAX_LENGTH):\n",
        "    encoder_hidden = encoder.initHidden()\n",
        "\n",
        "    encoder_optimizer.zero_grad()\n",
        "    decoder_optimizer.zero_grad()\n",
        "\n",
        "    input_length = input_tensor.size(0)\n",
        "    target_length = target_tensor.size(0)\n",
        "\n",
        "    encoder_outputs = torch.zeros(max_length, encoder.hidden_size, device=device)\n",
        "\n",
        "    loss = 0\n",
        "\n",
        "    for ei in range(input_length):\n",
        "        encoder_output, encoder_hidden = encoder(\n",
        "            input_tensor[ei], encoder_hidden)\n",
        "        encoder_outputs[ei] = encoder_output[0, 0]\n",
        "\n",
        "    decoder_input = torch.tensor([[SOS_token]], device=device)\n",
        "\n",
        "    decoder_hidden = encoder_hidden\n",
        "\n",
        "    use_teacher_forcing = True if random.random() < teacher_forcing_ratio else False\n",
        "\n",
        "    if use_teacher_forcing:\n",
        "        # Teacher forcing: Feed the target as the next input\n",
        "        for di in range(target_length):\n",
        "            decoder_output, decoder_hidden, decoder_attention = decoder(\n",
        "                decoder_input, decoder_hidden, encoder_outputs)\n",
        "            loss += criterion(decoder_output, target_tensor[di])\n",
        "            decoder_input = target_tensor[di]  # Teacher forcing\n",
        "\n",
        "    else:\n",
        "        # Without teacher forcing: use its own predictions as the next input\n",
        "        for di in range(target_length):\n",
        "            decoder_output, decoder_hidden, decoder_attention = decoder(\n",
        "                decoder_input, decoder_hidden, encoder_outputs)\n",
        "            topv, topi = decoder_output.topk(1)\n",
        "            decoder_input = topi.squeeze().detach()  # detach from history as input\n",
        "\n",
        "            loss += criterion(decoder_output, target_tensor[di])\n",
        "            if decoder_input.item() == EOS_token:\n",
        "                break\n",
        "\n",
        "    loss.backward()\n",
        "\n",
        "    encoder_optimizer.step()\n",
        "    decoder_optimizer.step()\n",
        "\n",
        "    return loss.item() / target_length"
      ]
    },
    {
      "cell_type": "markdown",
      "metadata": {
        "id": "7opx5lYqEr5q"
      },
      "source": [
        "This is a helper function to print time elapsed and estimated time\n",
        "remaining given the current time and progress %.\n",
        "\n",
        "\n"
      ]
    },
    {
      "cell_type": "code",
      "execution_count": null,
      "metadata": {
        "id": "BoNwDOlpEr5q"
      },
      "outputs": [],
      "source": [
        "import time\n",
        "import math\n",
        "\n",
        "\n",
        "def asMinutes(s):\n",
        "    m = math.floor(s / 60)\n",
        "    s -= m * 60\n",
        "    return '%dm %ds' % (m, s)\n",
        "\n",
        "\n",
        "def timeSince(since, percent):\n",
        "    now = time.time()\n",
        "    s = now - since\n",
        "    es = s / (percent)\n",
        "    rs = es - s\n",
        "    return '%s (- %s)' % (asMinutes(s), asMinutes(rs))"
      ]
    },
    {
      "cell_type": "markdown",
      "metadata": {
        "id": "1Y7ZUaLZEr5q"
      },
      "source": [
        "The whole training process looks like this:\n",
        "\n",
        "-  Start a timer\n",
        "-  Initialize optimizers and criterion\n",
        "-  Create set of training pairs\n",
        "-  Start empty losses array for plotting\n",
        "\n",
        "Then we call ``train`` many times and occasionally print the progress (%\n",
        "of examples, time so far, estimated time) and average loss.\n",
        "\n",
        "\n"
      ]
    },
    {
      "cell_type": "code",
      "execution_count": null,
      "metadata": {
        "id": "RR-hSP-xEr5q"
      },
      "outputs": [],
      "source": [
        "def trainIters(encoder, decoder, n_iters, print_every=1000, plot_every=100, learning_rate=0.01):\n",
        "    start = time.time()\n",
        "    plot_losses = []\n",
        "    print_loss_total = 0  # Reset every print_every\n",
        "    plot_loss_total = 0  # Reset every plot_every\n",
        "\n",
        "    encoder_optimizer = optim.SGD(encoder.parameters(), lr=learning_rate)\n",
        "    decoder_optimizer = optim.SGD(decoder.parameters(), lr=learning_rate)\n",
        "    training_pairs = [tensorsFromPair(random.choice(pairs))\n",
        "                      for i in range(n_iters)]\n",
        "    criterion = nn.NLLLoss()\n",
        "\n",
        "    for iter in range(1, n_iters + 1):\n",
        "        training_pair = training_pairs[iter - 1]\n",
        "        input_tensor = training_pair[0]\n",
        "        target_tensor = training_pair[1]\n",
        "\n",
        "        loss = train(input_tensor, target_tensor, encoder,\n",
        "                     decoder, encoder_optimizer, decoder_optimizer, criterion)\n",
        "        print_loss_total += loss\n",
        "        plot_loss_total += loss\n",
        "\n",
        "        if iter % print_every == 0:\n",
        "            print_loss_avg = print_loss_total / print_every\n",
        "            print_loss_total = 0\n",
        "            print('%s (%d %d%%) %.4f' % (timeSince(start, iter / n_iters),\n",
        "                                         iter, iter / n_iters * 100, print_loss_avg))\n",
        "\n",
        "        if iter % plot_every == 0:\n",
        "            plot_loss_avg = plot_loss_total / plot_every\n",
        "            plot_losses.append(plot_loss_avg)\n",
        "            plot_loss_total = 0\n",
        "\n",
        "    showPlot(plot_losses)"
      ]
    },
    {
      "cell_type": "markdown",
      "metadata": {
        "id": "iPShnWowEr5r"
      },
      "source": [
        "### Plotting results\n",
        "\n",
        "Plotting is done with matplotlib, using the array of loss values\n",
        "``plot_losses`` saved while training.\n",
        "\n",
        "\n"
      ]
    },
    {
      "cell_type": "code",
      "execution_count": null,
      "metadata": {
        "id": "ZTWBu1eAEr5r"
      },
      "outputs": [],
      "source": [
        "import matplotlib.pyplot as plt\n",
        "plt.switch_backend('agg')\n",
        "import matplotlib.ticker as ticker\n",
        "import numpy as np\n",
        "\n",
        "\n",
        "def showPlot(points):\n",
        "    plt.figure()\n",
        "    fig, ax = plt.subplots()\n",
        "    # this locator puts ticks at regular intervals\n",
        "    loc = ticker.MultipleLocator(base=0.2)\n",
        "    ax.yaxis.set_major_locator(loc)\n",
        "    plt.plot(points)"
      ]
    },
    {
      "cell_type": "markdown",
      "metadata": {
        "id": "DnKvhmLpEr5s"
      },
      "source": [
        "## Evaluation\n",
        "\n",
        "Evaluation is mostly the same as training, but there are no targets so\n",
        "we simply feed the decoder's predictions back to itself for each step.\n",
        "Every time it predicts a word we add it to the output string, and if it\n",
        "predicts the EOS token we stop there. We also store the decoder's\n",
        "attention outputs for display later.\n",
        "\n",
        "\n"
      ]
    },
    {
      "cell_type": "code",
      "execution_count": null,
      "metadata": {
        "id": "rJiqJg6YEr5s"
      },
      "outputs": [],
      "source": [
        "def evaluate(encoder, decoder, sentence, max_length=MAX_LENGTH):\n",
        "    with torch.no_grad():\n",
        "        input_tensor = tensorFromSentence(input_lang, sentence)\n",
        "        input_length = input_tensor.size()[0]\n",
        "        encoder_hidden = encoder.initHidden()\n",
        "\n",
        "        encoder_outputs = torch.zeros(max_length, encoder.hidden_size, device=device)\n",
        "\n",
        "        for ei in range(input_length):\n",
        "            encoder_output, encoder_hidden = encoder(input_tensor[ei],\n",
        "                                                     encoder_hidden)\n",
        "            encoder_outputs[ei] += encoder_output[0, 0]\n",
        "\n",
        "        decoder_input = torch.tensor([[SOS_token]], device=device)  # SOS\n",
        "\n",
        "        decoder_hidden = encoder_hidden\n",
        "\n",
        "        decoded_words = []\n",
        "        decoder_attentions = torch.zeros(max_length, max_length)\n",
        "\n",
        "        for di in range(max_length):\n",
        "            decoder_output, decoder_hidden, decoder_attention = decoder(\n",
        "                decoder_input, decoder_hidden, encoder_outputs)\n",
        "            decoder_attentions[di] = decoder_attention.data\n",
        "            topv, topi = decoder_output.data.topk(1)\n",
        "            if topi.item() == EOS_token:\n",
        "                decoded_words.append('<EOS>')\n",
        "                break\n",
        "            else:\n",
        "                decoded_words.append(output_lang.index2word[topi.item()])\n",
        "\n",
        "            decoder_input = topi.squeeze().detach()\n",
        "\n",
        "        return decoded_words, decoder_attentions[:di + 1]"
      ]
    },
    {
      "cell_type": "markdown",
      "metadata": {
        "id": "n_-Yrfq0Er5t"
      },
      "source": [
        "We can evaluate random sentences from the training set and print out the\n",
        "input, target, and output to make some subjective quality judgements:\n",
        "\n",
        "\n"
      ]
    },
    {
      "cell_type": "code",
      "execution_count": null,
      "metadata": {
        "id": "y_tHJNayEr5t"
      },
      "outputs": [],
      "source": [
        "def evaluateRandomly(encoder, decoder, n=10):\n",
        "    for i in range(n):\n",
        "        pair = random.choice(pairs)\n",
        "        print('>', pair[0])\n",
        "        print('=', pair[1])\n",
        "        output_words, attentions = evaluate(encoder, decoder, pair[0])\n",
        "        output_sentence = ' '.join(output_words)\n",
        "        print('<', output_sentence)\n",
        "        print('')"
      ]
    },
    {
      "cell_type": "markdown",
      "metadata": {
        "id": "JFLwJfa_Er5t"
      },
      "source": [
        "## Training and Evaluating\n",
        "\n",
        "With all these helper functions in place (it looks like extra work, but\n",
        "it makes it easier to run multiple experiments) we can actually\n",
        "initialize a network and start training.\n",
        "\n",
        "Remember that the input sentences were heavily filtered. For this small\n",
        "dataset we can use relatively small networks of 256 hidden nodes and a\n",
        "single GRU layer. After about 40 minutes on a MacBook CPU we'll get some\n",
        "reasonable results.\n",
        "\n",
        ".. Note::\n",
        "   If you run this notebook you can train, interrupt the kernel,\n",
        "   evaluate, and continue training later. Comment out the lines where the\n",
        "   encoder and decoder are initialized and run ``trainIters`` again.\n",
        "\n",
        "\n"
      ]
    },
    {
      "cell_type": "code",
      "execution_count": null,
      "metadata": {
        "id": "7o8fUgDLEr5u"
      },
      "outputs": [],
      "source": [
        "hidden_size = 256\n",
        "encoder1 = EncoderRNN(input_lang.n_words, hidden_size).to(device)\n",
        "attn_decoder1 = AttnDecoderRNN(hidden_size, output_lang.n_words, dropout_p=0.1).to(device)\n",
        "\n",
        "trainIters(encoder1, attn_decoder1, 75000, print_every=5000)"
      ]
    },
    {
      "cell_type": "code",
      "execution_count": null,
      "metadata": {
        "id": "t7MEMot8Er5u"
      },
      "outputs": [],
      "source": [
        "evaluateRandomly(encoder1, attn_decoder1)"
      ]
    },
    {
      "cell_type": "markdown",
      "metadata": {
        "id": "9Vs92e52Er5u"
      },
      "source": [
        "### Visualizing Attention\n",
        "\n",
        "A useful property of the attention mechanism is its highly interpretable\n",
        "outputs. Because it is used to weight specific encoder outputs of the\n",
        "input sequence, we can imagine looking where the network is focused most\n",
        "at each time step.\n",
        "\n",
        "You could simply run ``plt.matshow(attentions)`` to see attention output\n",
        "displayed as a matrix, with the columns being input steps and rows being\n",
        "output steps:\n",
        "\n",
        "\n"
      ]
    },
    {
      "cell_type": "code",
      "execution_count": null,
      "metadata": {
        "id": "UmPuPtrPEr5v"
      },
      "outputs": [],
      "source": [
        "output_words, attentions = evaluate(\n",
        "    encoder1, attn_decoder1, \"je suis trop froid .\")\n",
        "plt.matshow(attentions.numpy())"
      ]
    },
    {
      "cell_type": "markdown",
      "metadata": {
        "id": "TalpbyjDEr5v"
      },
      "source": [
        "For a better viewing experience we will do the extra work of adding axes\n",
        "and labels:\n",
        "\n",
        "\n"
      ]
    },
    {
      "cell_type": "code",
      "execution_count": null,
      "metadata": {
        "id": "PqjHvEQeEr5v"
      },
      "outputs": [],
      "source": [
        "def showAttention(input_sentence, output_words, attentions):\n",
        "    # Set up figure with colorbar\n",
        "    fig = plt.figure()\n",
        "    ax = fig.add_subplot(111)\n",
        "    cax = ax.matshow(attentions.numpy(), cmap='bone')\n",
        "    fig.colorbar(cax)\n",
        "\n",
        "    # Set up axes\n",
        "    ax.set_xticklabels([''] + input_sentence.split(' ') +\n",
        "                       ['<EOS>'], rotation=90)\n",
        "    ax.set_yticklabels([''] + output_words)\n",
        "\n",
        "    # Show label at every tick\n",
        "    ax.xaxis.set_major_locator(ticker.MultipleLocator(1))\n",
        "    ax.yaxis.set_major_locator(ticker.MultipleLocator(1))\n",
        "\n",
        "    plt.show()\n",
        "\n",
        "\n",
        "def evaluateAndShowAttention(input_sentence):\n",
        "    output_words, attentions = evaluate(\n",
        "        encoder1, attn_decoder1, input_sentence)\n",
        "    print('input =', input_sentence)\n",
        "    print('output =', ' '.join(output_words))\n",
        "    showAttention(input_sentence, output_words, attentions)\n",
        "\n",
        "\n",
        "evaluateAndShowAttention(\"elle a cinq ans de moins que moi .\")\n",
        "\n",
        "evaluateAndShowAttention(\"elle est trop petit .\")\n",
        "\n",
        "evaluateAndShowAttention(\"je ne crains pas de mourir .\")\n",
        "\n",
        "evaluateAndShowAttention(\"c est un jeune directeur plein de talent .\")"
      ]
    },
    {
      "cell_type": "markdown",
      "metadata": {
        "id": "XjP3xlEXEr5w"
      },
      "source": [
        "## Exercises\n",
        "\n",
        "-  Try with a different dataset\n",
        "\n",
        "   -  Another language pair\n",
        "   -  Human → Machine (e.g. IOT commands)\n",
        "   -  Chat → Response\n",
        "   -  Question → Answer\n",
        "\n",
        "-  Replace the embeddings with pre-trained word embeddings such as word2vec or\n",
        "   GloVe\n",
        "-  Try with more layers, more hidden units, and more sentences. Compare\n",
        "   the training time and results.\n",
        "-  If you use a translation file where pairs have two of the same phrase\n",
        "   (``I am test \\t I am test``), you can use this as an autoencoder. Try\n",
        "   this:\n",
        "\n",
        "   -  Train as an autoencoder\n",
        "   -  Save only the Encoder network\n",
        "   -  Train a new Decoder for translation from there\n",
        "\n",
        "\n"
      ]
    }
  ],
  "metadata": {
    "kernelspec": {
      "display_name": "Python 3",
      "language": "python",
      "name": "python3"
    },
    "language_info": {
      "codemirror_mode": {
        "name": "ipython",
        "version": 3
      },
      "file_extension": ".py",
      "mimetype": "text/x-python",
      "name": "python",
      "nbconvert_exporter": "python",
      "pygments_lexer": "ipython3",
      "version": "3.7.13"
    },
    "colab": {
      "provenance": [],
      "collapsed_sections": [],
      "include_colab_link": true
    },
    "gpuClass": "standard"
  },
  "nbformat": 4,
  "nbformat_minor": 0
}