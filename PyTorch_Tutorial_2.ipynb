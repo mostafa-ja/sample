{
  "nbformat": 4,
  "nbformat_minor": 0,
  "metadata": {
    "colab": {
      "name": "PyTorch Tutorial_2.ipynb",
      "provenance": [],
      "collapsed_sections": [],
      "authorship_tag": "ABX9TyOSY2+x4lfSjVRVfmQcOqdJ",
      "include_colab_link": true
    },
    "kernelspec": {
      "name": "python3",
      "display_name": "Python 3"
    },
    "language_info": {
      "name": "python"
    }
  },
  "cells": [
    {
      "cell_type": "markdown",
      "metadata": {
        "id": "view-in-github",
        "colab_type": "text"
      },
      "source": [
        "<a href=\"https://colab.research.google.com/github/mostafa-ja/sample/blob/master/PyTorch_Tutorial_2.ipynb\" target=\"_parent\"><img src=\"https://colab.research.google.com/assets/colab-badge.svg\" alt=\"Open In Colab\"/></a>"
      ]
    },
    {
      "cell_type": "code",
      "execution_count": null,
      "metadata": {
        "id": "3zw1d0_hxBrO"
      },
      "outputs": [],
      "source": [
        ""
      ]
    },
    {
      "cell_type": "markdown",
      "source": [
        "#Linear Regression"
      ],
      "metadata": {
        "id": "EF_ArO4LyEa1"
      }
    },
    {
      "cell_type": "code",
      "source": [
        "import numpy as np\n",
        "import torch\n",
        "import torch.nn as nn\n",
        "import matplotlib.pyplot as plt\n",
        "from sklearn import datasets"
      ],
      "metadata": {
        "id": "6MZkeaO9yF-Q"
      },
      "execution_count": 2,
      "outputs": []
    },
    {
      "cell_type": "code",
      "source": [
        "# 0) prepare data\n",
        "\n",
        "X_numpy,y_numpy = datasets.make_regression(n_samples=100,n_features=1,noise=20,random_state=1) # shape :(100, 1) (100,)\n",
        "\n",
        "X = torch.from_numpy(X_numpy.astype(np.float32))  # we will face this error if dont do <.astype(np.float32)> : expected scalar type Float but found Double\n",
        "y = torch.from_numpy(y_numpy.astype(np.float32))\n",
        "y = y.view(y.shape[0],1) #shape : (100,) to (100, 1)\n",
        "\n",
        "n_samples,n_features = X.shape"
      ],
      "metadata": {
        "id": "VUv0SgNAyffN"
      },
      "execution_count": 23,
      "outputs": []
    },
    {
      "cell_type": "code",
      "source": [
        "X.dtype"
      ],
      "metadata": {
        "colab": {
          "base_uri": "https://localhost:8080/"
        },
        "id": "TWKHijEF5qnp",
        "outputId": "c7a3720a-0883-43f9-e644-029d5d11f9cc"
      },
      "execution_count": 24,
      "outputs": [
        {
          "output_type": "execute_result",
          "data": {
            "text/plain": [
              "torch.float32"
            ]
          },
          "metadata": {},
          "execution_count": 24
        }
      ]
    },
    {
      "cell_type": "code",
      "source": [
        "X.dtype"
      ],
      "metadata": {
        "colab": {
          "base_uri": "https://localhost:8080/"
        },
        "id": "hAQuJO-_5CqG",
        "outputId": "df91fa8f-12f0-4bf2-a00e-13d00ee59d7e"
      },
      "execution_count": 22,
      "outputs": [
        {
          "output_type": "execute_result",
          "data": {
            "text/plain": [
              "torch.float64"
            ]
          },
          "metadata": {},
          "execution_count": 22
        }
      ]
    },
    {
      "cell_type": "code",
      "source": [
        "plt.scatter(X[:,0],y[:,0]);"
      ],
      "metadata": {
        "colab": {
          "base_uri": "https://localhost:8080/",
          "height": 265
        },
        "id": "fI62j0dt0lFh",
        "outputId": "bb0bfb32-340b-436d-aafe-4f1060121008"
      },
      "execution_count": 25,
      "outputs": [
        {
          "output_type": "display_data",
          "data": {
            "text/plain": [
              "<Figure size 432x288 with 1 Axes>"
            ],
            "image/png": "[encoded data removed]"
          },
          "metadata": {
            "needs_background": "light"
          }
        }
      ]
    },
    {
      "cell_type": "code",
      "source": [
        "# 1) model\n",
        "\n",
        "input_size = n_features\n",
        "output_size = 1\n",
        "\n",
        "model = nn.Linear(input_size,output_size)"
      ],
      "metadata": {
        "id": "Fx1YFVcP0cty"
      },
      "execution_count": 26,
      "outputs": []
    },
    {
      "cell_type": "code",
      "source": [
        "# 2) loss and optimizer\n",
        "\n",
        "learning_rate = 0.01\n",
        "criterion = nn.MSELoss()\n",
        "optimizer = torch.optim.SGD(model.parameters(),lr=learning_rate)"
      ],
      "metadata": {
        "id": "1I6yOSKR1jR8"
      },
      "execution_count": 27,
      "outputs": []
    },
    {
      "cell_type": "code",
      "source": [
        "# 3) trainig\n",
        "\n",
        "num_epochs = 100\n",
        "\n",
        "for iter in range(num_epochs):\n",
        "\n",
        "  # forward pass and loss\n",
        "  y_pred = model(X)\n",
        "  loss = criterion(y_pred,y)\n",
        "  \n",
        "  # backward pass \n",
        "  loss.backward()\n",
        "\n",
        "  # update\n",
        "  optimizer.step()\n",
        "  optimizer.zero_grad()\n",
        "\n",
        "  if (iter+1) % 10 == 0 :\n",
        "    print(f'num_epochs = {iter+1} , loss = {loss.item():.4} ')\n"
      ],
      "metadata": {
        "colab": {
          "base_uri": "https://localhost:8080/"
        },
        "id": "gG8XYIJY2KpM",
        "outputId": "af4672ff-9cf0-4a5d-cfbe-c25bd0dd5fbe"
      },
      "execution_count": 31,
      "outputs": [
        {
          "output_type": "stream",
          "name": "stdout",
          "text": [
            "num_epochs = 10 , loss = 332.6 \n",
            "num_epochs = 20 , loss = 332.6 \n",
            "num_epochs = 30 , loss = 332.6 \n",
            "num_epochs = 40 , loss = 332.6 \n",
            "num_epochs = 50 , loss = 332.6 \n",
            "num_epochs = 60 , loss = 332.6 \n",
            "num_epochs = 70 , loss = 332.6 \n",
            "num_epochs = 80 , loss = 332.6 \n",
            "num_epochs = 90 , loss = 332.6 \n",
            "num_epochs = 100 , loss = 332.6 \n"
          ]
        }
      ]
    },
    {
      "cell_type": "code",
      "source": [
        "plt.scatter(X_numpy,y_numpy,c='b',label = 'data');"
      ],
      "metadata": {
        "colab": {
          "base_uri": "https://localhost:8080/",
          "height": 265
        },
        "id": "KOSOLyC98DIE",
        "outputId": "0393ec0a-3c7e-44a7-b921-72d2fd36c4dd"
      },
      "execution_count": 42,
      "outputs": [
        {
          "output_type": "display_data",
          "data": {
            "text/plain": [
              "<Figure size 432x288 with 1 Axes>"
            ],
            "image/png": "[encoded data removed]"
          },
          "metadata": {
            "needs_background": "light"
          }
        }
      ]
    },
    {
      "cell_type": "code",
      "source": [
        "y_predict = model(X).detach()\n",
        "y_predict_numpy = y_predict.numpy()\n",
        "\n",
        "plt.scatter(X_numpy,y_numpy,c='b',label = 'data');\n",
        "plt.plot(X_numpy,y_predict_numpy,c='r',label='prediction');\n",
        "plt.legend();"
      ],
      "metadata": {
        "colab": {
          "base_uri": "https://localhost:8080/",
          "height": 268
        },
        "id": "ykPpx_wC6HbA",
        "outputId": "b61a7262-c980-4f40-d06d-e8c681e088a6"
      },
      "execution_count": 44,
      "outputs": [
        {
          "output_type": "display_data",
          "data": {
            "text/plain": [
              "<Figure size 432x288 with 1 Axes>"
            ],
            "image/png": "[encoded data removed]"
          },
          "metadata": {
            "needs_background": "light"
          }
        }
      ]
    },
    {
      "cell_type": "code",
      "source": [
        "[w,b] = model.parameters()\n",
        "print(f'weight = {w.item():.4} , bias = {b.item():.3} ')"
      ],
      "metadata": {
        "colab": {
          "base_uri": "https://localhost:8080/"
        },
        "id": "86EKE-O68XfN",
        "outputId": "aa336187-4338-41aa-d519-32387d3e6838"
      },
      "execution_count": 55,
      "outputs": [
        {
          "output_type": "stream",
          "name": "stdout",
          "text": [
            "weight = 82.45 , bias = 4.06 \n"
          ]
        }
      ]
    }
  ]
}