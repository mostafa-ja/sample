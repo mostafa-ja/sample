{
  "nbformat": 4,
  "nbformat_minor": 0,
  "metadata": {
    "colab": {
      "name": "PyTorch Tutorial 09 - Dataset and DataLoader - Batch Training.ipynb",
      "provenance": [],
      "collapsed_sections": [],
      "authorship_tag": "ABX9TyPmT2lXDSMOX+xl6BQoXbp7",
      "include_colab_link": true
    },
    "kernelspec": {
      "name": "python3",
      "display_name": "Python 3"
    },
    "language_info": {
      "name": "python"
    }
  },
  "cells": [
    {
      "cell_type": "markdown",
      "metadata": {
        "id": "view-in-github",
        "colab_type": "text"
      },
      "source": [
        "<a href=\"https://colab.research.google.com/github/mostafa-ja/sample/blob/master/PyTorch_Tutorial_09_Dataset_and_DataLoader_Batch_Training.ipynb\" target=\"_parent\"><img src=\"https://colab.research.google.com/assets/colab-badge.svg\" alt=\"Open In Colab\"/></a>"
      ]
    },
    {
      "cell_type": "markdown",
      "source": [
        "[link text](https://www.youtube.com/watch?v=PXOzkkB5eH0&list=PLqnslRFeH2UrcDBWF5mfPGpqQDSta6VK4&index=9)"
      ],
      "metadata": {
        "id": "lslZfKs7Dh_1"
      }
    },
    {
      "cell_type": "code",
      "source": [
        "import torch\n",
        "import torchvision\n",
        "from torch.utils.data import Dataset , DataLoader\n",
        "import numpy as np\n",
        "import math"
      ],
      "metadata": {
        "id": "cbmYHReyDn6i"
      },
      "execution_count": 1,
      "outputs": []
    },
    {
      "cell_type": "code",
      "source": [
        "data is (178, 14) and first column is y (1 or 2 or 3)\n",
        "!wget https://raw.githubusercontent.com/python-engineer/pytorchTutorial/master/data/wine/wine.csv"
      ],
      "metadata": {
        "colab": {
          "base_uri": "https://localhost:8080/"
        },
        "id": "M1VUU-HgE1TI",
        "outputId": "1d2505ed-2053-4026-f718-6a15bdc60b9a"
      },
      "execution_count": 7,
      "outputs": [
        {
          "output_type": "stream",
          "name": "stdout",
          "text": [
            "--2022-08-09 19:37:00--  https://raw.githubusercontent.com/python-engineer/pytorchTutorial/master/data/wine/wine.csv\n",
            "Resolving raw.githubusercontent.com (raw.githubusercontent.com)... 185.199.108.133, 185.199.109.133, 185.199.110.133, ...\n",
            "Connecting to raw.githubusercontent.com (raw.githubusercontent.com)|185.199.108.133|:443... connected.\n",
            "HTTP request sent, awaiting response... 200 OK\n",
            "Length: 10889 (11K) [text/plain]\n",
            "Saving to: ‘wine.csv’\n",
            "\n",
            "wine.csv            100%[===================>]  10.63K  --.-KB/s    in 0s      \n",
            "\n",
            "2022-08-09 19:37:00 (42.1 MB/s) - ‘wine.csv’ saved [10889/10889]\n",
            "\n"
          ]
        }
      ]
    },
    {
      "cell_type": "code",
      "source": [
        "xy[:,[0]].shape"
      ],
      "metadata": {
        "colab": {
          "base_uri": "https://localhost:8080/"
        },
        "id": "LHMS_fPYIIDQ",
        "outputId": "45192978-f55c-4476-e42e-d2f584440133"
      },
      "execution_count": 13,
      "outputs": [
        {
          "output_type": "execute_result",
          "data": {
            "text/plain": [
              "(178, 1)"
            ]
          },
          "metadata": {},
          "execution_count": 13
        }
      ]
    },
    {
      "cell_type": "code",
      "source": [
        "xy[:,0].shape"
      ],
      "metadata": {
        "colab": {
          "base_uri": "https://localhost:8080/"
        },
        "id": "pgw2MFySIKCQ",
        "outputId": "bdd9334d-5f2b-4e1b-ef8f-10390e36929b"
      },
      "execution_count": 15,
      "outputs": [
        {
          "output_type": "execute_result",
          "data": {
            "text/plain": [
              "(178,)"
            ]
          },
          "metadata": {},
          "execution_count": 15
        }
      ]
    },
    {
      "cell_type": "code",
      "source": [
        "class WineDataset(Dataset):\n",
        "  \n",
        "  def __init__(self):\n",
        "    #loading data\n",
        "    xy = np.loadtxt('/content/wine.csv',delimiter=',',dtype=np.float32, skiprows=1)\n",
        "    self.x = torch.from_numpy(xy[:,1:])\n",
        "    self.y = torch.from_numpy(xy[:,[0]])   # ATTENTION : xy[:,[0]].shape=(178, 1) & xy[:,0].shape=(178,)\n",
        "    self.n_samples = xy.shape[0]\n",
        "\n",
        "  def __getitem__(self, index):            # means , instance[index] gives x[index],y[index]\n",
        "    return self.x[index],self.y[index]     # ex : data = WineDataset() , data[3] = x[3],y[3]\n",
        "\n",
        "  def __len__(self):               # we define that len(instance) gives n_samples\n",
        "    return self.n_samples"
      ],
      "metadata": {
        "id": "KLyg3BntEYdP"
      },
      "execution_count": 17,
      "outputs": []
    },
    {
      "cell_type": "code",
      "source": [
        "# test data\n",
        "\n",
        "dataset = WineDataset()\n",
        "irst_data = dataset[0]  # dataset[0] = x[0],y[0]\n",
        "features,labels = first_data\n",
        "print(features)  # x[0]\n",
        "print(labels)    # y[0]"
      ],
      "metadata": {
        "colab": {
          "base_uri": "https://localhost:8080/"
        },
        "id": "Mfr8ktM5Lmyb",
        "outputId": "948766a9-83e2-4009-ea3b-2bb57994b06c"
      },
      "execution_count": 18,
      "outputs": [
        {
          "output_type": "stream",
          "name": "stdout",
          "text": [
            "tensor([1.4230e+01, 1.7100e+00, 2.4300e+00, 1.5600e+01, 1.2700e+02, 2.8000e+00,\n",
            "        3.0600e+00, 2.8000e-01, 2.2900e+00, 5.6400e+00, 1.0400e+00, 3.9200e+00,\n",
            "        1.0650e+03])\n",
            "tensor([1.])\n"
          ]
        }
      ]
    },
    {
      "cell_type": "code",
      "source": [
        "len(dataset)"
      ],
      "metadata": {
        "colab": {
          "base_uri": "https://localhost:8080/"
        },
        "id": "03nfSh1lMZaS",
        "outputId": "ac294a2c-8bca-4d2f-b164-b1eab121e4c5"
      },
      "execution_count": 22,
      "outputs": [
        {
          "output_type": "execute_result",
          "data": {
            "text/plain": [
              "178"
            ]
          },
          "metadata": {},
          "execution_count": 22
        }
      ]
    },
    {
      "cell_type": "markdown",
      "source": [
        "Why we defined  __ getitem__(self,index):\n",
        "\n",
        "for using batch samples , we want to get for exmaple 10 samples of data every call, so when we call dataset[index : index+10], it gives us  x[index : inex+10],y[index:index+10] together which we can separate them\n",
        "\n",
        "Also we use dataloader to get data litlle by litlle without filling memory"
      ],
      "metadata": {
        "id": "93WZyBl6OBnW"
      }
    },
    {
      "cell_type": "code",
      "source": [
        "dataset = WineDataset()\n",
        "dataloader = DataLoader(dataset=dataset, batch_size=4, shuffle=True, num_workers=2) \n",
        "# Num_workers tells the data loader instance how many sub-processes to use for data loading. If the num_worker is zero (default)\n",
        "# the GPU has to weight for CPU to load data. Theoretically, greater the num_workers, more efficiently the CPU load data and less the GPU has to wait\n",
        "\n",
        "\n",
        "# test dataloader , we are going to get one batch data (4 samples)\n",
        "dataiter = iter(dataloader)\n",
        "data = dataiter.next()\n",
        "features,labels = data\n",
        "print(features,'\\n',labels) # 4 samples"
      ],
      "metadata": {
        "colab": {
          "base_uri": "https://localhost:8080/"
        },
        "id": "eKii-jeGLUuj",
        "outputId": "e74aa717-75bd-46ac-b091-72ad61f5b1f5"
      },
      "execution_count": 24,
      "outputs": [
        {
          "output_type": "stream",
          "name": "stdout",
          "text": [
            "tensor([[1.2670e+01, 9.8000e-01, 2.2400e+00, 1.8000e+01, 9.9000e+01, 2.2000e+00,\n",
            "         1.9400e+00, 3.0000e-01, 1.4600e+00, 2.6200e+00, 1.2300e+00, 3.1600e+00,\n",
            "         4.5000e+02],\n",
            "        [1.2080e+01, 1.3900e+00, 2.5000e+00, 2.2500e+01, 8.4000e+01, 2.5600e+00,\n",
            "         2.2900e+00, 4.3000e-01, 1.0400e+00, 2.9000e+00, 9.3000e-01, 3.1900e+00,\n",
            "         3.8500e+02],\n",
            "        [1.3580e+01, 1.6600e+00, 2.3600e+00, 1.9100e+01, 1.0600e+02, 2.8600e+00,\n",
            "         3.1900e+00, 2.2000e-01, 1.9500e+00, 6.9000e+00, 1.0900e+00, 2.8800e+00,\n",
            "         1.5150e+03],\n",
            "        [1.1610e+01, 1.3500e+00, 2.7000e+00, 2.0000e+01, 9.4000e+01, 2.7400e+00,\n",
            "         2.9200e+00, 2.9000e-01, 2.4900e+00, 2.6500e+00, 9.6000e-01, 3.2600e+00,\n",
            "         6.8000e+02]]) \n",
            " tensor([[2.],\n",
            "        [2.],\n",
            "        [1.],\n",
            "        [2.]])\n"
          ]
        }
      ]
    },
    {
      "cell_type": "code",
      "source": [
        "# trainig loop \n",
        "\n",
        "num_epochs = 2\n",
        "total_samples = len(dataset)\n",
        "batch_size = 4\n",
        "n_iterations = math.ceil(total_samples/batch_size)\n",
        "\n",
        "for epoch in range(num_epochs):\n",
        "  for i,(inputs,labels) in enumerate(dataloader):\n",
        "    #forward,backward,update\n",
        "\n",
        "    if (i+1) % 5 == 0 :\n",
        "      print(f'epoch {epoch+1}/{num_epochs},step {i+1}/{n_iterations}, input {inputs.shape} ')   # each batch has 4 samples with 13 features"
      ],
      "metadata": {
        "colab": {
          "base_uri": "https://localhost:8080/"
        },
        "id": "-u9z4dqrRzIV",
        "outputId": "dedaed58-b465-454a-812b-5d830044f333"
      },
      "execution_count": 28,
      "outputs": [
        {
          "output_type": "stream",
          "name": "stdout",
          "text": [
            "epoch 1/2,step 5/45, input torch.Size([4, 13]) \n",
            "epoch 1/2,step 10/45, input torch.Size([4, 13]) \n",
            "epoch 1/2,step 15/45, input torch.Size([4, 13]) \n",
            "epoch 1/2,step 20/45, input torch.Size([4, 13]) \n",
            "epoch 1/2,step 25/45, input torch.Size([4, 13]) \n",
            "epoch 1/2,step 30/45, input torch.Size([4, 13]) \n",
            "epoch 1/2,step 35/45, input torch.Size([4, 13]) \n",
            "epoch 1/2,step 40/45, input torch.Size([4, 13]) \n",
            "epoch 1/2,step 45/45, input torch.Size([2, 13]) \n",
            "epoch 2/2,step 5/45, input torch.Size([4, 13]) \n",
            "epoch 2/2,step 10/45, input torch.Size([4, 13]) \n",
            "epoch 2/2,step 15/45, input torch.Size([4, 13]) \n",
            "epoch 2/2,step 20/45, input torch.Size([4, 13]) \n",
            "epoch 2/2,step 25/45, input torch.Size([4, 13]) \n",
            "epoch 2/2,step 30/45, input torch.Size([4, 13]) \n",
            "epoch 2/2,step 35/45, input torch.Size([4, 13]) \n",
            "epoch 2/2,step 40/45, input torch.Size([4, 13]) \n",
            "epoch 2/2,step 45/45, input torch.Size([2, 13]) \n"
          ]
        }
      ]
    }
  ]
}