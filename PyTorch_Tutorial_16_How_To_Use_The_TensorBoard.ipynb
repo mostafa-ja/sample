{
  "nbformat": 4,
  "nbformat_minor": 0,
  "metadata": {
    "colab": {
      "name": "PyTorch Tutorial 16 - How To Use The TensorBoard.ipynb",
      "provenance": [],
      "collapsed_sections": [],
      "authorship_tag": "ABX9TyM2HOkK7ZQHf6LftOE5ydnY",
      "include_colab_link": true
    },
    "kernelspec": {
      "name": "python3",
      "display_name": "Python 3"
    },
    "language_info": {
      "name": "python"
    }
  },
  "cells": [
    {
      "cell_type": "markdown",
      "metadata": {
        "id": "view-in-github",
        "colab_type": "text"
      },
      "source": [
        "<a href=\"https://colab.research.google.com/github/mostafa-ja/sample/blob/master/PyTorch_Tutorial_16_How_To_Use_The_TensorBoard.ipynb\" target=\"_parent\"><img src=\"https://colab.research.google.com/assets/colab-badge.svg\" alt=\"Open In Colab\"/></a>"
      ]
    },
    {
      "cell_type": "markdown",
      "source": [
        "[Youtube link](https://www.youtube.com/watch?v=VJW9wU-1n18&list=PLqnslRFeH2UrcDBWF5mfPGpqQDSta6VK4&index=16)"
      ],
      "metadata": {
        "id": "a_HQT3UjVEY2"
      }
    },
    {
      "cell_type": "code",
      "source": [
        "# Load the TensorBoard notebook extension\n",
        "%load_ext tensorboard"
      ],
      "metadata": {
        "id": "tXxmclIJVxfm"
      },
      "execution_count": null,
      "outputs": []
    },
    {
      "cell_type": "code",
      "source": [
        "import torch\n",
        "import torch.nn as nn\n",
        "import torchvision\n",
        "from torch.utils.tensorboard import SummaryWriter\n",
        "import torch.nn.functional as F\n",
        "import matplotlib.pyplot as plt\n"
      ],
      "metadata": {
        "id": "0bVnUsgzVNGY"
      },
      "execution_count": null,
      "outputs": []
    },
    {
      "cell_type": "code",
      "source": [
        "writer = SummaryWriter('runs/mnist1')"
      ],
      "metadata": {
        "id": "xy0reNjcWLSa"
      },
      "execution_count": null,
      "outputs": []
    },
    {
      "cell_type": "code",
      "source": [
        "# Device configuration\n",
        "device = torch.device('cuda' if torch.cuda.is_available() else 'cpu')"
      ],
      "metadata": {
        "id": "w26HFx0DWvem"
      },
      "execution_count": null,
      "outputs": []
    },
    {
      "cell_type": "code",
      "source": [
        "# hyper parameters\n",
        "input_size = 784\n",
        "hidden_size = 500\n",
        "num_classes = 10\n",
        "batch_size = 4\n",
        "num_epochs = 1\n",
        "learning_rate = 0.001"
      ],
      "metadata": {
        "id": "6lxOfhP8XKzl"
      },
      "execution_count": null,
      "outputs": []
    },
    {
      "cell_type": "markdown",
      "source": [
        "# Load data"
      ],
      "metadata": {
        "id": "MGAiXzJtVjbd"
      }
    },
    {
      "cell_type": "code",
      "source": [
        "data_transform = torchvision.transforms.Compose([torchvision.transforms.ToTensor(),\n",
        "                                                 torchvision.transforms.Normalize([0.1307,], [0.3081,])]) # just one element because of shape (1, 28, 28)"
      ],
      "metadata": {
        "id": "EtBKjk5mYxAb"
      },
      "execution_count": null,
      "outputs": []
    },
    {
      "cell_type": "code",
      "source": [
        "# MNIST dataset \n",
        "train_dataset = torchvision.datasets.MNIST('/content/data',train=True, transform=data_transform, download=True)\n",
        "test_dataset = torchvision.datasets.MNIST('/content/data',train=False, transform=data_transform, download=True)\n",
        "\n",
        "# Data loader\n",
        "train_loader = torch.utils.data.DataLoader(train_dataset, batch_size, shuffle=True)\n",
        "test_loader = torch.utils.data.DataLoader(test_dataset, batch_size, shuffle=False)"
      ],
      "metadata": {
        "id": "s0Rc3pEpVa1B"
      },
      "execution_count": null,
      "outputs": []
    },
    {
      "cell_type": "code",
      "source": [
        "# samples\n",
        "\n",
        "example_data,example_label = next(iter(train_loader))\n",
        "img_grid = torchvision.utils.make_grid(example_data)\n",
        "\n",
        "\n",
        "############## TENSORBOARD ########################\n",
        "writer.add_image('samples',img_grid)\n",
        "\n",
        "# writer.close()\n",
        "# %tensorboard --logdir=runs"
      ],
      "metadata": {
        "id": "WXBUuMHwaoWC"
      },
      "execution_count": null,
      "outputs": []
    },
    {
      "cell_type": "code",
      "source": [
        "print(example_data.shape)\n",
        "print(img_grid.shape)"
      ],
      "metadata": {
        "colab": {
          "base_uri": "https://localhost:8080/"
        },
        "id": "mdN3fwcedrPV",
        "outputId": "da0fb485-6e29-4d53-9fb8-9c5b79149df9"
      },
      "execution_count": null,
      "outputs": [
        {
          "output_type": "stream",
          "name": "stdout",
          "text": [
            "torch.Size([4, 1, 28, 28])\n",
            "torch.Size([3, 32, 122])\n"
          ]
        }
      ]
    },
    {
      "cell_type": "code",
      "source": [
        "# Fully connected neural network with one hidden layer\n",
        "\n",
        "class NeuralNet(nn.Module):\n",
        "\n",
        "  def __init__(self,input_size,hidden_size,num_classes):\n",
        "    super().__init__()\n",
        "    self.linear1 = nn.Linear(input_size,hidden_size)\n",
        "    self.relu = nn.ReLU()\n",
        "    self.linear2 = nn.Linear(hidden_size,num_classes)\n",
        "\n",
        "  def forward(self,x):\n",
        "    out = self.linear1(x)\n",
        "    out = self.relu(out)\n",
        "    out = self.linear2(out)\n",
        "    # no activation and no softmax at the end\n",
        "    return out"
      ],
      "metadata": {
        "id": "Z_kGFuxEfmE6"
      },
      "execution_count": null,
      "outputs": []
    },
    {
      "cell_type": "code",
      "source": [
        "model = NeuralNet(input_size,hidden_size,num_classes)\n",
        "model.to(device) # Set the model to run on the GPU.\n",
        "\n",
        "criterion = nn.CrossEntropyLoss()\n",
        "optimizer = torch.optim.Adam(model.parameters(),lr=learning_rate)\n",
        "\n",
        "\n",
        "############## TENSORBOARD ########################\n",
        "writer.add_graph(model,example_data.reshape(-1,28*28))\n",
        "\n",
        "# writer.close()\n",
        "# %tensorboard --logdir=runs\n"
      ],
      "metadata": {
        "id": "Lq1ME2KuhW2f"
      },
      "execution_count": null,
      "outputs": []
    },
    {
      "cell_type": "markdown",
      "source": [
        "# Training the model"
      ],
      "metadata": {
        "id": "33Itj1jXpfOC"
      }
    },
    {
      "cell_type": "code",
      "source": [
        "example_data.shape[0]"
      ],
      "metadata": {
        "colab": {
          "base_uri": "https://localhost:8080/"
        },
        "id": "J36byRRSv0Uw",
        "outputId": "2de74e7b-6682-4d61-d8e1-126769c25433"
      },
      "execution_count": 35,
      "outputs": [
        {
          "output_type": "execute_result",
          "data": {
            "text/plain": [
              "4"
            ]
          },
          "metadata": {},
          "execution_count": 35
        }
      ]
    },
    {
      "cell_type": "code",
      "source": [
        "running_loss = 0.0\n",
        "running_correct = 0\n",
        "n_total_steps = len(train_loader)\n",
        "\n",
        "for epoch in range(num_epochs):\n",
        "  print(f'Epoch {epoch+1}/{num_epochs} ')\n",
        "  print('_' * 10)\n",
        "\n",
        "  for i,images,labels in enumerate(train_loader):\n",
        "    # origin shape: [batch_s, 1, 28, 28] , resized: [100, 784]\n",
        "    images = images.reshape(-1,28*28).to(device)\n",
        "    labels = labels.to(device) # # Set the data to run on the GPU.\n",
        "\n",
        "    outputs = model(images)\n",
        "    loss = criterion(outputs,labels)\n",
        "\n",
        "    optimizer.zero_grad()\n",
        "    loss.backward()\n",
        "    optimizer.step()\n",
        "\n",
        "    running_loss += loss.item()     # OR running_loss += loss.item()* images.size(0)   :  images.size(0) == images.shape[0] == batch_size\n",
        "\n",
        "    _, predicted = torch.max(outputs.data, 1)\n",
        "    running_correct += (labels==predicted).sum().item()\n",
        "\n",
        "    if (i+1) % 100 == 0:\n",
        "      print(f'Step {i+1}/{n_total_steps} , Loss : {loss.item():.4f}  ')\n",
        "\n",
        "      ############## TENSORBOARD ########################\n",
        "      \n",
        "    \n",
        "\n",
        "\n",
        "\n",
        "\n"
      ],
      "metadata": {
        "id": "r6AVg8H1pe_W"
      },
      "execution_count": null,
      "outputs": []
    }
  ]
}