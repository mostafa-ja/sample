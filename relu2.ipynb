{
  "nbformat": 4,
  "nbformat_minor": 0,
  "metadata": {
    "colab": {
      "provenance": [],
      "authorship_tag": "ABX9TyNVNCuwK32xxg1iw9aqRGs+",
      "include_colab_link": true
    },
    "kernelspec": {
      "name": "python3",
      "display_name": "Python 3"
    },
    "language_info": {
      "name": "python"
    }
  },
  "cells": [
    {
      "cell_type": "markdown",
      "metadata": {
        "id": "view-in-github",
        "colab_type": "text"
      },
      "source": [
        "<a href=\"https://colab.research.google.com/github/mostafa-ja/sample/blob/master/relu2.ipynb\" target=\"_parent\"><img src=\"https://colab.research.google.com/assets/colab-badge.svg\" alt=\"Open In Colab\"/></a>"
      ]
    },
    {
      "cell_type": "code",
      "execution_count": 585,
      "metadata": {
        "id": "W8uMTXm7OzBk"
      },
      "outputs": [],
      "source": [
        "import torch\n",
        "import torchvision\n",
        "import torchvision.transforms as transforms\n",
        "import matplotlib.pyplot as plt\n",
        "import torch.nn as nn\n",
        "import numpy as np"
      ]
    },
    {
      "cell_type": "code",
      "source": [
        "x=np.linspace(-2.0, 2.0, num=200)\n",
        "x= x[:, np.newaxis]\n",
        "x.shape"
      ],
      "metadata": {
        "colab": {
          "base_uri": "https://localhost:8080/"
        },
        "id": "-A-jvdFzOT7f",
        "outputId": "318c1e23-040c-4aef-aa3a-e29d5b1a6a65"
      },
      "execution_count": 586,
      "outputs": [
        {
          "output_type": "execute_result",
          "data": {
            "text/plain": [
              "(200, 1)"
            ]
          },
          "metadata": {},
          "execution_count": 586
        }
      ]
    },
    {
      "cell_type": "code",
      "source": [
        "y = np.sin(x)\n",
        "y.shape"
      ],
      "metadata": {
        "colab": {
          "base_uri": "https://localhost:8080/"
        },
        "id": "ugp0gPIKQnum",
        "outputId": "f40fbe05-04f8-4232-f9c8-4f6d12de314b"
      },
      "execution_count": 587,
      "outputs": [
        {
          "output_type": "execute_result",
          "data": {
            "text/plain": [
              "(200, 1)"
            ]
          },
          "metadata": {},
          "execution_count": 587
        }
      ]
    },
    {
      "cell_type": "code",
      "source": [
        "plt.plot(x,y)"
      ],
      "metadata": {
        "colab": {
          "base_uri": "https://localhost:8080/",
          "height": 282
        },
        "id": "Yq5xZyUvQxmt",
        "outputId": "5c78489d-29ab-4d7a-ffdb-2b57c99cbe7f"
      },
      "execution_count": 588,
      "outputs": [
        {
          "output_type": "execute_result",
          "data": {
            "text/plain": [
              "[<matplotlib.lines.Line2D at 0x7faa8dd2d110>]"
            ]
          },
          "metadata": {},
          "execution_count": 588
        },
        {
          "output_type": "display_data",
          "data": {
            "text/plain": [
              "<Figure size 432x288 with 1 Axes>"
            ],
            "image/png": "[encoded data removed]"
          },
          "metadata": {
            "needs_background": "light"
          }
        }
      ]
    },
    {
      "cell_type": "code",
      "source": [
        "X_train = torch.from_numpy(x.astype(np.float32))\n",
        "y_train = torch.from_numpy(y.astype(np.float32))"
      ],
      "metadata": {
        "id": "ojwcijCqR2O_"
      },
      "execution_count": 589,
      "outputs": []
    },
    {
      "cell_type": "code",
      "source": [
        "# hyper parameters\n",
        "input_size = 1 \n",
        "hidden_size1 = 30\n",
        "hidden_size2 = 10\n",
        "num_class = 1\n"
      ],
      "metadata": {
        "id": "y6ui6176Pn0o"
      },
      "execution_count": 590,
      "outputs": []
    },
    {
      "cell_type": "code",
      "source": [
        "def relu2(x,b):\n",
        "  a = torch.maximum(torch.tensor([0]),x)\n",
        "  return a*(a<b)"
      ],
      "metadata": {
        "id": "LVIkHI8WKoXt"
      },
      "execution_count": 591,
      "outputs": []
    },
    {
      "cell_type": "code",
      "source": [
        "a=torch.tensor([[1,-2,3],[4,5,6]])\n",
        "relu2(a,4)"
      ],
      "metadata": {
        "colab": {
          "base_uri": "https://localhost:8080/"
        },
        "id": "utzGV0KgL6x0",
        "outputId": "cbb58ef9-125e-4cf1-f85e-b09901349a13"
      },
      "execution_count": 592,
      "outputs": [
        {
          "output_type": "execute_result",
          "data": {
            "text/plain": [
              "tensor([[1, 0, 3],\n",
              "        [0, 0, 0]])"
            ]
          },
          "metadata": {},
          "execution_count": 592
        }
      ]
    },
    {
      "cell_type": "code",
      "source": [
        "class NeuralNet(nn.Module):\n",
        "  def __init__(self,input_size,hidden_size1,hidden_size2,num_class):\n",
        "    super().__init__()\n",
        "    self.linear1 = nn.Linear(input_size,hidden_size1)\n",
        "    self.relu = nn.ReLU()\n",
        "    self.linear2 = nn.Linear(hidden_size1,hidden_size2)\n",
        "    self.linear3 = nn.Linear(hidden_size2,num_class)\n",
        "  def forward(self,x):\n",
        "    out = self.linear1(x)\n",
        "    out = self.relu(out)\n",
        "    #out = relu2(out,1)\n",
        "    out = self.linear2(out)\n",
        "    out = self.relu(out)\n",
        "    #out = relu2(out,2)\n",
        "    y_pred = self.linear3(out)\n",
        "    return y_pred"
      ],
      "metadata": {
        "id": "OnUmWCOkVvop"
      },
      "execution_count": 593,
      "outputs": []
    },
    {
      "cell_type": "code",
      "source": [
        "model = NeuralNet(input_size=input_size,hidden_size1=hidden_size1,hidden_size2=hidden_size2,num_class=num_class)"
      ],
      "metadata": {
        "id": "g7zcr-zZXSD7"
      },
      "execution_count": 594,
      "outputs": []
    },
    {
      "cell_type": "code",
      "source": [
        "learning_rate = 0.05\n",
        "criterion = nn.MSELoss()\n",
        "optimizer = torch.optim.SGD(model.parameters(),lr=learning_rate)"
      ],
      "metadata": {
        "id": "ULwD_04wXmax"
      },
      "execution_count": 595,
      "outputs": []
    },
    {
      "cell_type": "code",
      "source": [
        "n_epochs = 500\n",
        "\n",
        "for epoch in range(n_epochs):\n",
        "\n",
        "  #forward pass\n",
        "  y_pred = model(X_train)\n",
        "\n",
        "  #loss\n",
        "  loss = criterion(y_pred,y_train)\n",
        "\n",
        "  #backward pass\n",
        "  loss.backward()\n",
        "\n",
        "  #gradient update\n",
        "  optimizer.step()\n",
        "  optimizer.zero_grad()\n",
        "\n",
        "  if (epoch+1) % 10 == 0 :\n",
        "    print(f'epoch = {epoch+1} , loss = {loss.item():.4f} ')\n",
        "\n"
      ],
      "metadata": {
        "colab": {
          "base_uri": "https://localhost:8080/"
        },
        "id": "KIGcmhf3YKOM",
        "outputId": "31023bd7-17d2-4e41-a6bb-067154cbce43"
      },
      "execution_count": 596,
      "outputs": [
        {
          "output_type": "stream",
          "name": "stdout",
          "text": [
            "epoch = 10 , loss = 0.0298 \n",
            "epoch = 20 , loss = 0.0098 \n",
            "epoch = 30 , loss = 0.0089 \n",
            "epoch = 40 , loss = 0.0083 \n",
            "epoch = 50 , loss = 0.0077 \n",
            "epoch = 60 , loss = 0.0072 \n",
            "epoch = 70 , loss = 0.0066 \n",
            "epoch = 80 , loss = 0.0061 \n",
            "epoch = 90 , loss = 0.0055 \n",
            "epoch = 100 , loss = 0.0052 \n",
            "epoch = 110 , loss = 0.0049 \n",
            "epoch = 120 , loss = 0.0047 \n",
            "epoch = 130 , loss = 0.0045 \n",
            "epoch = 140 , loss = 0.0043 \n",
            "epoch = 150 , loss = 0.0041 \n",
            "epoch = 160 , loss = 0.0040 \n",
            "epoch = 170 , loss = 0.0038 \n",
            "epoch = 180 , loss = 0.0037 \n",
            "epoch = 190 , loss = 0.0036 \n",
            "epoch = 200 , loss = 0.0034 \n",
            "epoch = 210 , loss = 0.0033 \n",
            "epoch = 220 , loss = 0.0032 \n",
            "epoch = 230 , loss = 0.0031 \n",
            "epoch = 240 , loss = 0.0030 \n",
            "epoch = 250 , loss = 0.0029 \n",
            "epoch = 260 , loss = 0.0028 \n",
            "epoch = 270 , loss = 0.0028 \n",
            "epoch = 280 , loss = 0.0027 \n",
            "epoch = 290 , loss = 0.0026 \n",
            "epoch = 300 , loss = 0.0025 \n",
            "epoch = 310 , loss = 0.0025 \n",
            "epoch = 320 , loss = 0.0024 \n",
            "epoch = 330 , loss = 0.0023 \n",
            "epoch = 340 , loss = 0.0023 \n",
            "epoch = 350 , loss = 0.0022 \n",
            "epoch = 360 , loss = 0.0022 \n",
            "epoch = 370 , loss = 0.0021 \n",
            "epoch = 380 , loss = 0.0021 \n",
            "epoch = 390 , loss = 0.0021 \n",
            "epoch = 400 , loss = 0.0020 \n",
            "epoch = 410 , loss = 0.0020 \n",
            "epoch = 420 , loss = 0.0019 \n",
            "epoch = 430 , loss = 0.0019 \n",
            "epoch = 440 , loss = 0.0019 \n",
            "epoch = 450 , loss = 0.0018 \n",
            "epoch = 460 , loss = 0.0018 \n",
            "epoch = 470 , loss = 0.0017 \n",
            "epoch = 480 , loss = 0.0017 \n",
            "epoch = 490 , loss = 0.0017 \n",
            "epoch = 500 , loss = 0.0016 \n"
          ]
        }
      ]
    },
    {
      "cell_type": "code",
      "source": [
        "plt.scatter(X_train.detach().numpy(),model(X_train).detach().numpy())\n",
        "plt.plot(x,y,c='r')"
      ],
      "metadata": {
        "colab": {
          "base_uri": "https://localhost:8080/",
          "height": 282
        },
        "id": "n27wxXSgWoCG",
        "outputId": "9c7ce46f-fea6-4a63-b65b-fcaef7490d4f"
      },
      "execution_count": 597,
      "outputs": [
        {
          "output_type": "execute_result",
          "data": {
            "text/plain": [
              "[<matplotlib.lines.Line2D at 0x7faa8dc46e10>]"
            ]
          },
          "metadata": {},
          "execution_count": 597
        },
        {
          "output_type": "display_data",
          "data": {
            "text/plain": [
              "<Figure size 432x288 with 1 Axes>"
            ],
            "image/png": "[encoded data removed]"
          },
          "metadata": {
            "needs_background": "light"
          }
        }
      ]
    }
  ]
}