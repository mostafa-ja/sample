{
  "nbformat": 4,
  "nbformat_minor": 0,
  "metadata": {
    "colab": {
      "name": "PyTorch Tutorial 15 - Transfer Learning.ipynb",
      "provenance": [],
      "collapsed_sections": [],
      "authorship_tag": "ABX9TyNbJovl7BBejsM2dN9JDMhT",
      "include_colab_link": true
    },
    "kernelspec": {
      "name": "python3",
      "display_name": "Python 3"
    },
    "language_info": {
      "name": "python"
    },
    "accelerator": "GPU",
    "gpuClass": "standard",
    "widgets": {
      "application/vnd.jupyter.widget-state+json": {
        "1db5db1ef3b442ea87495c287dedf9cd": {
          "model_module": "@jupyter-widgets/controls",
          "model_name": "HBoxModel",
          "model_module_version": "1.5.0",
          "state": {
            "_dom_classes": [],
            "_model_module": "@jupyter-widgets/controls",
            "_model_module_version": "1.5.0",
            "_model_name": "HBoxModel",
            "_view_count": null,
            "_view_module": "@jupyter-widgets/controls",
            "_view_module_version": "1.5.0",
            "_view_name": "HBoxView",
            "box_style": "",
            "children": [
              "IPY_MODEL_a4b33124f52247d3a0bef6a31e785e11",
              "IPY_MODEL_85ebf94a84424db4b0c222ef047f1392",
              "IPY_MODEL_c1febdf71487459c9ef6058d4afb1376"
            ],
            "layout": "IPY_MODEL_3fd35d33bdaa4ac8b28f85254ea3329d"
          }
        },
        "a4b33124f52247d3a0bef6a31e785e11": {
          "model_module": "@jupyter-widgets/controls",
          "model_name": "HTMLModel",
          "model_module_version": "1.5.0",
          "state": {
            "_dom_classes": [],
            "_model_module": "@jupyter-widgets/controls",
            "_model_module_version": "1.5.0",
            "_model_name": "HTMLModel",
            "_view_count": null,
            "_view_module": "@jupyter-widgets/controls",
            "_view_module_version": "1.5.0",
            "_view_name": "HTMLView",
            "description": "",
            "description_tooltip": null,
            "layout": "IPY_MODEL_92370a7271344bf6a43f64808be0a283",
            "placeholder": "​",
            "style": "IPY_MODEL_63b71ed90c3544479c9838071c1bd24a",
            "value": "100%"
          }
        },
        "85ebf94a84424db4b0c222ef047f1392": {
          "model_module": "@jupyter-widgets/controls",
          "model_name": "FloatProgressModel",
          "model_module_version": "1.5.0",
          "state": {
            "_dom_classes": [],
            "_model_module": "@jupyter-widgets/controls",
            "_model_module_version": "1.5.0",
            "_model_name": "FloatProgressModel",
            "_view_count": null,
            "_view_module": "@jupyter-widgets/controls",
            "_view_module_version": "1.5.0",
            "_view_name": "ProgressView",
            "bar_style": "success",
            "description": "",
            "description_tooltip": null,
            "layout": "IPY_MODEL_7550b8dc533a4c5d86b1618588ebbe29",
            "max": 46830571,
            "min": 0,
            "orientation": "horizontal",
            "style": "IPY_MODEL_91ca7e8954c34c3f827c80764737fa7c",
            "value": 46830571
          }
        },
        "c1febdf71487459c9ef6058d4afb1376": {
          "model_module": "@jupyter-widgets/controls",
          "model_name": "HTMLModel",
          "model_module_version": "1.5.0",
          "state": {
            "_dom_classes": [],
            "_model_module": "@jupyter-widgets/controls",
            "_model_module_version": "1.5.0",
            "_model_name": "HTMLModel",
            "_view_count": null,
            "_view_module": "@jupyter-widgets/controls",
            "_view_module_version": "1.5.0",
            "_view_name": "HTMLView",
            "description": "",
            "description_tooltip": null,
            "layout": "IPY_MODEL_df59082d643a45ebbc31ee646c73dac0",
            "placeholder": "​",
            "style": "IPY_MODEL_5f8e7298c0314b23bed0c9c7ab980ca9",
            "value": " 44.7M/44.7M [00:00&lt;00:00, 190MB/s]"
          }
        },
        "3fd35d33bdaa4ac8b28f85254ea3329d": {
          "model_module": "@jupyter-widgets/base",
          "model_name": "LayoutModel",
          "model_module_version": "1.2.0",
          "state": {
            "_model_module": "@jupyter-widgets/base",
            "_model_module_version": "1.2.0",
            "_model_name": "LayoutModel",
            "_view_count": null,
            "_view_module": "@jupyter-widgets/base",
            "_view_module_version": "1.2.0",
            "_view_name": "LayoutView",
            "align_content": null,
            "align_items": null,
            "align_self": null,
            "border": null,
            "bottom": null,
            "display": null,
            "flex": null,
            "flex_flow": null,
            "grid_area": null,
            "grid_auto_columns": null,
            "grid_auto_flow": null,
            "grid_auto_rows": null,
            "grid_column": null,
            "grid_gap": null,
            "grid_row": null,
            "grid_template_areas": null,
            "grid_template_columns": null,
            "grid_template_rows": null,
            "height": null,
            "justify_content": null,
            "justify_items": null,
            "left": null,
            "margin": null,
            "max_height": null,
            "max_width": null,
            "min_height": null,
            "min_width": null,
            "object_fit": null,
            "object_position": null,
            "order": null,
            "overflow": null,
            "overflow_x": null,
            "overflow_y": null,
            "padding": null,
            "right": null,
            "top": null,
            "visibility": null,
            "width": null
          }
        },
        "92370a7271344bf6a43f64808be0a283": {
          "model_module": "@jupyter-widgets/base",
          "model_name": "LayoutModel",
          "model_module_version": "1.2.0",
          "state": {
            "_model_module": "@jupyter-widgets/base",
            "_model_module_version": "1.2.0",
            "_model_name": "LayoutModel",
            "_view_count": null,
            "_view_module": "@jupyter-widgets/base",
            "_view_module_version": "1.2.0",
            "_view_name": "LayoutView",
            "align_content": null,
            "align_items": null,
            "align_self": null,
            "border": null,
            "bottom": null,
            "display": null,
            "flex": null,
            "flex_flow": null,
            "grid_area": null,
            "grid_auto_columns": null,
            "grid_auto_flow": null,
            "grid_auto_rows": null,
            "grid_column": null,
            "grid_gap": null,
            "grid_row": null,
            "grid_template_areas": null,
            "grid_template_columns": null,
            "grid_template_rows": null,
            "height": null,
            "justify_content": null,
            "justify_items": null,
            "left": null,
            "margin": null,
            "max_height": null,
            "max_width": null,
            "min_height": null,
            "min_width": null,
            "object_fit": null,
            "object_position": null,
            "order": null,
            "overflow": null,
            "overflow_x": null,
            "overflow_y": null,
            "padding": null,
            "right": null,
            "top": null,
            "visibility": null,
            "width": null
          }
        },
        "63b71ed90c3544479c9838071c1bd24a": {
          "model_module": "@jupyter-widgets/controls",
          "model_name": "DescriptionStyleModel",
          "model_module_version": "1.5.0",
          "state": {
            "_model_module": "@jupyter-widgets/controls",
            "_model_module_version": "1.5.0",
            "_model_name": "DescriptionStyleModel",
            "_view_count": null,
            "_view_module": "@jupyter-widgets/base",
            "_view_module_version": "1.2.0",
            "_view_name": "StyleView",
            "description_width": ""
          }
        },
        "7550b8dc533a4c5d86b1618588ebbe29": {
          "model_module": "@jupyter-widgets/base",
          "model_name": "LayoutModel",
          "model_module_version": "1.2.0",
          "state": {
            "_model_module": "@jupyter-widgets/base",
            "_model_module_version": "1.2.0",
            "_model_name": "LayoutModel",
            "_view_count": null,
            "_view_module": "@jupyter-widgets/base",
            "_view_module_version": "1.2.0",
            "_view_name": "LayoutView",
            "align_content": null,
            "align_items": null,
            "align_self": null,
            "border": null,
            "bottom": null,
            "display": null,
            "flex": null,
            "flex_flow": null,
            "grid_area": null,
            "grid_auto_columns": null,
            "grid_auto_flow": null,
            "grid_auto_rows": null,
            "grid_column": null,
            "grid_gap": null,
            "grid_row": null,
            "grid_template_areas": null,
            "grid_template_columns": null,
            "grid_template_rows": null,
            "height": null,
            "justify_content": null,
            "justify_items": null,
            "left": null,
            "margin": null,
            "max_height": null,
            "max_width": null,
            "min_height": null,
            "min_width": null,
            "object_fit": null,
            "object_position": null,
            "order": null,
            "overflow": null,
            "overflow_x": null,
            "overflow_y": null,
            "padding": null,
            "right": null,
            "top": null,
            "visibility": null,
            "width": null
          }
        },
        "91ca7e8954c34c3f827c80764737fa7c": {
          "model_module": "@jupyter-widgets/controls",
          "model_name": "ProgressStyleModel",
          "model_module_version": "1.5.0",
          "state": {
            "_model_module": "@jupyter-widgets/controls",
            "_model_module_version": "1.5.0",
            "_model_name": "ProgressStyleModel",
            "_view_count": null,
            "_view_module": "@jupyter-widgets/base",
            "_view_module_version": "1.2.0",
            "_view_name": "StyleView",
            "bar_color": null,
            "description_width": ""
          }
        },
        "df59082d643a45ebbc31ee646c73dac0": {
          "model_module": "@jupyter-widgets/base",
          "model_name": "LayoutModel",
          "model_module_version": "1.2.0",
          "state": {
            "_model_module": "@jupyter-widgets/base",
            "_model_module_version": "1.2.0",
            "_model_name": "LayoutModel",
            "_view_count": null,
            "_view_module": "@jupyter-widgets/base",
            "_view_module_version": "1.2.0",
            "_view_name": "LayoutView",
            "align_content": null,
            "align_items": null,
            "align_self": null,
            "border": null,
            "bottom": null,
            "display": null,
            "flex": null,
            "flex_flow": null,
            "grid_area": null,
            "grid_auto_columns": null,
            "grid_auto_flow": null,
            "grid_auto_rows": null,
            "grid_column": null,
            "grid_gap": null,
            "grid_row": null,
            "grid_template_areas": null,
            "grid_template_columns": null,
            "grid_template_rows": null,
            "height": null,
            "justify_content": null,
            "justify_items": null,
            "left": null,
            "margin": null,
            "max_height": null,
            "max_width": null,
            "min_height": null,
            "min_width": null,
            "object_fit": null,
            "object_position": null,
            "order": null,
            "overflow": null,
            "overflow_x": null,
            "overflow_y": null,
            "padding": null,
            "right": null,
            "top": null,
            "visibility": null,
            "width": null
          }
        },
        "5f8e7298c0314b23bed0c9c7ab980ca9": {
          "model_module": "@jupyter-widgets/controls",
          "model_name": "DescriptionStyleModel",
          "model_module_version": "1.5.0",
          "state": {
            "_model_module": "@jupyter-widgets/controls",
            "_model_module_version": "1.5.0",
            "_model_name": "DescriptionStyleModel",
            "_view_count": null,
            "_view_module": "@jupyter-widgets/base",
            "_view_module_version": "1.2.0",
            "_view_name": "StyleView",
            "description_width": ""
          }
        }
      }
    }
  },
  "cells": [
    {
      "cell_type": "markdown",
      "metadata": {
        "id": "view-in-github",
        "colab_type": "text"
      },
      "source": [
        "<a href=\"https://colab.research.google.com/github/mostafa-ja/sample/blob/master/PyTorch_Tutorial_15_Transfer_Learning.ipynb\" target=\"_parent\"><img src=\"https://colab.research.google.com/assets/colab-badge.svg\" alt=\"Open In Colab\"/></a>"
      ]
    },
    {
      "cell_type": "markdown",
      "source": [
        "[Link of tutorial ](https://pytorch.org/tutorials/beginner/transfer_learning_tutorial.html)\n",
        "\n",
        "[Link of explaining fiest part of codes(Python_Dictionary_Comprehensio)](https://github.com/mostafa-ja/sample/blob/master/Python_Dictionary_Comprehension.ipynb)\n",
        "\n",
        "[Link of video in youtube](https://www.youtube.com/watch?v=K0lWSB2QoIQ&list=PLqnslRFeH2UrcDBWF5mfPGpqQDSta6VK4&index=15)\n"
      ],
      "metadata": {
        "id": "kawpUy6xE0gV"
      }
    },
    {
      "cell_type": "code",
      "source": [
        "from __future__ import print_function, division\n",
        "\n",
        "import torch\n",
        "import torch.nn as nn\n",
        "import torch.optim as optim\n",
        "from torch.optim import lr_scheduler\n",
        "import torch.backends.cudnn as cudnn\n",
        "import numpy as np\n",
        "import torchvision\n",
        "from torchvision import datasets, models, transforms\n",
        "import matplotlib.pyplot as plt\n",
        "import time\n",
        "import os\n",
        "import copy\n",
        "\n",
        "cudnn.benchmark = True\n",
        "plt.ion()   # interactive mode"
      ],
      "metadata": {
        "id": "yMHT3p7BGI9c"
      },
      "execution_count": 1,
      "outputs": []
    },
    {
      "cell_type": "markdown",
      "source": [
        "# `Load Data\n",
        "\n",
        "The problem we’re going to solve today is to train a model to classify ants and bees. We have about 120 training images each for ants and bees. There are 75 validation images for each class. Usually, this is a very small dataset to generalize upon, if trained from scratch. Since we are using transfer learning, we should be able to generalize reasonably well."
      ],
      "metadata": {
        "id": "wJdzNgRJF9Aa"
      }
    },
    {
      "cell_type": "code",
      "source": [
        "!wget https://download.pytorch.org/tutorial/hymenoptera_data.zip"
      ],
      "metadata": {
        "colab": {
          "base_uri": "https://localhost:8080/"
        },
        "id": "ci7R3lZ7Egoq",
        "outputId": "c2cc8564-f332-4ff9-9a94-e01079cff681"
      },
      "execution_count": 2,
      "outputs": [
        {
          "output_type": "stream",
          "name": "stdout",
          "text": [
            "--2022-08-13 06:38:12--  https://download.pytorch.org/tutorial/hymenoptera_data.zip\n",
            "Resolving download.pytorch.org (download.pytorch.org)... 18.65.229.67, 18.65.229.70, 18.65.229.14, ...\n",
            "Connecting to download.pytorch.org (download.pytorch.org)|18.65.229.67|:443... connected.\n",
            "HTTP request sent, awaiting response... 200 OK\n",
            "Length: 47286322 (45M) [application/zip]\n",
            "Saving to: ‘hymenoptera_data.zip’\n",
            "\n",
            "hymenoptera_data.zi 100%[===================>]  45.10M   175MB/s    in 0.3s    \n",
            "\n",
            "2022-08-13 06:38:12 (175 MB/s) - ‘hymenoptera_data.zip’ saved [47286322/47286322]\n",
            "\n"
          ]
        }
      ]
    },
    {
      "cell_type": "code",
      "source": [
        "import zipfile\n",
        "with zipfile.ZipFile('/content/hymenoptera_data.zip', 'r') as zip_ref:\n",
        "    zip_ref.extractall('/content')"
      ],
      "metadata": {
        "id": "wMFCN7ukEOE_"
      },
      "execution_count": 3,
      "outputs": []
    },
    {
      "cell_type": "code",
      "source": [
        "data_transform = {'train':transforms.Compose([transforms.RandomResizedCrop(224),\n",
        "                                              transforms.RandomHorizontalFlip(),\n",
        "                                              transforms.ToTensor(),\n",
        "                                              transforms.Normalize([0.485, 0.456, 0.406], [0.229, 0.224, 0.225])]),\n",
        "                  'val':transforms.Compose([transforms.Resize(256),\n",
        "                                            transforms.CenterCrop(224),\n",
        "                                            transforms.ToTensor(),\n",
        "                                            transforms.Normalize([0.485, 0.456, 0.406], [0.229, 0.224, 0.225])])}\n",
        "                                            "
      ],
      "metadata": {
        "id": "JVG4WxUBZs_j"
      },
      "execution_count": 4,
      "outputs": []
    },
    {
      "cell_type": "code",
      "source": [
        "data_dir = '/content/hymenoptera_data'\n",
        "\n",
        "image_dataset = {x: datasets.ImageFolder(os.path.join(data_dir,x), data_transform[x]) for x in ['train','val'] }\n",
        "\n",
        "dataloader = {x: torch.utils.data.DataLoader(image_dataset[x], batch_size=4, shuffle=True, num_workers=2) for x in ['train','val']}\n",
        "\n",
        "data_size = {x: len(image_dataset[x]) for x in ['train','val']}\n",
        "\n",
        "class_names = image_dataset['train'].classes\n",
        "\n",
        "device = torch.device(\"cuda:0\" if torch.cuda.is_available() else \"cpu\")"
      ],
      "metadata": {
        "id": "DQ--8xpgbKuA"
      },
      "execution_count": 5,
      "outputs": []
    },
    {
      "cell_type": "code",
      "source": [
        "image_dataset['train'].classes"
      ],
      "metadata": {
        "colab": {
          "base_uri": "https://localhost:8080/"
        },
        "id": "08pnzIhqdrd0",
        "outputId": "a87fe999-4ce2-45bf-db49-82846871c624"
      },
      "execution_count": 7,
      "outputs": [
        {
          "output_type": "execute_result",
          "data": {
            "text/plain": [
              "['ants', 'bees']"
            ]
          },
          "metadata": {},
          "execution_count": 7
        }
      ]
    },
    {
      "cell_type": "markdown",
      "source": [
        "# Visualize a few images"
      ],
      "metadata": {
        "id": "mvhXOHLLeZk-"
      }
    },
    {
      "cell_type": "code",
      "source": [
        "def imshow(inp):\n",
        "  inp = inp.numpy().transpose([1,2,0])\n",
        "  mean = np.array([0.485, 0.456, 0.406])\n",
        "  std = np.array([0.229, 0.224, 0.225])\n",
        "  inp = std * inp + mean\n",
        "  inp = np.clip(inp,0,1) # put all data inside [0,1)\n",
        "  plt.imshow(inp)"
      ],
      "metadata": {
        "id": "IksgpWo2eWsD"
      },
      "execution_count": 6,
      "outputs": []
    },
    {
      "cell_type": "code",
      "source": [
        "# Get a batch of training data\n",
        "images , classes = next(iter(dataloader['train'])) # torch.Size([4, 3, 224, 224])\n",
        "\n",
        "# Make a grid from batch\n",
        "out = torchvision.utils.make_grid(images)  # torch.Size([3, 228, 906])\n",
        "\n",
        "# torchvision.utils.make_grid() returns a tensor containing grid of images. here batch_size is 4 , so it Connects four pictures together\n",
        "# convert [4, 3, 224, 224]  into [3, 228, 906] means that connect 4 pictures on the third dimension"
      ],
      "metadata": {
        "id": "oM7H_5Q1fzL4"
      },
      "execution_count": 8,
      "outputs": []
    },
    {
      "cell_type": "code",
      "source": [
        "imshow(out)"
      ],
      "metadata": {
        "colab": {
          "base_uri": "https://localhost:8080/",
          "height": 136
        },
        "id": "Yz4rcjd0iHtq",
        "outputId": "e52af8f0-1f97-4c1f-e716-5437f9ccf14b"
      },
      "execution_count": 9,
      "outputs": [
        {
          "output_type": "display_data",
          "data": {
            "text/plain": [
              "<Figure size 432x288 with 1 Axes>"
            ],
            "image/png": "[encoded data removed]"
          },
          "metadata": {
            "needs_background": "light"
          }
        }
      ]
    },
    {
      "cell_type": "markdown",
      "source": [
        "# Training the mode"
      ],
      "metadata": {
        "id": "hepN6vu2ibDM"
      }
    },
    {
      "cell_type": "code",
      "source": [
        "def train_model(model, criterion, optimizer, scheduler, num_epochs=25):\n",
        "  since = time.time()\n",
        "\n",
        "  best_model = copy.deepcopy(model.state_dict())\n",
        "  best_acc = 0.0\n",
        "\n",
        "  for epoch in range(num_epochs):\n",
        "    print(f'Epoch {epoch}/{num_epochs-1} ')\n",
        "    print('_' * 10)\n",
        "    \n",
        "    # Each epoch has a training and validation phase\n",
        "    for phase in ['train', 'val']:\n",
        "      # model.train() tells your model that you are training the model,like : BatchNorm layers use per-batch statistics and Dropout layers activated\n",
        "      if phase == 'train' :\n",
        "        model.train()\n",
        "      else:\n",
        "        # model.eval(), BatchNorm layers use running statistics and Dropout layers de-activated\n",
        "        model.eval()\n",
        "      \n",
        "      running_loss = 0.0\n",
        "      running_corrects = 0\n",
        "\n",
        "      # Iterate over data.\n",
        "      for inputs,labels in dataloader[phase]:\n",
        "        inputs = inputs.to(device)\n",
        "        labels = labels.to(device)\n",
        "\n",
        "        # zero the parameter gradients\n",
        "        optimizer.zero_grad()\n",
        "\n",
        "        # forward\n",
        "        # track history if only in train\n",
        "        with torch.set_grad_enabled(phase=='train'):\n",
        "          outputs = model(inputs)\n",
        "          _,preds = torch.max(outputs,1)\n",
        "          loss = criterion(outputs,labels)\n",
        "\n",
        "           # backward + optimize only if in training phase\n",
        "          if phase == 'train':\n",
        "            loss.backward()\n",
        "            optimizer.step()\n",
        "\n",
        "        # statistics\n",
        "        running_loss += loss.item() * inputs.size(0) \n",
        "        running_corrects += torch.sum(preds == labels.data)  # labels.data ??? or labels.detach()\n",
        "\n",
        "      if phase == 'train':\n",
        "        scheduler.step()\n",
        "        \n",
        "      epoch_loss = running_loss / data_size[phase]\n",
        "      epoch_acc = running_corrects.double() / data_size[phase]\n",
        "\n",
        "      print(f'{phase} Loss: {epoch_loss:.4f} Acc: {epoch_acc:.4f}')\n",
        "\n",
        "      if phase == 'val' and epoch_acc > best_acc:\n",
        "        best_acc = epoch_acc\n",
        "        best_model_wts = copy.deepcopy(model.state_dict())\n",
        "\n",
        "    print()\n",
        "\n",
        "  time_elapsed = time.time() - since\n",
        "  print(f'Training complete in {time_elapsed // 60:.0f}m {time_elapsed % 60:.0f}s')\n",
        "  print(f'Best val Acc: {best_acc:4f}')\n",
        "\n",
        "  # load best model weights\n",
        "  model.load_state_dict(best_model_wts)\n",
        "  return model\n",
        "\n",
        "\n"
      ],
      "metadata": {
        "id": "oNqOYwIlieQx"
      },
      "execution_count": 10,
      "outputs": []
    },
    {
      "cell_type": "code",
      "source": [
        "input"
      ],
      "metadata": {
        "colab": {
          "base_uri": "https://localhost:8080/"
        },
        "id": "oi9fgOAkeSJw",
        "outputId": "b0942f50-af50-40f5-f48f-d2dcb5e1030d"
      },
      "execution_count": 11,
      "outputs": [
        {
          "output_type": "execute_result",
          "data": {
            "text/plain": [
              "<bound method Kernel.raw_input of <google.colab._kernel.Kernel object at 0x7f543469d210>>"
            ]
          },
          "metadata": {},
          "execution_count": 11
        }
      ]
    },
    {
      "cell_type": "markdown",
      "source": [
        "no difference between with torch.no_grad()  & with torch.set_grad_enabled(False)\n",
        "\n",
        "\n",
        "there is an additional functionality of torch.set_grad_enabled over torch.no_grad when used in a with-statement which lets you control to switch on or off gradient computation\n"
      ],
      "metadata": {
        "id": "EazhqKzbqpls"
      }
    },
    {
      "cell_type": "markdown",
      "source": [
        "# Finetuning the convnet\n",
        "Load a pretrained model and reset final fully connected layer.\n",
        "\n",
        "It is common in this method to set the learning rate to a smaller number. This is done because the network is already trained, and only minor changes are required to “finetune” it to a new dataset."
      ],
      "metadata": {
        "id": "t1TP2P8jLUj8"
      }
    },
    {
      "cell_type": "code",
      "source": [
        "model_ft = torchvision.models.resnet18(weights=models.ResNet18_Weights.DEFAULT)  # ResNet18_Weights.DEFAULT : best weights"
      ],
      "metadata": {
        "colab": {
          "base_uri": "https://localhost:8080/",
          "height": 66,
          "referenced_widgets": [
            "1db5db1ef3b442ea87495c287dedf9cd",
            "a4b33124f52247d3a0bef6a31e785e11",
            "85ebf94a84424db4b0c222ef047f1392",
            "c1febdf71487459c9ef6058d4afb1376",
            "3fd35d33bdaa4ac8b28f85254ea3329d",
            "92370a7271344bf6a43f64808be0a283",
            "63b71ed90c3544479c9838071c1bd24a",
            "7550b8dc533a4c5d86b1618588ebbe29",
            "91ca7e8954c34c3f827c80764737fa7c",
            "df59082d643a45ebbc31ee646c73dac0",
            "5f8e7298c0314b23bed0c9c7ab980ca9"
          ]
        },
        "id": "5f7SvRL_LUHS",
        "outputId": "93c38fff-d2f8-4c4e-eeb5-4ea48763432d"
      },
      "execution_count": 12,
      "outputs": [
        {
          "output_type": "stream",
          "name": "stderr",
          "text": [
            "Downloading: \"https://download.pytorch.org/models/resnet18-f37072fd.pth\" to /root/.cache/torch/hub/checkpoints/resnet18-f37072fd.pth\n"
          ]
        },
        {
          "output_type": "display_data",
          "data": {
            "text/plain": [
              "  0%|          | 0.00/44.7M [00:00<?, ?B/s]"
            ],
            "application/vnd.jupyter.widget-view+json": {
              "version_major": 2,
              "version_minor": 0,
              "model_id": "1db5db1ef3b442ea87495c287dedf9cd"
            }
          },
          "metadata": {}
        }
      ]
    },
    {
      "cell_type": "markdown",
      "source": [
        "Here we use Resnet18, as our dataset is small and only has two classes. When we print the model, we see that the last layer is a fully connected layer as shown below:\n",
        "\n",
        "(fc): Linear(in_features=512, out_features=1000, bias=True)\n",
        "\n",
        "which we can access by *model.fc*\n",
        "\n",
        "Thus, we must reinitialize model.fc to be a Linear layer with 512 input features and 2 output features with:\n",
        "\n",
        "model.fc = nn.Linear(512, num_classes)"
      ],
      "metadata": {
        "id": "JTAXOlMeRwT4"
      }
    },
    {
      "cell_type": "markdown",
      "source": [
        "Costructur of nn.Lienar\n",
        "\n",
        "\n",
        "```\n",
        "def __init__(self, in_features, out_features, bias=True):\n",
        "    super(Linear, self).__init__()\n",
        "    self.in_features = in_features # num inputs\n",
        "    self.out_features = out_features # num outputs\n",
        "    self.weight = Parameter(torch.Tensor(out_features, in_features))\n",
        "    if bias:\n",
        "        self.bias = Parameter(torch.Tensor(out_features))\n",
        "```\n",
        "\n",
        "so, to get input_size we have to call object.in_feature and object here is fc(nn.linear)\n",
        "\n"
      ],
      "metadata": {
        "id": "xMkrYtMOWJ3F"
      }
    },
    {
      "cell_type": "code",
      "source": [
        "print(f'the last fully conected layer : input_size={model_ft.fc.in_features} and output_size={model_ft.fc.out_features} ')"
      ],
      "metadata": {
        "colab": {
          "base_uri": "https://localhost:8080/"
        },
        "id": "wId99_tgZ9ol",
        "outputId": "5992c197-b5e6-45b7-b23b-714818add109"
      },
      "execution_count": 13,
      "outputs": [
        {
          "output_type": "stream",
          "name": "stdout",
          "text": [
            "the last fully conected layer : input_size=512 and output_size=1000 \n"
          ]
        }
      ]
    },
    {
      "cell_type": "code",
      "source": [
        "# an example how to get conv1 layer information\n",
        "print(f'conv1 : in_channels={model_ft.conv1.in_channels}, out_channels={model_ft.conv1.out_channels}, kernel={model_ft.conv1.kernel_size}  ')"
      ],
      "metadata": {
        "colab": {
          "base_uri": "https://localhost:8080/"
        },
        "id": "E-M_WaCpUUeB",
        "outputId": "22dd8dbf-29f4-4f80-ec7f-01213e97d66a"
      },
      "execution_count": 14,
      "outputs": [
        {
          "output_type": "stream",
          "name": "stdout",
          "text": [
            "conv1 : in_channels=3, out_channels=64, kernel=(7, 7)  \n"
          ]
        }
      ]
    },
    {
      "cell_type": "code",
      "source": [
        "model_ft.fc"
      ],
      "metadata": {
        "colab": {
          "base_uri": "https://localhost:8080/"
        },
        "id": "kJuSMPFtbNpP",
        "outputId": "ece2dd9e-3750-4d5f-99af-4eb6be1c65c6"
      },
      "execution_count": 15,
      "outputs": [
        {
          "output_type": "execute_result",
          "data": {
            "text/plain": [
              "Linear(in_features=512, out_features=1000, bias=True)"
            ]
          },
          "metadata": {},
          "execution_count": 15
        }
      ]
    },
    {
      "cell_type": "code",
      "source": [
        "model_ft = torchvision.models.resnet18(weights=models.ResNet18_Weights.DEFAULT) \n",
        "input_size = model_ft.fc.in_features\n",
        "# redefine the fc layer\n",
        "model_ft.fc = nn.Linear(input_size, 2)\n",
        "\n",
        "model_ft = model_ft.to(device)"
      ],
      "metadata": {
        "id": "u0VgiXv9a35H"
      },
      "execution_count": 16,
      "outputs": []
    },
    {
      "cell_type": "code",
      "source": [
        "model_ft.fc"
      ],
      "metadata": {
        "colab": {
          "base_uri": "https://localhost:8080/"
        },
        "outputId": "c65a9187-6329-4091-faac-1bff339650a9",
        "id": "vBjWONyNbVlR"
      },
      "execution_count": 17,
      "outputs": [
        {
          "output_type": "execute_result",
          "data": {
            "text/plain": [
              "Linear(in_features=512, out_features=2, bias=True)"
            ]
          },
          "metadata": {},
          "execution_count": 17
        }
      ]
    },
    {
      "cell_type": "markdown",
      "source": [
        "# StepLR\n",
        "\n",
        "![aa.jpg](data:image/jpeg;base64,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)"
      ],
      "metadata": {
        "id": "8U4uLv95clDI"
      }
    },
    {
      "cell_type": "code",
      "source": [
        "criterion = nn.CrossEntropyLoss()\n",
        "\n",
        "# Observe that all parameters are being optimized\n",
        "optimizer_ft = optim.SGD(model_ft.parameters(), lr=0.001, momentum=0.9)\n",
        "\n",
        "# Decay LR by a factor of 0.1 every 7 epochs\n",
        "exp_lr_scheduler = lr_scheduler.StepLR(optimizer_ft, step_size=7, gamma=0.1)"
      ],
      "metadata": {
        "id": "zqrea7gibiAF"
      },
      "execution_count": 18,
      "outputs": []
    },
    {
      "cell_type": "markdown",
      "source": [
        "# Train and evaluate"
      ],
      "metadata": {
        "id": "-5tSSo1uc93F"
      }
    },
    {
      "cell_type": "code",
      "source": [
        "model_ft = train_model(model_ft, criterion, optimizer_ft, exp_lr_scheduler,num_epochs=25)"
      ],
      "metadata": {
        "colab": {
          "base_uri": "https://localhost:8080/"
        },
        "id": "M5Bf7nSpc9lX",
        "outputId": "fca8c287-da44-459b-8421-7210c76bdad1"
      },
      "execution_count": 19,
      "outputs": [
        {
          "output_type": "stream",
          "name": "stdout",
          "text": [
            "Epoch 0/24 \n",
            "__________\n",
            "train Loss: 0.5826 Acc: 0.7336\n",
            "val Loss: 0.2005 Acc: 0.9216\n",
            "\n",
            "Epoch 1/24 \n",
            "__________\n",
            "train Loss: 0.3826 Acc: 0.8525\n",
            "val Loss: 0.2830 Acc: 0.9085\n",
            "\n",
            "Epoch 2/24 \n",
            "__________\n",
            "train Loss: 0.5222 Acc: 0.7746\n",
            "val Loss: 0.2472 Acc: 0.9346\n",
            "\n",
            "Epoch 3/24 \n",
            "__________\n",
            "train Loss: 0.7334 Acc: 0.7090\n",
            "val Loss: 0.3832 Acc: 0.8301\n",
            "\n",
            "Epoch 4/24 \n",
            "__________\n",
            "train Loss: 0.9108 Acc: 0.6762\n",
            "val Loss: 0.5630 Acc: 0.7908\n",
            "\n",
            "Epoch 5/24 \n",
            "__________\n",
            "train Loss: 0.6174 Acc: 0.7541\n",
            "val Loss: 0.5402 Acc: 0.8301\n",
            "\n",
            "Epoch 6/24 \n",
            "__________\n",
            "train Loss: 0.8787 Acc: 0.7131\n",
            "val Loss: 0.5228 Acc: 0.8954\n",
            "\n",
            "Epoch 7/24 \n",
            "__________\n",
            "train Loss: 0.6331 Acc: 0.8197\n",
            "val Loss: 0.3587 Acc: 0.8954\n",
            "\n",
            "Epoch 8/24 \n",
            "__________\n",
            "train Loss: 0.6064 Acc: 0.7623\n",
            "val Loss: 0.3176 Acc: 0.8889\n",
            "\n",
            "Epoch 9/24 \n",
            "__________\n",
            "train Loss: 0.4206 Acc: 0.8033\n",
            "val Loss: 0.2730 Acc: 0.9085\n",
            "\n",
            "Epoch 10/24 \n",
            "__________\n",
            "train Loss: 0.3312 Acc: 0.8730\n",
            "val Loss: 0.2378 Acc: 0.9150\n",
            "\n",
            "Epoch 11/24 \n",
            "__________\n",
            "train Loss: 0.4276 Acc: 0.8197\n",
            "val Loss: 0.2359 Acc: 0.9085\n",
            "\n",
            "Epoch 12/24 \n",
            "__________\n",
            "train Loss: 0.3231 Acc: 0.8607\n",
            "val Loss: 0.2344 Acc: 0.9281\n",
            "\n",
            "Epoch 13/24 \n",
            "__________\n",
            "train Loss: 0.4176 Acc: 0.8197\n",
            "val Loss: 0.2426 Acc: 0.9020\n",
            "\n",
            "Epoch 14/24 \n",
            "__________\n",
            "train Loss: 0.2988 Acc: 0.8730\n",
            "val Loss: 0.1930 Acc: 0.9216\n",
            "\n",
            "Epoch 15/24 \n",
            "__________\n",
            "train Loss: 0.2529 Acc: 0.9098\n",
            "val Loss: 0.2128 Acc: 0.9150\n",
            "\n",
            "Epoch 16/24 \n",
            "__________\n",
            "train Loss: 0.3519 Acc: 0.8566\n",
            "val Loss: 0.2071 Acc: 0.9216\n",
            "\n",
            "Epoch 17/24 \n",
            "__________\n",
            "train Loss: 0.3517 Acc: 0.8566\n",
            "val Loss: 0.2095 Acc: 0.9281\n",
            "\n",
            "Epoch 18/24 \n",
            "__________\n",
            "train Loss: 0.2005 Acc: 0.9303\n",
            "val Loss: 0.2111 Acc: 0.9150\n",
            "\n",
            "Epoch 19/24 \n",
            "__________\n",
            "train Loss: 0.3077 Acc: 0.8852\n",
            "val Loss: 0.2179 Acc: 0.9216\n",
            "\n",
            "Epoch 20/24 \n",
            "__________\n",
            "train Loss: 0.2363 Acc: 0.8934\n",
            "val Loss: 0.2103 Acc: 0.9020\n",
            "\n",
            "Epoch 21/24 \n",
            "__________\n",
            "train Loss: 0.2762 Acc: 0.8811\n",
            "val Loss: 0.2045 Acc: 0.9085\n",
            "\n",
            "Epoch 22/24 \n",
            "__________\n",
            "train Loss: 0.2597 Acc: 0.8893\n",
            "val Loss: 0.2215 Acc: 0.9085\n",
            "\n",
            "Epoch 23/24 \n",
            "__________\n",
            "train Loss: 0.2604 Acc: 0.8934\n",
            "val Loss: 0.2076 Acc: 0.9020\n",
            "\n",
            "Epoch 24/24 \n",
            "__________\n",
            "train Loss: 0.2653 Acc: 0.8852\n",
            "val Loss: 0.2259 Acc: 0.8954\n",
            "\n",
            "Training complete in 1m 36s\n",
            "Best val Acc: 0.934641\n"
          ]
        }
      ]
    },
    {
      "cell_type": "markdown",
      "source": [
        "# ConvNet as fixed feature extractor\n",
        "Here, we need to freeze all the network except the final layer. We need to set requires_grad = False to freeze the parameters so that the gradients are not computed in backward()."
      ],
      "metadata": {
        "id": "dadK-DTq6oLv"
      }
    },
    {
      "cell_type": "code",
      "source": [
        "model_conv = torchvision.models.resnet18(weights=torchvision.models.ResNet18_Weights.DEFAULT)\n",
        "for params in model_conv.parameters():\n",
        "  params.requires_grad = False\n",
        "\n",
        "# Parameters of newly constructed modules have requires_grad=True by default\n",
        "num_input = model_conv.fc.in_features\n",
        "model_conv.fc = nn.Linear(num_input,2)\n",
        "\n",
        "model_conv = model_conv.to(device)\n",
        "\n",
        "criterion = nn.CrossEntropyLoss()\n",
        "\n",
        "# Observe that only parameters of final layer are being optimized as opposed to before.\n",
        "optimizer_conv = torch.optim.SGD(model_conv.fc.parameters(),lr=0.001,momentum=0.9)\n",
        "\n",
        "# Decay LR by a factor of 0.1 every 7 epochs\n",
        "exp_lr_scheduler = lr_scheduler.StepLR(optimizer_conv, step_size=7, gamma=0.1)\n"
      ],
      "metadata": {
        "id": "4QftKdKB61Mn"
      },
      "execution_count": 20,
      "outputs": []
    },
    {
      "cell_type": "markdown",
      "source": [
        "# Train and evaluate\n",
        "On CPU this will take about half the time compared to previous scenario. This is expected as gradients don’t need to be computed for most of the network. However, forward does need to be computed."
      ],
      "metadata": {
        "id": "pP-FLFQV9p2h"
      }
    },
    {
      "cell_type": "code",
      "source": [
        "model_conv = train_model(model_conv,criterion,optimizer_conv,exp_lr_scheduler,num_epochs=25)"
      ],
      "metadata": {
        "colab": {
          "base_uri": "https://localhost:8080/"
        },
        "id": "JruZ3Ql_90fh",
        "outputId": "14debd44-5e61-4fbd-9277-3dd0abaf1b23"
      },
      "execution_count": 21,
      "outputs": [
        {
          "output_type": "stream",
          "name": "stdout",
          "text": [
            "Epoch 0/24 \n",
            "__________\n",
            "train Loss: 0.5854 Acc: 0.6844\n",
            "val Loss: 0.3603 Acc: 0.8366\n",
            "\n",
            "Epoch 1/24 \n",
            "__________\n",
            "train Loss: 0.4926 Acc: 0.7787\n",
            "val Loss: 0.3632 Acc: 0.8627\n",
            "\n",
            "Epoch 2/24 \n",
            "__________\n",
            "train Loss: 0.6010 Acc: 0.7705\n",
            "val Loss: 0.1855 Acc: 0.9412\n",
            "\n",
            "Epoch 3/24 \n",
            "__________\n",
            "train Loss: 0.4039 Acc: 0.8279\n",
            "val Loss: 0.3331 Acc: 0.8693\n",
            "\n",
            "Epoch 4/24 \n",
            "__________\n",
            "train Loss: 0.5524 Acc: 0.7664\n",
            "val Loss: 0.2246 Acc: 0.9216\n",
            "\n",
            "Epoch 5/24 \n",
            "__________\n",
            "train Loss: 0.5113 Acc: 0.8197\n",
            "val Loss: 0.1824 Acc: 0.9412\n",
            "\n",
            "Epoch 6/24 \n",
            "__________\n",
            "train Loss: 0.4708 Acc: 0.8074\n",
            "val Loss: 0.1876 Acc: 0.9542\n",
            "\n",
            "Epoch 7/24 \n",
            "__________\n",
            "train Loss: 0.3561 Acc: 0.8689\n",
            "val Loss: 0.2038 Acc: 0.9412\n",
            "\n",
            "Epoch 8/24 \n",
            "__________\n",
            "train Loss: 0.2851 Acc: 0.8811\n",
            "val Loss: 0.1984 Acc: 0.9477\n",
            "\n",
            "Epoch 9/24 \n",
            "__________\n",
            "train Loss: 0.4393 Acc: 0.8361\n",
            "val Loss: 0.2105 Acc: 0.9477\n",
            "\n",
            "Epoch 10/24 \n",
            "__________\n",
            "train Loss: 0.3596 Acc: 0.8648\n",
            "val Loss: 0.1754 Acc: 0.9477\n",
            "\n",
            "Epoch 11/24 \n",
            "__________\n",
            "train Loss: 0.3367 Acc: 0.8566\n",
            "val Loss: 0.1890 Acc: 0.9412\n",
            "\n",
            "Epoch 12/24 \n",
            "__________\n",
            "train Loss: 0.2645 Acc: 0.8770\n",
            "val Loss: 0.1906 Acc: 0.9477\n",
            "\n",
            "Epoch 13/24 \n",
            "__________\n",
            "train Loss: 0.3451 Acc: 0.8689\n",
            "val Loss: 0.1937 Acc: 0.9477\n",
            "\n",
            "Epoch 14/24 \n",
            "__________\n",
            "train Loss: 0.3122 Acc: 0.8811\n",
            "val Loss: 0.1848 Acc: 0.9477\n",
            "\n",
            "Epoch 15/24 \n",
            "__________\n",
            "train Loss: 0.4003 Acc: 0.8156\n",
            "val Loss: 0.1931 Acc: 0.9477\n",
            "\n",
            "Epoch 16/24 \n",
            "__________\n",
            "train Loss: 0.3442 Acc: 0.8443\n",
            "val Loss: 0.1894 Acc: 0.9346\n",
            "\n",
            "Epoch 17/24 \n",
            "__________\n",
            "train Loss: 0.3331 Acc: 0.8607\n",
            "val Loss: 0.1937 Acc: 0.9346\n",
            "\n",
            "Epoch 18/24 \n",
            "__________\n",
            "train Loss: 0.3162 Acc: 0.8689\n",
            "val Loss: 0.1887 Acc: 0.9412\n",
            "\n",
            "Epoch 19/24 \n",
            "__________\n",
            "train Loss: 0.3047 Acc: 0.8689\n",
            "val Loss: 0.1818 Acc: 0.9477\n",
            "\n",
            "Epoch 20/24 \n",
            "__________\n",
            "train Loss: 0.3595 Acc: 0.8607\n",
            "val Loss: 0.1973 Acc: 0.9412\n",
            "\n",
            "Epoch 21/24 \n",
            "__________\n",
            "train Loss: 0.2911 Acc: 0.8689\n",
            "val Loss: 0.1761 Acc: 0.9412\n",
            "\n",
            "Epoch 22/24 \n",
            "__________\n",
            "train Loss: 0.3017 Acc: 0.8811\n",
            "val Loss: 0.1932 Acc: 0.9477\n",
            "\n",
            "Epoch 23/24 \n",
            "__________\n",
            "train Loss: 0.3293 Acc: 0.8607\n",
            "val Loss: 0.1768 Acc: 0.9412\n",
            "\n",
            "Epoch 24/24 \n",
            "__________\n",
            "train Loss: 0.4310 Acc: 0.8320\n",
            "val Loss: 0.1959 Acc: 0.9477\n",
            "\n",
            "Training complete in 1m 23s\n",
            "Best val Acc: 0.954248\n"
          ]
        }
      ]
    }
  ]
}